{
 "cells": [
  {
   "cell_type": "markdown",
   "metadata": {},
   "source": [
    "# Tutorials\n",
    "**Note**: The examples are found in the following jupyter notebook `xmen/examples/examples.ipynb` where they can be run interactively. Before running the notebook make sure that `xmen` is on your `PYTHONPATH` following the steps given in Setup.\n",
    "\n",
    "## Back to Basics"
   ]
  },
  {
   "cell_type": "markdown",
   "metadata": {},
   "source": [
    "### Defining Experiments in Python"
   ]
  },
  {
   "cell_type": "markdown",
   "metadata": {},
   "source": [
    "Experiments at there most basic are typically defined by some function code which operates on a set of parameters. We typically might define an experiment in python by defining a function which takes in a set of arguments and does something with them. For example a simple experiment script might look something like:"
   ]
  },
  {
   "cell_type": "code",
   "execution_count": 1,
   "metadata": {},
   "outputs": [],
   "source": [
    "#<hello_world.py>\n",
    "from argparse import ArgumentParser\n",
    "\n",
    "parser = ArgumentParser()\n",
    "parser.add_argument('-a', type=str, default='Hello', help=\"the first argument\")\n",
    "parser.add_argument('-b', type=str, default='World!', help=\"the second argument\")\n",
    "\n",
    "def hello_world(\n",
    "    a: str = 'Hello', \n",
    "    b: str = 'World'\n",
    "):\n",
    "    \"\"\"A simple python experiment.\n",
    "    \n",
    "    a (str): the first argument\n",
    "    b (str): the second argument\n",
    "    \"\"\"\n",
    "    print(f'{a}  {b}')\n",
    "\n",
    "    ...  #  Whatever other experiment code you want"
   ]
  },
  {
   "cell_type": "markdown",
   "metadata": {},
   "source": [
    "Having defined an experiment we can now run it from the command line as:\n",
    "\n",
    "```bash\n",
    "python hello_world.py -a Hello -b World!\n",
    "```"
   ]
  },
  {
   "cell_type": "markdown",
   "metadata": {},
   "source": [
    "This is fine for simple experiments with only a few parameters, however, once we start scaling up defining experiments in this way becomes increasingly cumbersome. Having to define the parameter names, type, defaults and help, once in the argument parser, once in the function signature and also in the functions doc string is laborious and increases the chance of errors! "
   ]
  },
  {
   "cell_type": "markdown",
   "metadata": {},
   "source": [
    "### Defining Experiments in Xmen"
   ]
  },
  {
   "cell_type": "markdown",
   "metadata": {},
   "source": [
    "Xmen side-steps the need to redefine parameters; a functional experiment corresponds to a single function definiton:"
   ]
  },
  {
   "cell_type": "code",
   "execution_count": 2,
   "metadata": {},
   "outputs": [],
   "source": [
    "from xmen.experiment import Root\n",
    "\n",
    "def hello_world(\n",
    "    root: Root,\n",
    "    a: str = 'Hello',  # the first argument\n",
    "    b: str = 'World'   # the second argument\n",
    "):\n",
    "    \"\"\"A simple experiment using the xmen functional api\"\"\"\n",
    "    print(f'{a}  {b}')"
   ]
  },
  {
   "cell_type": "markdown",
   "metadata": {},
   "source": [
    "In comparison to the previous example, parameters are defined once in the function signature, allowing the name, type, default and help message of the parameter to be defined in a single line of code. \n",
    "\n",
    "The only change required to the function ``hello_world`` is the introduction of a new first argument `root`. But what is this for? Before being run each experiment is assigned a particular directory (in this case `/tmp/hello_world`) which is passed to the experiment in `root`. Whilst, this directory is unused in our example, principally there are two things that an experiment might do with ``root``:\n",
    "1. ``root.directory`` gives the directory assigned to the experiment which the experiment is free (and encouraged!) to use as it wishes\n",
    "2. ``root.message(...)`` provides a simple messaging protocol with root directory\n",
    "\n",
    "For example we could modify the previouse experiment to use root as:"
   ]
  },
  {
   "cell_type": "code",
   "execution_count": 3,
   "metadata": {},
   "outputs": [],
   "source": [
    "from xmen.experiment import Root\n",
    "\n",
    "def hello_world(\n",
    "    root: Root,        # experiments are assigned a root before being executed\n",
    "    a: str = 'Hello',  # the first argument\n",
    "    b: str = 'World'   # the second argument\n",
    "):\n",
    "    \"\"\"A hello world experiment designed to demonstrate\n",
    "    defining experiments through the functional experiment api\"\"\"\n",
    "    print(f'{a}  {b}')\n",
    "\n",
    "    ...  #  Whatever other experiment code you want\n",
    "\n",
    "    with open(root.directory + '/out.txt', 'w') as f:\n",
    "        f.write(f'{a} {b}')\n",
    "    root.message({'a': a, 'b': b})"
   ]
  },
  {
   "cell_type": "markdown",
   "metadata": {},
   "source": [
    "### Xmen takes care of the rest..."
   ]
  },
  {
   "cell_type": "markdown",
   "metadata": {},
   "source": [
    "#### Command Line Interface"
   ]
  },
  {
   "cell_type": "markdown",
   "metadata": {},
   "source": [
    "Alongisde a python api xmen also provides a command line interfce for running experiments:"
   ]
  },
  {
   "cell_type": "code",
   "execution_count": 11,
   "metadata": {},
   "outputs": [
    {
     "name": "stdout",
     "output_type": "stream",
     "text": [
      "usage: xman [-h] [--list] [--add MODULE NAME MODULE NAME] [--remove REMOVE]\n",
      "            [name [name ...]] ...\n",
      "\n",
      "||||||||||||||||||||||||| WELCOME TO ||||||||||||||||||||||||||\n",
      "||                                                           ||\n",
      "||    \\\\\\  ///  |||\\\\        //|||  |||||||||  |||\\\\   |||   ||\n",
      "||     \\\\\\///   |||\\\\\\      ///|||  |||        |||\\\\\\  |||   ||\n",
      "||      ||||    ||| \\\\\\    /// |||  ||||||     ||| \\\\\\ |||   ||\n",
      "||     ///\\\\\\   |||  \\\\\\  ///  |||  |||        |||  \\\\\\|||   ||\n",
      "||    ///  \\\\\\  |||   \\\\\\///   |||  |||||||||  |||   \\\\|||   ||\n",
      "||                                                           ||\n",
      "|||||||||||| FAST - REPRODUCIBLE - EXPERIMENTATION ||||||||||||\n",
      "\n",
      "positional arguments:\n",
      "  name                  The name of the experiment to run\n",
      "  flags                 Python flags (pass --help for more info)\n",
      "\n",
      "optional arguments:\n",
      "  -h, --help            show this help message and exit\n",
      "  --list, -l            List available python experiments\n",
      "  --add MODULE NAME MODULE NAME\n",
      "                        Add a python Experiment class or run script (it must already be on PYTHONPATH)\n",
      "  --remove REMOVE, -r REMOVE\n",
      "                        Remove a python experiment (passed by Name)\n"
     ]
    }
   ],
   "source": [
    "%%bash\n",
    "xmen"
   ]
  },
  {
   "cell_type": "markdown",
   "metadata": {},
   "source": [
    "#### Running an Experiment"
   ]
  },
  {
   "cell_type": "markdown",
   "metadata": {},
   "source": [
    "Every experiment conforming to the xmen python api can be run using the xmen command line interface. The function `hello_world` above is actually a copy of `hello_world` in `xmen.examples.hello_world`. It can be run from the command line as"
   ]
  },
  {
   "cell_type": "code",
   "execution_count": 5,
   "metadata": {},
   "outputs": [
    {
     "name": "stdout",
     "output_type": "stream",
     "text": [
      "Hello  World\n"
     ]
    }
   ],
   "source": [
    "%%bash\n",
    "xmen --add xmen.examples.hello_world hello_world\n",
    "xmen hello_world -x /tmp/hello_world"
   ]
  },
  {
   "cell_type": "markdown",
   "metadata": {},
   "source": [
    "In the first step, xmen retrieves the ``hello_world`` function from the `hello_world.py` module and adds it to its internal database. And in the second, `xmen` runs the experiment linking it to the directory `/tmp/test`."
   ]
  },
  {
   "cell_type": "markdown",
   "metadata": {},
   "source": [
    "#### Automatic Argument Parser"
   ]
  },
  {
   "cell_type": "markdown",
   "metadata": {},
   "source": [
    "Xmen automatically allows parameters to be set from the command line without defining a specific argument parser"
   ]
  },
  {
   "cell_type": "code",
   "execution_count": 6,
   "metadata": {},
   "outputs": [
    {
     "name": "stdout",
     "output_type": "stream",
     "text": [
      "Updating parameters {'a': 'Bye Bye', 'b': 'Planet!'}\n",
      "Bye Bye  Planet!\n"
     ]
    }
   ],
   "source": [
    "%%bash\n",
    "xmen hello_world -u \"{a: Bye Bye, b: Planet!}\" -x /tmp/hello_world"
   ]
  },
  {
   "cell_type": "markdown",
   "metadata": {},
   "source": [
    "#### Help Generation\n",
    "Alongside running experiments the command line tool automatically takes care of documentation for you."
   ]
  },
  {
   "cell_type": "code",
   "execution_count": 7,
   "metadata": {},
   "outputs": [
    {
     "name": "stdout",
     "output_type": "stream",
     "text": [
      "A hello world experiment designed to demonstrate\n",
      "    defining experiments through the functional experiment api\n",
      "\n",
      "Parameters:\n",
      "    a: str=Hello ~ the first argument\n",
      "    b: str=World ~ the second argument\n",
      "\n",
      "For more help use --help.\n"
     ]
    }
   ],
   "source": [
    "%%bash\n",
    "xmen hello_world"
   ]
  },
  {
   "cell_type": "markdown",
   "metadata": {},
   "source": [
    "#### Book Keeping, Vesioning and Reproducibility\n",
    "The other advantage of linking an experiment with a root is book keeping. Every singe time an experiment is run xmen automatically logs all the information that might be needed to repruce the experiment at a later date. For example looking at"
   ]
  },
  {
   "cell_type": "code",
   "execution_count": 10,
   "metadata": {},
   "outputs": [
    {
     "name": "stdout",
     "output_type": "stream",
     "text": [
      "_created: 11-14-20-15:29:46  # _created: str=now_time ~ The date the experiment was created\n",
      "_messages: # _messages: Dict[Any, Any]={} ~ Messages left by the experiment\n",
      "  a: Hello\n",
      "  b: World\n",
      "_meta: # _meta: Optional[Dict]=None ~ The global configuration for the experiment manager\n",
      "  mac: '0x6c96cfdb71b9'\n",
      "  host: robw-MacBook-2\n",
      "  user: robweston\n",
      "  home: /Users/robweston\n",
      "_name: hello_world # _name: Optional[str]=None ~ The name of the experiment (under root)\n",
      "_purpose: '' # _purpose: Optional[str]=None ~ A description of the experiment purpose\n",
      "_root: /tmp # _root: Optional[str]=None ~ The root directory of the experiment\n",
      "_status: finished # _status: str='default' ~ One of ['default' | 'created' | 'running' | 'error' | 'finished']\n",
      "_version: # _version: Optional[Dict[Any, Any]]=None ~ Experiment version information. See `get_version`\n",
      "  module: xmen.examples.hello_world\n",
      "  function: hello_world\n",
      "  path: /Users/robweston/miniconda3/envs/python3.6/lib/python3.6/site-packages/xmen/examples/hello_world.py\n",
      "a: Hello # a: str=Hello\n",
      "b: World # b: str=World\n"
     ]
    }
   ],
   "source": [
    "%%bash\n",
    "cat /tmp/hello_world/params.yml"
   ]
  },
  {
   "cell_type": "markdown",
   "metadata": {},
   "source": [
    "we can see:\n",
    "    - `_created` time the experiment was run\n",
    "    - `_messages` any messages logged with the experiment during execution\n",
    "    - `_meta` information about the system the experiment was run on\n",
    "    - `_status` the state of the experiment. If an error occurs during excution then the experiment state will be updated to `'errror'`.\n",
    "    - `_version` the information needed to re-run the experiment. If the file lives in a git repo then the git commit, path to the repositoy and remote repository are also loggeed automatically.\n",
    "\n"
   ]
  },
  {
   "cell_type": "code",
   "execution_count": null,
   "metadata": {},
   "outputs": [],
   "source": []
  }
 ],
 "metadata": {
  "kernelspec": {
   "display_name": "Python 3",
   "language": "python",
   "name": "python3"
  },
  "language_info": {
   "codemirror_mode": {
    "name": "ipython",
    "version": 3
   },
   "file_extension": ".py",
   "mimetype": "text/x-python",
   "name": "python",
   "nbconvert_exporter": "python",
   "pygments_lexer": "ipython3",
   "version": "3.6.8"
  }
 },
 "nbformat": 4,
 "nbformat_minor": 4
}
