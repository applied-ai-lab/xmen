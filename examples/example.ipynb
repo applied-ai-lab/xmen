{
 "cells": [
  {
   "cell_type": "markdown",
   "metadata": {},
   "source": [
    "# Examples\n",
    "**Note**: The examples are found in the following jupyter notebook `xmen/examples/examples.ipynb` where they can be run interactively. Before running the notebook make sure that `xmen` is on your `PYTHONPATH` following the steps given in Setup.\n",
    "\n",
    "## Defining an experiment\n",
    "New experiments are defined by specifying **parameters** (as public class attributes) and **execution** (by overloading the `run` method). For example"
   ]
  },
  {
   "cell_type": "code",
   "execution_count": 1,
   "metadata": {},
   "outputs": [],
   "source": [
    "from xmen.experiment import Experiment\n",
    "import os\n",
    "\n",
    "class AnExperiment(Experiment):\n",
    "    \"\"\"The doc string of AnExperiment class\"\"\"\n",
    "    \n",
    "    def __init__(self):\n",
    "        \"\"\"The doc string of __init__ experiment class.\"\"\"\n",
    "        super(AnExperiment, self).__init__()\n",
    "        self.a: str = 'h'     # A parameter\n",
    "        self.b: int = 17      # Another parameter\n",
    "            \n",
    "        # Private attributes will not be treated as parameters\n",
    "        self._c = None\n",
    "    \n",
    "    def run(self):\n",
    "        print('\\nThe experiment state inside run is')\n",
    "        print(self.status)\n",
    "        \n",
    "        with open(os.path.join(self.root, self.name, 'logs.txt'), 'w') as f:\n",
    "            f.write('This was written from a running experiment')\n",
    "\n",
    "exp = AnExperiment()"
   ]
  },
  {
   "cell_type": "markdown",
   "metadata": {},
   "source": [
    "As the experiment class has a metaclass `TypedMeta` all derived classes will also inheret the meta class `TypedMeta`. Each parameter should be defined alongside there type, default value and documentation as:\n",
    "```python\n",
    "self.a: str = 'h'     # A parameter```\n",
    "\n",
    "This allows parameters to be defined quickly, with their type, default value and documentation inferred by consulting the `__init__` definition. Each attribute comment is automatically added to the Doc string of both the code and the class. Parameters are changed from their default values after instantiatian using the `update` method.\n",
    "\n",
    "Experiments may assume that they have access to a repository `{root}/{name}`. They are able to log, backup or save anything they want here during the execution of the experiment."
   ]
  },
  {
   "cell_type": "code",
   "execution_count": 2,
   "metadata": {},
   "outputs": [
    {
     "name": "stdout",
     "output_type": "stream",
     "text": [
      "status: default\n",
      "created: 07:47PM September 18, 2019\n",
      "messages:\n",
      "parameters:\n",
      "  a: g   # A parameter (default='h')\n",
      "  b: 17   # Another parameter (default=17)\n"
     ]
    }
   ],
   "source": [
    "exp.update({'a': 'g'})\n",
    "print(exp)"
   ]
  },
  {
   "cell_type": "markdown",
   "metadata": {},
   "source": [
    "Here you can see that the parameter `a` has been updated to `g`. Its default value is still preserved in the docstring. You can also see the `status` of the experiment is currently `default`. \n",
    "\n",
    "An experiments status is used to define what an experiment is able to do. With default status an experiment status an experiment can be initialised and its parameters updated **but not** run:"
   ]
  },
  {
   "cell_type": "code",
   "execution_count": 3,
   "metadata": {},
   "outputs": [
    {
     "name": "stdout",
     "output_type": "stream",
     "text": [
      "ValueError: An experiment in default status must be registered before it can be executed\n"
     ]
    }
   ],
   "source": [
    "try:\n",
    "    exp()\n",
    "except ValueError as e:\n",
    "    print('ValueError:', e)"
   ]
  },
  {
   "cell_type": "markdown",
   "metadata": {},
   "source": [
    "Default experiments are however allowed to be written out to a `defaults.yml` file. This can be used to initialise a new experiment from a set of parameters different to those defined in the init method:"
   ]
  },
  {
   "cell_type": "code",
   "execution_count": 4,
   "metadata": {},
   "outputs": [],
   "source": [
    "exp.to_defaults('/tmp')"
   ]
  },
  {
   "cell_type": "code",
   "execution_count": 5,
   "metadata": {},
   "outputs": [
    {
     "name": "stdout",
     "output_type": "stream",
     "text": [
      "created: 07:47PM September 18, 2019  #  The date the last time the parameters of the model were updated.\n",
      "version: #  A dictonary containing the experiment version information. See `get_version` for more info\n",
      "  module: /Users/robweston/xmen/examples/<ipython-input-1-4ff1dba6a4a0>\n",
      "  class: AnExperiment\n",
      "  git:\n",
      "    local: /Users/robweston/xmen\n",
      "    remote: https://github.com/robw4/xmen.git\n",
      "    commit: 7d9d2f875219b7d14bf6389fb6527d2425adc66a\n",
      "    branch: master\n",
      "a: g #  A parameter (default='h')\n",
      "b: 17 #  Another parameter (default=17)\n"
     ]
    }
   ],
   "source": [
    "%%bash\n",
    "echo \"$(cat /tmp/defaults.yml)\""
   ]
  },
  {
   "cell_type": "markdown",
   "metadata": {},
   "source": [
    "Additionally, the date the `defaults.yml` was created is stored in the `created` field. The documentation for each parameter is automatically loaded from the doc string of the class. We are now able to load a new experiment from this paticular parameter setting through the `from_yml` method call:"
   ]
  },
  {
   "cell_type": "code",
   "execution_count": 6,
   "metadata": {},
   "outputs": [
    {
     "name": "stdout",
     "output_type": "stream",
     "text": [
      "status: default\n",
      "created: 07:47PM September 18, 2019\n",
      "messages:\n",
      "version:\n",
      "  module: /Users/robweston/xmen/examples/<ipython-input-1-4ff1dba6a4a0>\n",
      "  class: AnExperiment\n",
      "  git:\n",
      "    local: /Users/robweston/xmen\n",
      "    remote: https://github.com/robw4/xmen.git\n",
      "    commit: 7d9d2f875219b7d14bf6389fb6527d2425adc66a\n",
      "    branch: master\n",
      "parameters:\n",
      "  a: g   # A parameter (default='h')\n",
      "  b: 17   # Another parameter (default=17)\n"
     ]
    }
   ],
   "source": [
    "# Now lets create a new experiment and load its state from the\n",
    "exp2 = AnExperiment()\n",
    "exp2.from_yml('/tmp/defaults.yml')\n",
    "print(exp2)"
   ]
  },
  {
   "cell_type": "markdown",
   "metadata": {},
   "source": [
    "## Running an experiment\n",
    "In order to be run an experiment object must first be registered to an experiment folder. This is achieved through the `register` method call. At this point the parameters of the experiment can no longer be changed. They are backed up to a `defaults.yml` inside the experiment folder. For example:"
   ]
  },
  {
   "cell_type": "code",
   "execution_count": 7,
   "metadata": {},
   "outputs": [],
   "source": [
    "%%bash \n",
    "rm -f '/tmp/a/params.yml'"
   ]
  },
  {
   "cell_type": "code",
   "execution_count": 8,
   "metadata": {},
   "outputs": [],
   "source": [
    "exp.register(root='/tmp', name='a', purpose='An example')"
   ]
  },
  {
   "cell_type": "markdown",
   "metadata": {},
   "source": [
    "Looking inside the project repository we now have:"
   ]
  },
  {
   "cell_type": "code",
   "execution_count": 9,
   "metadata": {},
   "outputs": [
    {
     "name": "stdout",
     "output_type": "stream",
     "text": [
      "Folder now contains:\n",
      "logs.txt\n",
      "params.yml\n"
     ]
    }
   ],
   "source": [
    "%%bash\n",
    "echo 'Folder now contains:'\n",
    "ls /tmp/a"
   ]
  },
  {
   "cell_type": "markdown",
   "metadata": {},
   "source": [
    "The `params.yml` file contains the following:"
   ]
  },
  {
   "cell_type": "code",
   "execution_count": 10,
   "metadata": {},
   "outputs": [
    {
     "name": "stdout",
     "output_type": "stream",
     "text": [
      "root: /tmp  #  The root directory to which the experiment belongs (should not be set)\n",
      "name: a #  The name of the experiment (should not be set)\n",
      "status: registered #  The status of the experiment (one of ['default' | 'created' | 'running' | 'error' | 'finished'])\n",
      "created: 07:47PM September 18, 2019 #  The date the last time the parameters of the model were updated.\n",
      "purpose: An example #  The purpose for the experiment (should not be set)\n",
      "messages: {} #  A dictionary of messages which are able to vary throughout the experiment (should not be set)\n",
      "version: #  A dictonary containing the experiment version information. See `get_version` for more info\n",
      "  module: /Users/robweston/xmen/examples/<ipython-input-1-4ff1dba6a4a0>\n",
      "  class: AnExperiment\n",
      "  git:\n",
      "    local: /Users/robweston/xmen\n",
      "    remote: https://github.com/robw4/xmen.git\n",
      "    commit: 7d9d2f875219b7d14bf6389fb6527d2425adc66a\n",
      "    branch: master\n",
      "a: g #  A parameter (default='h')\n",
      "b: 17 #  Another parameter (default=17)$\n"
     ]
    }
   ],
   "source": [
    "!echo \"$(cat /tmp/a/params.yml)$\""
   ]
  },
  {
   "cell_type": "markdown",
   "metadata": {},
   "source": [
    "An experiment **cannot** be registered to a repository already containing a `params.yml` file:"
   ]
  },
  {
   "cell_type": "code",
   "execution_count": 11,
   "metadata": {},
   "outputs": [
    {
     "name": "stdout",
     "output_type": "stream",
     "text": [
      "ValueError:  Experiment folder /tmp/a already contains a params.yml file. An Exeperiment cannot be created in an already existing experiment folder\n"
     ]
    }
   ],
   "source": [
    "exp2 = AnExperiment()\n",
    "try:\n",
    "    exp2.register(root='/tmp', name='a')\n",
    "except ValueError as e:\n",
    "    print('ValueError: ', e)"
   ]
  },
  {
   "cell_type": "markdown",
   "metadata": {},
   "source": [
    "However, instead an experiment object can be loaded from already existing `params.yml` using the method call `from_yaml`:"
   ]
  },
  {
   "cell_type": "code",
   "execution_count": 12,
   "metadata": {},
   "outputs": [
    {
     "name": "stdout",
     "output_type": "stream",
     "text": [
      "status: default\n",
      "created: 07:47PM September 18, 2019\n",
      "messages:\n",
      "parameters:\n",
      "  a: h   # A parameter (default='h')\n",
      "  b: 17   # Another parameter (default=17) \n",
      "\n",
      "root: /tmp\n",
      "name: a\n",
      "status: registered\n",
      "created: 07:47PM September 18, 2019\n",
      "purpose: An example\n",
      "messages:\n",
      "version:\n",
      "  module: /Users/robweston/xmen/examples/<ipython-input-1-4ff1dba6a4a0>\n",
      "  class: AnExperiment\n",
      "  git:\n",
      "    local: /Users/robweston/xmen\n",
      "    remote: https://github.com/robw4/xmen.git\n",
      "    commit: 7d9d2f875219b7d14bf6389fb6527d2425adc66a\n",
      "    branch: master\n",
      "parameters:\n",
      "  a: g   # A parameter (default='h')\n",
      "  b: 17   # Another parameter (default=17)\n"
     ]
    }
   ],
   "source": [
    "print(exp2, '\\n')\n",
    "exp2.from_yml('/tmp/a/params.yml')\n",
    "print(exp2)"
   ]
  },
  {
   "cell_type": "markdown",
   "metadata": {},
   "source": [
    "Now the parameter `a` has been updated to `g` (from its default `h`). When loading from an already created `params.yml` file the status of the experiment is updated to `registered`. The `created` attribute stores the time that the experiment was registered and root and name have also been filled."
   ]
  },
  {
   "cell_type": "markdown",
   "metadata": {},
   "source": [
    "> At the moment (as above) two experiments can share the same `params.yml` file. This may however be undesirable. In the future it may also be worth adding a locked attribute to the params.yml file, which is True when a params.yml file is linked to an Experiment object and False when it has been generated by the `ExperimentManager`"
   ]
  },
  {
   "cell_type": "markdown",
   "metadata": {},
   "source": [
    "After being registered an experiment may now be run by calling an experiment `__call__` method. Upon entering the `__call__` method an experiments status (and `params.yml`) file is updated to `running` before calling the experiments `run()` method. On leaving `run()` the experiment status is updated to either `finished` or `error`. "
   ]
  },
  {
   "cell_type": "code",
   "execution_count": 13,
   "metadata": {},
   "outputs": [
    {
     "name": "stdout",
     "output_type": "stream",
     "text": [
      "Before running:\n",
      "registered\n",
      "\n",
      "The experiment state inside run is\n",
      "running\n",
      "\n",
      "After running:\n",
      "finished\n"
     ]
    }
   ],
   "source": [
    "print('Before running:')\n",
    "print(exp.status)\n",
    "\n",
    "# Run the experiment using the __call__ method\n",
    "exp()\n",
    "\n",
    "print('\\nAfter running:')\n",
    "print(exp.status)"
   ]
  },
  {
   "cell_type": "code",
   "execution_count": 14,
   "metadata": {},
   "outputs": [
    {
     "name": "stdout",
     "output_type": "stream",
     "text": [
      "The logs.txt file has been written during the call\n",
      "logs.txt\n",
      "params.yml\n",
      "\n",
      "This was written from a running experiment\n"
     ]
    }
   ],
   "source": [
    "%%bash\n",
    "echo 'The logs.txt file has been written during the call'\n",
    "ls '/tmp/a'\n",
    "echo ''\n",
    "echo \"$(cat /tmp/a/logs.txt)\""
   ]
  },
  {
   "cell_type": "markdown",
   "metadata": {},
   "source": [
    "## Git Compatibility"
   ]
  },
  {
   "cell_type": "markdown",
   "metadata": {},
   "source": [
    "As experiments are run it becomes things need to change. Parameters defaults are altered, new parameters are added, and old parameters appreciated. Config files soon become outdated and trying to work out which config file belong to which version of an experiment becomes tedious at best and impossible at worst. To help with this the experiment class has Git support built into its definition. When creating `defaults.yml` files from an experiment object, if the experiment was defined in a git repository, then the local git repo and commit corresponding to the experiment is logged is updated in the `git` attibute and saved in the `defaults.yml` file (alongiside the remote repository if available). Additionally the path to the module in which the experiment was defined and the experiment name are stored in the `definition` attribute.\n",
    "\n",
    "A similar process occurs when an experiment is registered and saved in the `params.yml` file. Incompatibility between `defaults.yml` files used to initialise experiments and the current version of the experiment can therefore easily be checked. Likewise, it is possible to perfectly recreate an experiment run by checking out the commit defined in a `params.yml` file. When git is available this functionality is baked into the experiment class allowing the user to continue about there buisness without worrying about experiment compatibility.\n",
    "\n",
    "If we once again look in the `params.yml` file and `defaults.yml` we created earlier we can see that as `AnExperiment` was defined in this notebook which iniself lives inside a git repo that the correct fields have been populated:\n"
   ]
  },
  {
   "cell_type": "code",
   "execution_count": 15,
   "metadata": {},
   "outputs": [
    {
     "name": "stdout",
     "output_type": "stream",
     "text": [
      "The params.yml file:\n",
      "----------------------\n",
      "root: /tmp  #  The root directory to which the experiment belongs (should not be set)\n",
      "name: a #  The name of the experiment (should not be set)\n",
      "status: finished #  The status of the experiment (one of ['default' | 'created' | 'running' | 'error' | 'finished'])\n",
      "created: 07:47PM September 18, 2019 #  The date the last time the parameters of the model were updated.\n",
      "purpose: An example #  The purpose for the experiment (should not be set)\n",
      "messages: {} #  A dictionary of messages which are able to vary throughout the experiment (should not be set)\n",
      "version: #  A dictonary containing the experiment version information. See `get_version` for more info\n",
      "  module: /Users/robweston/xmen/examples/<ipython-input-1-4ff1dba6a4a0>\n",
      "  class: AnExperiment\n",
      "  git:\n",
      "    local: /Users/robweston/xmen\n",
      "    remote: https://github.com/robw4/xmen.git\n",
      "    commit: 7d9d2f875219b7d14bf6389fb6527d2425adc66a\n",
      "    branch: master\n",
      "a: g #  A parameter (default='h')\n",
      "b: 17 #  Another parameter (default=17)\n",
      "\n",
      "The defaults.yml file:\n",
      "----------------------\n",
      "created: 07:47PM September 18, 2019  #  The date the last time the parameters of the model were updated.\n",
      "version: #  A dictonary containing the experiment version information. See `get_version` for more info\n",
      "  module: /Users/robweston/xmen/examples/<ipython-input-1-4ff1dba6a4a0>\n",
      "  class: AnExperiment\n",
      "  git:\n",
      "    local: /Users/robweston/xmen\n",
      "    remote: https://github.com/robw4/xmen.git\n",
      "    commit: 7d9d2f875219b7d14bf6389fb6527d2425adc66a\n",
      "    branch: master\n",
      "a: g #  A parameter (default='h')\n",
      "b: 17 #  Another parameter (default=17)\n"
     ]
    }
   ],
   "source": [
    "%%bash\n",
    "echo \"The params.yml file:\"\n",
    "echo \"----------------------\"\n",
    "echo \"$(cat /tmp/a/params.yml)\"\n",
    "echo \"\"\n",
    "echo \"The defaults.yml file:\"\n",
    "echo \"----------------------\"\n",
    "echo \"$(cat /tmp/defaults.yml)\""
   ]
  },
  {
   "cell_type": "markdown",
   "metadata": {},
   "source": [
    "Alternatively these attributes can be acessed in python as:"
   ]
  },
  {
   "cell_type": "code",
   "execution_count": 16,
   "metadata": {},
   "outputs": [
    {
     "name": "stdout",
     "output_type": "stream",
     "text": [
      "module: /Users/robweston/xmen/examples/<ipython-input-1-4ff1dba6a4a0>\n",
      "class: AnExperiment\n",
      "  local: /Users/robweston/xmen\n",
      "  remote: https://github.com/robw4/xmen.git\n",
      "  commit: 7d9d2f875219b7d14bf6389fb6527d2425adc66a\n",
      "  branch: master\n"
     ]
    }
   ],
   "source": [
    "from ruamel.yaml.comments import CommentedMap\n",
    "\n",
    "exp3 = AnExperiment()\n",
    "exp3.from_yml('/tmp/defaults.yml')\n",
    "version_dict = exp3.version\n",
    "\n",
    "def recursive_lines(dic):\n",
    "    lines = []\n",
    "    for k, v in dic.items():\n",
    "        if type(v) is CommentedMap:\n",
    "            lines += ['  ' + l for l in recursive_lines(v)]\n",
    "        else:\n",
    "            lines += [f'{k}: {v}']\n",
    "    return lines\n",
    "\n",
    "print('\\n'.join(recursive_lines(version_dict)))"
   ]
  },
  {
   "cell_type": "markdown",
   "metadata": {},
   "source": [
    "## Command Line Interface\n",
    "As well as designed to be run within python, each experiment is also able to expose a command line interface with minimal overhead. In order to expose the command line interface some minor additions need to be made to the definition of `AnExperiment`:"
   ]
  },
  {
   "cell_type": "markdown",
   "metadata": {},
   "source": [
    "```python\n",
    "# Import the experiment_parser\n",
    "from xmen.experiment import Experiment, experiment_parser\n",
    "\n",
    "class AnExperiment(Experiment):\n",
    "    # ... Define an experiment\n",
    "\n",
    "# Add the following lines to the bottom of the module\n",
    "if __name__ == '__main__':\n",
    "    args = experiment_parser.parse_args()\n",
    "    exp = AnExperiment()\n",
    "    exp.main(args)\n",
    "```"
   ]
  },
  {
   "cell_type": "markdown",
   "metadata": {},
   "source": [
    "The `AnExperiment` defined earlier is defined in `experiment.py` module with the above modifications. This allows an `AnExperiment` to be used to generate `default.yml`, to be registered and to be executed all from the command line:"
   ]
  },
  {
   "cell_type": "code",
   "execution_count": 17,
   "metadata": {},
   "outputs": [
    {
     "name": "stdout",
     "output_type": "stream",
     "text": [
      "usage: experiment.py [-h] [--update YAML_STRING] [--execute PARAMS]\n",
      "                     [--to_root DIR] [--to_defaults DIR]\n",
      "                     [--register ROOT NAME]\n",
      "\n",
      "Run the Experiment command line interface\n",
      "\n",
      "optional arguments:\n",
      "  -h, --help            show this help message and exit\n",
      "  --update YAML_STRING  Update the parameters given by a yaml string. Note\n",
      "                        this will be called beforeother flags and can be used\n",
      "                        in combination with --to_root, --to_defaults,and\n",
      "                        --register.\n",
      "  --execute PARAMS      Execute the experiment from the given params.yml file.\n",
      "                        Cannot be called with update.\n",
      "  --to_root DIR         Generate a run script and defaults.yml file for\n",
      "                        interfacing with the experiment manager. If the\n",
      "                        directory does not exist then it is first created.\n",
      "  --to_defaults DIR     Generate a defaults.yml file from the experiment\n",
      "                        defaults in the given directory\n",
      "  --register ROOT NAME  Register an experiment at root (1st positional) name\n",
      "                        (2ndpositional)\n"
     ]
    }
   ],
   "source": [
    "%%bash\n",
    "python experiment.py -h"
   ]
  },
  {
   "cell_type": "markdown",
   "metadata": {},
   "source": [
    "For example:"
   ]
  },
  {
   "cell_type": "code",
   "execution_count": 18,
   "metadata": {},
   "outputs": [
    {
     "name": "stdout",
     "output_type": "stream",
     "text": [
      "Updating parameters {'a': 'updated'}\n",
      "\n",
      "Generate a defaults.yml file first updating some parameters with a yaml string...\n",
      "/tmp/command_line/defaults.yml (a has been updated)\n",
      "----------------------------------------------------\n",
      "created: 03:42PM September 18, 2019  #  The date the last time the parameters of the model were updated.\n",
      "version: #  A dictonary containing the experiment version information. See `get_version` for more info\n",
      "  module: /Users/robweston/projects/rad2sim2rad/docs/experiment.py\n",
      "  class: AnExperiment\n",
      "  git:\n",
      "    local: /Users/robweston/projects/rad2sim2rad\n",
      "    remote: ssh://git@mrgbuild.robots.ox.ac.uk:7999/~robw/rad2sim2rad.git\n",
      "    commit: 70775458a7599e70540e7f21a408435950320fac\n",
      "    branch: master\n",
      "a: updated #  A parameter (default='h')\n",
      "b: 17 #  Another parameter (default=17)\n"
     ]
    }
   ],
   "source": [
    "%%bash\n",
    "\n",
    "# Generate a defaults.yml\n",
    "python experiment.py --update '{a: updated}' --to_defaults /tmp/command_line/updated_defaults\n",
    "\n",
    "# Visualise results\n",
    "echo \"\"\n",
    "echo \"Generate a defaults.yml file first updating some parameters with a yaml string...\"\n",
    "echo \"/tmp/command_line/defaults.yml (a has been updated)\"\n",
    "echo \"----------------------------------------------------\"\n",
    "echo \"$(cat /tmp/command_line/defaults.yml)\""
   ]
  },
  {
   "cell_type": "code",
   "execution_count": 19,
   "metadata": {},
   "outputs": [
    {
     "name": "stdout",
     "output_type": "stream",
     "text": [
      "\n",
      "/tmp/command_line/an_experiment/params.yml\n",
      "----------------------------------------------------\n",
      "root: /tmp/command_line  #  The root directory to which the experiment belongs (should not be set)\n",
      "name: an_experiment #  The name of the experiment (should not be set)\n",
      "status: registered #  The status of the experiment (one of ['default' | 'created' | 'running' | 'error' | 'finished'])\n",
      "created: 07:47PM September 18, 2019 #  The date the last time the parameters of the model were updated.\n",
      "purpose: '' #  The purpose for the experiment (should not be set)\n",
      "messages: {} #  A dictionary of messages which are able to vary throughout the experiment (should not be set)\n",
      "version: #  A dictonary containing the experiment version information. See `get_version` for more info\n",
      "  module: /Users/robweston/xmen/examples/experiment.py\n",
      "  class: AnExperiment\n",
      "  git:\n",
      "    local: /Users/robweston/xmen\n",
      "    remote: https://github.com/robw4/xmen.git\n",
      "    commit: 7d9d2f875219b7d14bf6389fb6527d2425adc66a\n",
      "    branch: master\n",
      "a: h #  A parameter (default='h')\n",
      "b: 17 #  Another parameter (default=17)\n"
     ]
    }
   ],
   "source": [
    "%%bash\n",
    "# Registering an experiment\n",
    "rm -f /tmp/command_line/an_experiment/params.yml\n",
    "\n",
    "python experiment.py --register /tmp/command_line an_experiment\n",
    "echo \"\"\n",
    "echo \"/tmp/command_line/an_experiment/params.yml\"\n",
    "echo \"----------------------------------------------------\"\n",
    "echo \"$(cat /tmp/command_line/an_experiment/params.yml)\""
   ]
  },
  {
   "cell_type": "code",
   "execution_count": 20,
   "metadata": {},
   "outputs": [
    {
     "name": "stdout",
     "output_type": "stream",
     "text": [
      "The experiment state inside run is running for experiment an_experiment, a = h, b = 17\n",
      "\n",
      "After executing the experiment...\n",
      "/tmp/command_line/an_experiment/params.yml\n",
      "----------------------------------------------------\n",
      "root: /tmp/command_line  #  The root directory to which the experiment belongs (should not be set)\n",
      "name: an_experiment #  The name of the experiment (should not be set)\n",
      "status: finished #  The status of the experiment (one of ['default' | 'created' | 'running' | 'error' | 'finished'])\n",
      "created: 07:47PM September 18, 2019 #  The date the last time the parameters of the model were updated.\n",
      "purpose: '' #  The purpose for the experiment (should not be set)\n",
      "messages: #  A dictionary of messages which are able to vary throughout the experiment (should not be set)\n",
      "  Hi: I am running!\n",
      "version: #  A dictonary containing the experiment version information. See `get_version` for more info\n",
      "  module: /Users/robweston/xmen/examples/experiment.py\n",
      "  class: AnExperiment\n",
      "  git:\n",
      "    local: /Users/robweston/xmen\n",
      "    remote: https://github.com/robw4/xmen.git\n",
      "    commit: 7d9d2f875219b7d14bf6389fb6527d2425adc66a\n",
      "    branch: master\n",
      "a: h #  A parameter (default='h')\n",
      "b: 17 #  Another parameter (default=17)\n"
     ]
    }
   ],
   "source": [
    "%%bash\n",
    "# Execute an experiment\n",
    "python experiment.py --execute /tmp/command_line/an_experiment/params.yml\n",
    "\n",
    "echo \"\"\n",
    "echo \"After executing the experiment...\"\n",
    "echo \"/tmp/command_line/an_experiment/params.yml\"\n",
    "echo \"----------------------------------------------------\"\n",
    "echo \"$(cat /tmp/command_line/an_experiment/params.yml)\""
   ]
  },
  {
   "cell_type": "markdown",
   "metadata": {},
   "source": [
    "## The Experiment Manager\n",
    "The experiment manager is a python command line tool for managing a set of experiments which all share execution code (a `script.sh`) which takes as input parameters (`defaults.yml`). By changing the parameters, each experiment is uniquely defined. Firstly, lets create a root experiment repository:"
   ]
  },
  {
   "cell_type": "code",
   "execution_count": 21,
   "metadata": {},
   "outputs": [
    {
     "name": "stdout",
     "output_type": "stream",
     "text": [
      "#!/bin/bash\n",
      "# File generated on the 07:47PM September 18, 2019\n",
      "# GIT:\n",
      "# - repo /Users/robweston/xmen\n",
      "# - branch master\n",
      "# - remote https://github.com/robw4/xmen.git\n",
      "# - commit 7d9d2f875219b7d14bf6389fb6527d2425adc66a\n",
      "\n",
      "export PYTHONPATH=\"${PYTHONPATH}:/Users/robweston/xmen/examples\"\n",
      "python /Users/robweston/xmen/examples/experiment.py --execute ${1}\n"
     ]
    }
   ],
   "source": [
    "!python experiment.py --to_root /tmp/experiment_manager/root"
   ]
  },
  {
   "cell_type": "markdown",
   "metadata": {},
   "source": [
    "The above gives a bash script automatically generated in order to run an experiment. This is saved as `script.sh` in the root experiment repository along with a `default.yml` file."
   ]
  },
  {
   "cell_type": "code",
   "execution_count": 22,
   "metadata": {},
   "outputs": [
    {
     "name": "stdout",
     "output_type": "stream",
     "text": [
      "total 24\n",
      "-rw-r--r--  1 robweston  wheel  517 18 Sep 19:47 defaults.yml\n",
      "-rw-r--r--  1 robweston  wheel  330 18 Sep 19:15 experiment.yml\n",
      "-rw-r--r--  1 robweston  wheel  348 18 Sep 19:47 script.sh\n"
     ]
    }
   ],
   "source": [
    "!ls -l /tmp/experiment_manager/root"
   ]
  },
  {
   "cell_type": "markdown",
   "metadata": {},
   "source": [
    "For ease of use we first create an alias to the experiment manager. You are encouraged to do this in your `~/.bashrc` or equivalent. Unfortunately ipython does not register previously defined aliases so we need to redefine it here. We also move to the root repository:"
   ]
  },
  {
   "cell_type": "code",
   "execution_count": 23,
   "metadata": {},
   "outputs": [],
   "source": [
    "alias xmen ~/xmen/python/xmen/experiment_manager.py"
   ]
  },
  {
   "cell_type": "markdown",
   "metadata": {},
   "source": [
    "First we navigate to the root directory:"
   ]
  },
  {
   "cell_type": "code",
   "execution_count": 24,
   "metadata": {},
   "outputs": [
    {
     "name": "stdout",
     "output_type": "stream",
     "text": [
      "/private/tmp/experiment_manager/root\n"
     ]
    }
   ],
   "source": [
    "%cd /tmp/experiment_manager/root\n",
    "!rm -f experiment.yml"
   ]
  },
  {
   "cell_type": "markdown",
   "metadata": {},
   "source": [
    "Next we initialise the experiment manager"
   ]
  },
  {
   "cell_type": "code",
   "execution_count": 25,
   "metadata": {},
   "outputs": [],
   "source": [
    "%xmen init"
   ]
  },
  {
   "cell_type": "markdown",
   "metadata": {},
   "source": [
    "Initilialising the experiment parameter in the root directory produces a `experiment.yml` file. The `exp list` command provides a helpfull output fo visualisnd the state of the current experiements:"
   ]
  },
  {
   "cell_type": "code",
   "execution_count": 26,
   "metadata": {},
   "outputs": [
    {
     "name": "stdout",
     "output_type": "stream",
     "text": [
      "No experiments currently registered!\n",
      "\n",
      "Defaults: \n",
      "- created 07:47PM September 18, 2019\n",
      "- module /Users/robweston/xmen/examples/experiment.py\n",
      "- class AnExperiment\n",
      "- git:\n",
      "   local: /Users/robweston/xmen\n",
      "   commit: 7d9d2f875219b7d14bf6389fb6527d2425adc66a\n",
      "   remote: https://github.com/robw4/xmen.git\n"
     ]
    }
   ],
   "source": [
    "%xmen list"
   ]
  },
  {
   "cell_type": "markdown",
   "metadata": {},
   "source": [
    "Multiple experiments are registered with the experiment manager in a single call through the `register` command:"
   ]
  },
  {
   "cell_type": "code",
   "execution_count": 27,
   "metadata": {},
   "outputs": [],
   "source": [
    "xmen register '{a: first | second, b: 4 | 5}' 'intial_test'"
   ]
  },
  {
   "cell_type": "markdown",
   "metadata": {},
   "source": [
    "The special charcter `|` is interpreted as an or operator. Experiments are registered for every possible combination of parameters appearing with `|`. For example in the above 4 experiments have been registered:"
   ]
  },
  {
   "cell_type": "code",
   "execution_count": 28,
   "metadata": {},
   "outputs": [
    {
     "name": "stdout",
     "output_type": "stream",
     "text": [
      "       overrides      purpose                     created      status messages                                    commit\n",
      "0   a:first__b:4  intial_test  07:47PM September 18, 2019  registered       {}  7d9d2f875219b7d14bf6389fb6527d2425adc66a\n",
      "1   a:first__b:5  intial_test  07:47PM September 18, 2019  registered       {}  7d9d2f875219b7d14bf6389fb6527d2425adc66a\n",
      "2  a:second__b:4  intial_test  07:47PM September 18, 2019  registered       {}  7d9d2f875219b7d14bf6389fb6527d2425adc66a\n",
      "3  a:second__b:5  intial_test  07:47PM September 18, 2019  registered       {}  7d9d2f875219b7d14bf6389fb6527d2425adc66a\n",
      "\n",
      "Defaults: \n",
      "- created 07:47PM September 18, 2019\n",
      "- module /Users/robweston/xmen/examples/experiment.py\n",
      "- class AnExperiment\n",
      "- git:\n",
      "   local: /Users/robweston/xmen\n",
      "   commit: 7d9d2f875219b7d14bf6389fb6527d2425adc66a\n",
      "   remote: https://github.com/robw4/xmen.git\n"
     ]
    }
   ],
   "source": [
    "%xmen list"
   ]
  },
  {
   "cell_type": "markdown",
   "metadata": {},
   "source": [
    "You are also allowed to register multiple experiments with the same overrides. In this case there name is appended by an index `_1` `_2` etc:"
   ]
  },
  {
   "cell_type": "code",
   "execution_count": 29,
   "metadata": {},
   "outputs": [
    {
     "name": "stdout",
     "output_type": "stream",
     "text": [
      "        overrides      purpose                     created      status messages                                    commit\n",
      "0    a:first__b:4  intial_test  07:47PM September 18, 2019  registered       {}  7d9d2f875219b7d14bf6389fb6527d2425adc66a\n",
      "1    a:first__b:5  intial_test  07:47PM September 18, 2019  registered       {}  7d9d2f875219b7d14bf6389fb6527d2425adc66a\n",
      "2   a:second__b:4  intial_test  07:47PM September 18, 2019  registered       {}  7d9d2f875219b7d14bf6389fb6527d2425adc66a\n",
      "3   a:second__b:5  intial_test  07:47PM September 18, 2019  registered       {}  7d9d2f875219b7d14bf6389fb6527d2425adc66a\n",
      "4  a:first__b:4_1  intial_test  07:47PM September 18, 2019  registered       {}  7d9d2f875219b7d14bf6389fb6527d2425adc66a\n",
      "5  a:first__b:4_2  intial_test  07:47PM September 18, 2019  registered       {}  7d9d2f875219b7d14bf6389fb6527d2425adc66a\n",
      "\n",
      "Defaults: \n",
      "- created 07:47PM September 18, 2019\n",
      "- module /Users/robweston/xmen/examples/experiment.py\n",
      "- class AnExperiment\n",
      "- git:\n",
      "   local: /Users/robweston/xmen\n",
      "   commit: 7d9d2f875219b7d14bf6389fb6527d2425adc66a\n",
      "   remote: https://github.com/robw4/xmen.git\n"
     ]
    }
   ],
   "source": [
    "%xmen register '{a: first, b: 4}' 'intial_test'\n",
    "%xmen register '{a: first, b: 4}' 'intial_test'\n",
    "%xmen list"
   ]
  },
  {
   "cell_type": "markdown",
   "metadata": {},
   "source": [
    "Experiments can be run either individually or all together with several prefixes:"
   ]
  },
  {
   "cell_type": "code",
   "execution_count": 30,
   "metadata": {},
   "outputs": [
    {
     "name": "stdout",
     "output_type": "stream",
     "text": [
      "\n",
      "Running: sh /private/tmp/experiment_manager/root/script.sh /private/tmp/experiment_manager/root/a:second__b:4/params.yml\n",
      "The experiment state inside run is running for experiment a:second__b:4, a = second, b = 4\n"
     ]
    }
   ],
   "source": [
    "%xmen run 'a:second__b:4' sh"
   ]
  },
  {
   "cell_type": "code",
   "execution_count": 31,
   "metadata": {},
   "outputs": [
    {
     "name": "stdout",
     "output_type": "stream",
     "text": [
      "        overrides      purpose                     created      status                 messages                                    commit\n",
      "0    a:first__b:4  intial_test  07:47PM September 18, 2019  registered                       {}  7d9d2f875219b7d14bf6389fb6527d2425adc66a\n",
      "1    a:first__b:5  intial_test  07:47PM September 18, 2019  registered                       {}  7d9d2f875219b7d14bf6389fb6527d2425adc66a\n",
      "2   a:second__b:4  intial_test  07:47PM September 18, 2019    finished  {'Hi': 'I am running!'}  7d9d2f875219b7d14bf6389fb6527d2425adc66a\n",
      "3   a:second__b:5  intial_test  07:47PM September 18, 2019  registered                       {}  7d9d2f875219b7d14bf6389fb6527d2425adc66a\n",
      "4  a:first__b:4_1  intial_test  07:47PM September 18, 2019  registered                       {}  7d9d2f875219b7d14bf6389fb6527d2425adc66a\n",
      "5  a:first__b:4_2  intial_test  07:47PM September 18, 2019  registered                       {}  7d9d2f875219b7d14bf6389fb6527d2425adc66a\n",
      "\n",
      "Defaults: \n",
      "- created 07:47PM September 18, 2019\n",
      "- module /Users/robweston/xmen/examples/experiment.py\n",
      "- class AnExperiment\n",
      "- git:\n",
      "   local: /Users/robweston/xmen\n",
      "   commit: 7d9d2f875219b7d14bf6389fb6527d2425adc66a\n",
      "   remote: https://github.com/robw4/xmen.git\n"
     ]
    }
   ],
   "source": [
    "%xmen list"
   ]
  },
  {
   "cell_type": "code",
   "execution_count": 32,
   "metadata": {},
   "outputs": [
    {
     "name": "stdout",
     "output_type": "stream",
     "text": [
      "\n",
      "Running: sh /private/tmp/experiment_manager/root/script.sh /private/tmp/experiment_manager/root/a:first__b:4/params.yml\n",
      "The experiment state inside run is running for experiment a:first__b:4, a = first, b = 4\n",
      "\n",
      "Running: sh /private/tmp/experiment_manager/root/script.sh /private/tmp/experiment_manager/root/a:first__b:4_1/params.yml\n",
      "The experiment state inside run is running for experiment a:first__b:4_1, a = first, b = 4\n",
      "\n",
      "Running: sh /private/tmp/experiment_manager/root/script.sh /private/tmp/experiment_manager/root/a:first__b:4_2/params.yml\n",
      "The experiment state inside run is running for experiment a:first__b:4_2, a = first, b = 4\n",
      "\n",
      "Running: sh /private/tmp/experiment_manager/root/script.sh /private/tmp/experiment_manager/root/a:first__b:5/params.yml\n",
      "The experiment state inside run is running for experiment a:first__b:5, a = first, b = 5\n",
      "\n",
      "Running: sh /private/tmp/experiment_manager/root/script.sh /private/tmp/experiment_manager/root/a:second__b:5/params.yml\n",
      "The experiment state inside run is running for experiment a:second__b:5, a = second, b = 5\n",
      "        overrides      purpose                     created    status                 messages                                    commit\n",
      "0    a:first__b:4  intial_test  07:47PM September 18, 2019  finished  {'Hi': 'I am running!'}  7d9d2f875219b7d14bf6389fb6527d2425adc66a\n",
      "1    a:first__b:5  intial_test  07:47PM September 18, 2019  finished  {'Hi': 'I am running!'}  7d9d2f875219b7d14bf6389fb6527d2425adc66a\n",
      "2   a:second__b:4  intial_test  07:47PM September 18, 2019  finished  {'Hi': 'I am running!'}  7d9d2f875219b7d14bf6389fb6527d2425adc66a\n",
      "3   a:second__b:5  intial_test  07:47PM September 18, 2019  finished  {'Hi': 'I am running!'}  7d9d2f875219b7d14bf6389fb6527d2425adc66a\n",
      "4  a:first__b:4_1  intial_test  07:47PM September 18, 2019  finished  {'Hi': 'I am running!'}  7d9d2f875219b7d14bf6389fb6527d2425adc66a\n",
      "5  a:first__b:4_2  intial_test  07:47PM September 18, 2019  finished  {'Hi': 'I am running!'}  7d9d2f875219b7d14bf6389fb6527d2425adc66a\n",
      "\n",
      "Defaults: \n",
      "- created 07:47PM September 18, 2019\n",
      "- module /Users/robweston/xmen/examples/experiment.py\n",
      "- class AnExperiment\n",
      "- git:\n",
      "   local: /Users/robweston/xmen\n",
      "   commit: 7d9d2f875219b7d14bf6389fb6527d2425adc66a\n",
      "   remote: https://github.com/robw4/xmen.git\n"
     ]
    }
   ],
   "source": [
    "%xmen run '*' sh\n",
    "%xmen list"
   ]
  },
  {
   "cell_type": "markdown",
   "metadata": {},
   "source": [
    "Lets now clean up the experiment repository:"
   ]
  },
  {
   "cell_type": "code",
   "execution_count": 33,
   "metadata": {},
   "outputs": [
    {
     "name": "stdout",
     "output_type": "stream",
     "text": [
      "Removing Experiments...\n",
      "/private/tmp/experiment_manager/root/a:first__b:4\n",
      "/private/tmp/experiment_manager/root/a:first__b:4_1\n",
      "/private/tmp/experiment_manager/root/a:first__b:4_2\n",
      "/private/tmp/experiment_manager/root/a:first__b:5\n",
      "/private/tmp/experiment_manager/root/a:second__b:4\n",
      "/private/tmp/experiment_manager/root/a:second__b:5\n",
      "Note models are removed from the experiment list only. To remove the model directories runexperiment rm\n"
     ]
    }
   ],
   "source": [
    "# First we unlink all the experiments\n",
    "%xmen unlink '*'"
   ]
  },
  {
   "cell_type": "code",
   "execution_count": 34,
   "metadata": {},
   "outputs": [
    {
     "name": "stdout",
     "output_type": "stream",
     "text": [
      "/private/tmp/experiment_manager/root/a:first__b:4\n",
      "/private/tmp/experiment_manager/root/a:first__b:4_1\n",
      "/private/tmp/experiment_manager/root/a:first__b:4_2\n",
      "/private/tmp/experiment_manager/root/a:first__b:5\n",
      "/private/tmp/experiment_manager/root/a:second__b:4\n",
      "/private/tmp/experiment_manager/root/a:second__b:5\n",
      "\n",
      "No experiments currently registered!\n",
      "\n",
      "Defaults: \n",
      "- created 07:47PM September 18, 2019\n",
      "- module /Users/robweston/xmen/examples/experiment.py\n",
      "- class AnExperiment\n",
      "- git:\n",
      "   local: /Users/robweston/xmen\n",
      "   commit: 7d9d2f875219b7d14bf6389fb6527d2425adc66a\n",
      "   remote: https://github.com/robw4/xmen.git\n"
     ]
    }
   ],
   "source": [
    "#Now we remove the experiment folders \n",
    "#WARNING: THIS WILL ALL EXPERIMENTS THAT ARE NO LONGER LINKED TO THE EXPERIMENT MANAGER\n",
    "%xmen rm '*'\n",
    "!echo \"\"\n",
    "%xmen list"
   ]
  },
  {
   "cell_type": "markdown",
   "metadata": {},
   "source": [
    "## The TypedMeta metaclass\n",
    "The `TypedMeta` meta class stremalines the definition of objects whith many attirbutes that most of the time will simply just take there default value. For example consider the following class definition:"
   ]
  },
  {
   "cell_type": "code",
   "execution_count": 35,
   "metadata": {},
   "outputs": [],
   "source": [
    "class A(object):\n",
    "    def __init__(self, a=3, b=4, c=3, d=4, e=5, f=6, g=7):\n",
    "        \"\"\"An object with some attributes:\n",
    "        \n",
    "        Parameters:\n",
    "            a (int): The first attribute\n",
    "            b (int): The second attribute\n",
    "            c (int): The third attribute \n",
    "            d (int): The fourth attribute\n",
    "            e (int): The fith attribute\n",
    "            g (int): The sixth attribute\n",
    "        \"\"\"\n",
    "        self.a = a\n",
    "        self.b = b\n",
    "        self.c = c\n",
    "        self.d = d\n",
    "        self.e = e\n",
    "        self.f = f\n",
    "        self.g = g"
   ]
  },
  {
   "cell_type": "markdown",
   "metadata": {},
   "source": [
    "For a large number of parameters defining parameters in the args, docstrings and attributes quickly becomes tiresome. We could instead think about inferring attributes directly from the arguments of a function. Maybe by updating `self.__dict__` directly after using `argparse` to get the parameters from the function definition or simply only passing `**kwargs` to `__init__`. This seems quite convoluted and will break code completion for many interpreters.\n",
    "\n",
    "This is where the `TypedMeta` metaclass comes in. Instead we define objects like:"
   ]
  },
  {
   "cell_type": "code",
   "execution_count": 36,
   "metadata": {},
   "outputs": [],
   "source": [
    "from xmen.utils import TypedMeta\n",
    "class AWithMeta(object, metaclass=TypedMeta):\n",
    "    def __init__(self):\n",
    "        \"\"\"An object with some attributes\"\"\"\n",
    "        self.a: int = 1   # The first attribute\n",
    "        self.b: int = 2   # The second attribute\n",
    "        self.c: int = 3   # The third attribute \n",
    "        self.d: int = 4   # The fourth attribute\n",
    "        self.e: int = 5   # The fith attribute\n",
    "        self.f: int = 6   # The sixth attribute\n",
    "        self.g: int = 7   # The seventh attribute"
   ]
  },
  {
   "cell_type": "markdown",
   "metadata": {},
   "source": [
    "Here we have made use of typed attributes (introduced in python >= 3). In order to allow the defualt values to be overidden we could also considered passing an option keywords arg `**kwargs` and updating the attribute dictionary directly (updating only on keys correpsonding to valid attributes). The `TypedMeta` metaclass automatically adds attributes to the docstring of `AWithMeta` and `AWithMeta.__init__`:"
   ]
  },
  {
   "cell_type": "code",
   "execution_count": 37,
   "metadata": {},
   "outputs": [
    {
     "name": "stdout",
     "output_type": "stream",
     "text": [
      "An object with some attributes\n",
      "\n",
      "Parameters:\n",
      "    a (int): The first attribute (default=1)\n",
      "    b (int): The second attribute (default=2)\n",
      "    c (int): The third attribute (default=3)\n",
      "    d (int): The fourth attribute (default=4)\n",
      "    e (int): The fith attribute (default=5)\n",
      "    f (int): The sixth attribute (default=6)\n",
      "    g (int): The seventh attribute (default=7)\n"
     ]
    }
   ],
   "source": [
    "# The doc string of an experiment object is updated\n",
    "print(AWithMeta.__init__.__doc__)"
   ]
  },
  {
   "cell_type": "markdown",
   "metadata": {},
   "source": [
    "The typed Meta class works with both typed and non-typed attribute definitions with or without comments. It will do the best it can with what it has. For example:"
   ]
  },
  {
   "cell_type": "code",
   "execution_count": 38,
   "metadata": {},
   "outputs": [
    {
     "name": "stdout",
     "output_type": "stream",
     "text": [
      "\n",
      "\n",
      "Parameters:\n",
      "    a (float): The first attribute (default=1)\n",
      "    b (int): (default= 2)\n",
      "    c : The third attribute (default=3)\n",
      "    d : (default= 4)\n"
     ]
    }
   ],
   "source": [
    "class BWithMeta(object, metaclass=TypedMeta):\n",
    "    def __init__(self):\n",
    "        \"\"\"An object with some attributes\"\"\"\n",
    "        self.a: float = 1   # The first attribute\n",
    "        self.b: int = 2\n",
    "        self.c = 3   # The third attribute \n",
    "        self.d = 4\n",
    "\n",
    "print(BWithMeta.__doc__)"
   ]
  },
  {
   "cell_type": "markdown",
   "metadata": {},
   "source": [
    "> The TypedMeta class is currently only compatible with comments defined on a single line. You are recommended to specify longer comments in the doc-string directly"
   ]
  }
 ],
 "metadata": {
  "kernelspec": {
   "display_name": "Python 3",
   "language": "python",
   "name": "python3"
  },
  "language_info": {
   "codemirror_mode": {
    "name": "ipython",
    "version": 3
   },
   "file_extension": ".py",
   "mimetype": "text/x-python",
   "name": "python",
   "nbconvert_exporter": "python",
   "pygments_lexer": "ipython3",
   "version": "3.6.9"
  }
 },
 "nbformat": 4,
 "nbformat_minor": 4
}
