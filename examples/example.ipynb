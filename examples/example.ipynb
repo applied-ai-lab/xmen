{
 "cells": [
  {
   "cell_type": "markdown",
   "metadata": {},
   "source": [
    "# Examples\n",
    "**Note**: The examples are found in the following jupyter notebook `xmen/examples/examples.ipynb` where they can be run interactively. Before running the notebook make sure that `xmen` is on your `PYTHONPATH` following the steps given in Setup.\n",
    "\n",
    "## Defining an experiment\n",
    "New experiments are defined by specifying **parameters** (as public class attributes) and **execution** (by overloading the `run` method). For example"
   ]
  },
  {
   "cell_type": "code",
   "execution_count": 15,
   "metadata": {},
   "outputs": [],
   "source": [
    "from xmen.experiment import Experiment\n",
    "import os\n",
    "\n",
    "class AnExperiment(Experiment):\n",
    "    \"\"\"The doc string of AnExperiment class\"\"\"\n",
    "    \n",
    "    def __init__(self):\n",
    "        \"\"\"The doc string of __init__ experiment class.\"\"\"\n",
    "        super(AnExperiment, self).__init__()\n",
    "        self.a: str = 'h'     # A parameter\n",
    "        self.b: int = 17      # Another parameter\n",
    "        \n",
    "        # Private attributes will not be treated as parameters\n",
    "        self._c = None\n",
    "    \n",
    "    def run(self):\n",
    "        print(f'The experiment state inside run is {self.status} for experiment {self.name}, a = {self.a}, b = {self.b}')\n",
    "        \n",
    "        # Add a message to the self.leave message attribute\n",
    "        self.leave_message({'Hi': 'I am running!'})\n",
    "        \n",
    "        # You are encouraged to write out any files to {self.root}/{self.name}\n",
    "        # during execution these fields will be populated\n",
    "        with open(os.path.join(self.directory, 'logs.txt'), 'w') as f:\n",
    "            f.write('This was written from a running experiment')"
   ]
  },
  {
   "cell_type": "markdown",
   "metadata": {},
   "source": [
    "There are a few things worth pointing out here:\n",
    "\n",
    "* Parameters of the class are defined as public attributes. You are encouraged to define parameters as above sepcifying their name, type, default and help all in a single line of code. The `Experiment` class has a metaclass `TypedMeta` (along with any class inheriting from `Experiment`). `TypedMeta` automatically adds any attributes to the doc sting of the `__init__` and the main class body.\n",
    "* Any attributes begining with `_` are considered pivate and will not be treated as a parameters. These should be used to store dynamic state during experiment execution.\n",
    "* All experiments inheret several important properties which can be accessed but not set:\n",
    "    * `root` and `name` together define an experiment folder that is assigned to the experiment. The `directory` property gives `{root}/{name}` for convenience. You may assume that these fields will be populated at the time of execution and are encouraged to use this folder to write out anything that needs to be logged during execution (logs, checkpoints etc.)\n",
    "    * `status` is one of `'default'`, `'registered`', `'running'`, `'finished'` or `'error'` (more on this to come...)\n",
    "    * `created` gives the date any parameter was last updated\n",
    "    * `version` is a dict used to reproduce an experiment exactly\n",
    "    * `messages` is a dict used to store messages logged during execution \n",
    "  These parameters should not be updated by the user directly!"
   ]
  },
  {
   "cell_type": "markdown",
   "metadata": {},
   "source": [
    "## Experiment specialisation"
   ]
  },
  {
   "cell_type": "markdown",
   "metadata": {},
   "source": [
    "When initialised an experiment is given a `'default'` status. Experiment with default status:\n",
    "\n",
    "* **Can** be specialised either by directly accessing the experiments parameters or using the `update()` method \n",
    "* **Can** be loaded and saved to a `defaults.yml` file using the `from_yml()` and `to_default()` method calls. This allows experiment config files to be generated quickly and safely from within python\n",
    "* **Cannot** be run! In order to run they must first be linked with an experiment folder and their state saved and fixed.\n"
   ]
  },
  {
   "cell_type": "code",
   "execution_count": 16,
   "metadata": {},
   "outputs": [
    {
     "name": "stdout",
     "output_type": "stream",
     "text": [
      "status: default\n",
      "created: 11:58AM September 20, 2019\n",
      "messages:\n",
      "parameters:\n",
      "  a: g   # A parameter (default='h')\n",
      "  b: 19   # Another parameter (default=17)\n"
     ]
    }
   ],
   "source": [
    "# Initialiase a new experiment\n",
    "exp = AnExperiment()\n",
    "\n",
    "# Update its parameters\n",
    "exp.update({'a': 'g'})\n",
    "exp.b = 19\n",
    "print(exp)"
   ]
  },
  {
   "cell_type": "markdown",
   "metadata": {},
   "source": [
    "Here you can see that the parameter `a` has been updated to `'g'`. Its default value is still preserved in the docstring. You can also see the `status` of the experiment is currently `'default'` and that `created` has been updated!\n",
    "\n",
    "Now lets create a new `defaults.yml` file that can be used to specialise other experiments:"
   ]
  },
  {
   "cell_type": "code",
   "execution_count": 17,
   "metadata": {},
   "outputs": [],
   "source": [
    "# Save the experiment to '/tmp/defaults.yml'\n",
    "exp.to_defaults('/tmp')"
   ]
  },
  {
   "cell_type": "code",
   "execution_count": 18,
   "metadata": {},
   "outputs": [
    {
     "name": "stdout",
     "output_type": "stream",
     "text": [
      "status: default\n",
      "created: 11:58AM September 20, 2019\n",
      "messages:\n",
      "version:\n",
      "  module: /Users/robweston/xmen/examples/<ipython-input-15-64aecc4b7aea>\n",
      "  class: AnExperiment\n",
      "  git:\n",
      "    local: /Users/robweston/xmen\n",
      "    remote: https://github.com/robw4/xmen.git\n",
      "    commit: 25e54f1a04e7f0ee377715c52235f8a204734325\n",
      "    branch: with_privates\n",
      "parameters:\n",
      "  a: g   # A parameter (default='h')\n",
      "  b: 19   # Another parameter (default=17)\n"
     ]
    }
   ],
   "source": [
    "# Load the defaults.yml into a new experiment\n",
    "exp2 = AnExperiment()\n",
    "exp2.from_yml('/tmp/defaults.yml')\n",
    "print(exp2)"
   ]
  },
  {
   "cell_type": "markdown",
   "metadata": {},
   "source": [
    "Notice how the experiment still has `\"default\"` status and has been loaded with the `a=\"g\"`. The `defaults.yml` file looks like this:"
   ]
  },
  {
   "cell_type": "code",
   "execution_count": 19,
   "metadata": {},
   "outputs": [
    {
     "name": "stdout",
     "output_type": "stream",
     "text": [
      "_created: 11:58AM September 20, 2019  #  The date the last time the parameters of the model were updated.\n",
      "_version: #  A dictonary containing the experiment version information. See `get_version` for more info\n",
      "  module: /Users/robweston/xmen/examples/<ipython-input-15-64aecc4b7aea>\n",
      "  class: AnExperiment\n",
      "  git:\n",
      "    local: /Users/robweston/xmen\n",
      "    remote: https://github.com/robw4/xmen.git\n",
      "    commit: 25e54f1a04e7f0ee377715c52235f8a204734325\n",
      "    branch: with_privates\n",
      "a: g #  A parameter (default='h')\n",
      "b: 19 #  Another parameter (default=17)\n"
     ]
    }
   ],
   "source": [
    "%%bash\n",
    "# The defaults.yml file looks like this:\n",
    "echo \"$(cat /tmp/defaults.yml)\""
   ]
  },
  {
   "cell_type": "markdown",
   "metadata": {},
   "source": [
    "Experiments can not be run. This will lead to a `ValueError`"
   ]
  },
  {
   "cell_type": "code",
   "execution_count": 20,
   "metadata": {},
   "outputs": [
    {
     "name": "stdout",
     "output_type": "stream",
     "text": [
      "ValueError: An experiment in default status must be registered before it can be executed\n"
     ]
    }
   ],
   "source": [
    "# Registered experiments cannot be run:\n",
    "try:\n",
    "    exp()\n",
    "except ValueError as e:\n",
    "    print('ValueError:', e)"
   ]
  },
  {
   "cell_type": "markdown",
   "metadata": {},
   "source": [
    "## Executing an experiment\n",
    "In order to be run an experiment object must first be registered. During registration:\n",
    "\n",
    "* An experiment is assigened an experiment folder `{root}/{name}`. Not to experiments may share the same experiment folder\n",
    "* The paramters of an experiment become fixed and are preserved in a `params.yml` within the experiement folder.\n",
    "\n",
    "An experiment can be registered in one of two ways:\n",
    "\n",
    "1. The `register()` method call\n",
    "2. Loading a predefined `params.yml` file using the `from_yml()` method call\n",
    "\n",
    "Once registered an experiment can then be run by calling it. The `__call__` method first updates the status of the experiment to `'running'` (both in its internal state and the its `params.yml`) file before calling the `run()` method. If `run` leaves succesfully the state is updated to `finished` else `error`. Only experiments with `registered` status can be executed "
   ]
  },
  {
   "cell_type": "code",
   "execution_count": 21,
   "metadata": {},
   "outputs": [],
   "source": [
    "!rm -f /tmp/a/params.yml\n",
    "exp.register(root='/tmp', name='a', purpose='An example')"
   ]
  },
  {
   "cell_type": "markdown",
   "metadata": {},
   "source": [
    "Looking inside the project repository we now have:"
   ]
  },
  {
   "cell_type": "code",
   "execution_count": 22,
   "metadata": {},
   "outputs": [
    {
     "name": "stdout",
     "output_type": "stream",
     "text": [
      "Folder now contains:\n",
      "logs.txt\n",
      "params.yml\n"
     ]
    }
   ],
   "source": [
    "%%bash\n",
    "echo 'Folder now contains:'\n",
    "ls /tmp/a"
   ]
  },
  {
   "cell_type": "markdown",
   "metadata": {},
   "source": [
    "The `params.yml` file contains the following:"
   ]
  },
  {
   "cell_type": "code",
   "execution_count": 23,
   "metadata": {},
   "outputs": [
    {
     "name": "stdout",
     "output_type": "stream",
     "text": [
      "_root: /tmp  #  The root directory to which the experiment belongs (should not be set)\n",
      "_name: a #  The name of the experiment (should not be set)\n",
      "_status: registered #  The status of the experiment (one of ['default' | 'created' | 'running' | 'error' | 'finished'])\n",
      "_created: 11:58AM September 20, 2019 #  The date the last time the parameters of the model were updated.\n",
      "_purpose: An example #  The purpose for the experiment (should not be set)\n",
      "_messages: {} #  A dictionary of messages which are able to vary throughout the experiment (should not be set)\n",
      "_version: #  A dictonary containing the experiment version information. See `get_version` for more info\n",
      "  module: /Users/robweston/xmen/examples/<ipython-input-15-64aecc4b7aea>\n",
      "  class: AnExperiment\n",
      "  git:\n",
      "    local: /Users/robweston/xmen\n",
      "    remote: https://github.com/robw4/xmen.git\n",
      "    commit: 25e54f1a04e7f0ee377715c52235f8a204734325\n",
      "    branch: with_privates\n",
      "a: g #  A parameter (default='h')\n",
      "b: 19 #  Another parameter (default=17)$\n"
     ]
    }
   ],
   "source": [
    "!echo \"$(cat /tmp/a/params.yml)$\""
   ]
  },
  {
   "cell_type": "markdown",
   "metadata": {},
   "source": [
    "Once registered an experiemnts parameters cannot be updated:"
   ]
  },
  {
   "cell_type": "code",
   "execution_count": 24,
   "metadata": {},
   "outputs": [],
   "source": [
    "try:\n",
    "    exp.a = 'something'\n",
    "except AttributeError as e:\n",
    "    print('AttributeError:', e)\n",
    "# print(exp)"
   ]
  },
  {
   "cell_type": "markdown",
   "metadata": {},
   "source": [
    "An experiment **cannot** be registered to a repository already containing a `params.yml` file:"
   ]
  },
  {
   "cell_type": "code",
   "execution_count": 25,
   "metadata": {},
   "outputs": [
    {
     "name": "stdout",
     "output_type": "stream",
     "text": [
      "ValueError:  Experiment folder /tmp/a already contains a params.yml file. An Exeperiment cannot be created in an already existing experiment folder\n"
     ]
    }
   ],
   "source": [
    "exp2 = AnExperiment()\n",
    "try:\n",
    "    exp2.register(root='/tmp', name='a')\n",
    "except ValueError as e:\n",
    "    print('ValueError: ', e)"
   ]
  },
  {
   "cell_type": "markdown",
   "metadata": {},
   "source": [
    "An experiment object can be loaded from already existing `params.yml` using the method call `from_yaml`:"
   ]
  },
  {
   "cell_type": "code",
   "execution_count": 26,
   "metadata": {},
   "outputs": [
    {
     "name": "stdout",
     "output_type": "stream",
     "text": [
      "root: /tmp\n",
      "name: a\n",
      "status: registered\n",
      "created: 11:58AM September 20, 2019\n",
      "purpose: An example\n",
      "messages:\n",
      "version:\n",
      "  module: /Users/robweston/xmen/examples/<ipython-input-15-64aecc4b7aea>\n",
      "  class: AnExperiment\n",
      "  git:\n",
      "    local: /Users/robweston/xmen\n",
      "    remote: https://github.com/robw4/xmen.git\n",
      "    commit: 25e54f1a04e7f0ee377715c52235f8a204734325\n",
      "    branch: with_privates\n",
      "parameters:\n",
      "  a: g   # A parameter (default='h')\n",
      "  b: 19   # Another parameter (default=17)\n"
     ]
    }
   ],
   "source": [
    "# print(exp2, '\\n')\n",
    "exp2.from_yml('/tmp/a/params.yml')\n",
    "print(exp2)"
   ]
  },
  {
   "cell_type": "markdown",
   "metadata": {},
   "source": [
    "Now the parameter `a` has been updated to `g` (from its default `h`). When loading from an already created `params.yml` file the status of the experiment is updated to `registered`. The `created` attribute stores the time that the experiment was registered and root and name have also been filled."
   ]
  },
  {
   "cell_type": "markdown",
   "metadata": {},
   "source": [
    "> At the moment (as above) two experiments can share the same `params.yml` file. This may however be undesirable. In the future it may also be worth adding a locked attribute to the params.yml file, which is True when a params.yml file is linked to an Experiment object and False when it has been generated by the `ExperimentManager`"
   ]
  },
  {
   "cell_type": "markdown",
   "metadata": {},
   "source": [
    "After being registered an experiment may now be run:"
   ]
  },
  {
   "cell_type": "code",
   "execution_count": 27,
   "metadata": {},
   "outputs": [
    {
     "name": "stdout",
     "output_type": "stream",
     "text": [
      "Before running:\n",
      "registered\n",
      "The experiment state inside run is running for experiment a, a = something, b = 19\n",
      "\n",
      "After running:\n",
      "finished\n"
     ]
    }
   ],
   "source": [
    "print('Before running:')\n",
    "print(exp._status)\n",
    "\n",
    "# Run the experiment using the __call__ method\n",
    "exp()\n",
    "\n",
    "print('\\nAfter running:')\n",
    "print(exp._status)"
   ]
  },
  {
   "cell_type": "code",
   "execution_count": 28,
   "metadata": {},
   "outputs": [
    {
     "name": "stdout",
     "output_type": "stream",
     "text": [
      "The logs.txt file has been written during the call\n",
      "logs.txt\n",
      "params.yml\n",
      "\n",
      "This was written from a running experiment\n"
     ]
    }
   ],
   "source": [
    "%%bash\n",
    "echo 'The logs.txt file has been written during the call'\n",
    "ls '/tmp/a'\n",
    "echo ''\n",
    "echo \"$(cat /tmp/a/logs.txt)\""
   ]
  },
  {
   "cell_type": "markdown",
   "metadata": {},
   "source": [
    "## Versioning Experiments"
   ]
  },
  {
   "cell_type": "markdown",
   "metadata": {},
   "source": [
    "Experiments evolve, parameter defaults are altered, new parameters are added, and old parameters deppreciated. Config files soon become outdated and matching config files to experiment versions becomes tricky.\n",
    "\n",
    "As parameters are part of the class definition they (including their defaults and documentation) evolve with the execution code. If the experiment is defined within a git repository then the `Experiment` class automatically takes care of versioning config files. This allows `defaults.yml` which are no longer compatibile with the current experiment definition to be easily identify. Likewise experiments can be perfectly recreated from the information within a `params.yml` by first checking out the correct experiment version.\n",
    "\n",
    "The version information is stored in the `version` property including:\n",
    "* The `'module'` the experiment was defined in\n",
    "* The name of the experiment `'class'` within the `'module'`\n",
    "* Available `git` information:\n",
    "    * The `'local'` git repository the experiement belongs to\n",
    "    * The `'commit'` hash\n",
    "    * The `'branch'` it was defined in\n",
    "    * The `'remote'` repository url\n",
    "\n",
    "If we now inspect the `params.yml` and `defaults.yml` file created earlier from the `AnExperiment` class we can see that the module and class fields have been populated along with the git information and stored in the version attribute:"
   ]
  },
  {
   "cell_type": "code",
   "execution_count": 30,
   "metadata": {},
   "outputs": [
    {
     "name": "stdout",
     "output_type": "stream",
     "text": [
      "The params.yml file:\n",
      "----------------------\n",
      "_root: /tmp  #  The root directory to which the experiment belongs (should not be set)\n",
      "_name: a #  The name of the experiment (should not be set)\n",
      "_status: finished #  The status of the experiment (one of ['default' | 'created' | 'running' | 'error' | 'finished'])\n",
      "_created: 11:58AM September 20, 2019 #  The date the last time the parameters of the model were updated.\n",
      "_purpose: An example #  The purpose for the experiment (should not be set)\n",
      "_messages: #  A dictionary of messages which are able to vary throughout the experiment (should not be set)\n",
      "  Hi: I am running!\n",
      "_version: #  A dictonary containing the experiment version information. See `get_version` for more info\n",
      "  module: /Users/robweston/xmen/examples/<ipython-input-15-64aecc4b7aea>\n",
      "  class: AnExperiment\n",
      "  git:\n",
      "    local: /Users/robweston/xmen\n",
      "    remote: https://github.com/robw4/xmen.git\n",
      "    commit: 25e54f1a04e7f0ee377715c52235f8a204734325\n",
      "    branch: with_privates\n",
      "a: something #  A parameter (default='h')\n",
      "b: 19 #  Another parameter (default=17)\n",
      "\n",
      "The defaults.yml file:\n",
      "----------------------\n",
      "_created: 11:58AM September 20, 2019  #  The date the last time the parameters of the model were updated.\n",
      "_version: #  A dictonary containing the experiment version information. See `get_version` for more info\n",
      "  module: /Users/robweston/xmen/examples/<ipython-input-15-64aecc4b7aea>\n",
      "  class: AnExperiment\n",
      "  git:\n",
      "    local: /Users/robweston/xmen\n",
      "    remote: https://github.com/robw4/xmen.git\n",
      "    commit: 25e54f1a04e7f0ee377715c52235f8a204734325\n",
      "    branch: with_privates\n",
      "a: g #  A parameter (default='h')\n",
      "b: 19 #  Another parameter (default=17)\n"
     ]
    }
   ],
   "source": [
    "%%bash\n",
    "echo \"The params.yml file:\"\n",
    "echo \"----------------------\"\n",
    "echo \"$(cat /tmp/a/params.yml)\"\n",
    "echo \"\"\n",
    "echo \"The defaults.yml file:\"\n",
    "echo \"----------------------\"\n",
    "echo \"$(cat /tmp/defaults.yml)\""
   ]
  },
  {
   "cell_type": "markdown",
   "metadata": {},
   "source": [
    "Alternatively these attributes can be acessed in python as:"
   ]
  },
  {
   "cell_type": "code",
   "execution_count": 31,
   "metadata": {},
   "outputs": [
    {
     "name": "stdout",
     "output_type": "stream",
     "text": [
      "module: /Users/robweston/xmen/examples/<ipython-input-15-64aecc4b7aea>\n",
      "class: AnExperiment\n",
      "  local: /Users/robweston/xmen\n",
      "  remote: https://github.com/robw4/xmen.git\n",
      "  commit: 25e54f1a04e7f0ee377715c52235f8a204734325\n",
      "  branch: with_privates\n"
     ]
    }
   ],
   "source": [
    "from ruamel.yaml.comments import CommentedMap\n",
    "\n",
    "exp3 = AnExperiment()\n",
    "exp3.from_yml('/tmp/defaults.yml')\n",
    "version_dict = exp3.version\n",
    "\n",
    "def recursive_lines(dic):\n",
    "    lines = []\n",
    "    for k, v in dic.items():\n",
    "        if type(v) is CommentedMap:\n",
    "            lines += ['  ' + l for l in recursive_lines(v)]\n",
    "        else:\n",
    "            lines += [f'{k}: {v}']\n",
    "    return lines\n",
    "\n",
    "print('\\n'.join(recursive_lines(version_dict)))"
   ]
  },
  {
   "cell_type": "markdown",
   "metadata": {},
   "source": [
    "## Command Line Interface\n",
    "In addition to the python api, each experiment is also able to expose a command line interface with minimal overhead. This is done by adding the follwoing lines to the module the experiment is defined in:"
   ]
  },
  {
   "cell_type": "markdown",
   "metadata": {},
   "source": [
    "```python\n",
    "# Import the experiment_parser\n",
    "from xmen.experiment import Experiment, experiment_parser\n",
    "\n",
    "class AnExperiment(Experiment):\n",
    "    # ... Define an experiment\n",
    "\n",
    "# Add the following lines to the bottom of the module\n",
    "if __name__ == '__main__':\n",
    "    args = experiment_parser.parse_args()\n",
    "    exp = AnExperiment()\n",
    "    exp.main(args)\n",
    "```"
   ]
  },
  {
   "cell_type": "markdown",
   "metadata": {},
   "source": [
    "The `AnExperiment` defined earlier is defined in `experiment.py` module with the above modifications. This allows an `AnExperiment` to be used to generate `default.yml`, to be registered and to be executed all from the command line:"
   ]
  },
  {
   "cell_type": "code",
   "execution_count": 32,
   "metadata": {},
   "outputs": [
    {
     "name": "stdout",
     "output_type": "stream",
     "text": [
      "usage: experiment.py [-h] [--update YAML_STRING] [--execute PARAMS]\n",
      "                     [--to_root DIR] [--to_defaults DIR]\n",
      "                     [--register ROOT NAME]\n",
      "\n",
      "Run the Experiment command line interface\n",
      "\n",
      "optional arguments:\n",
      "  -h, --help            show this help message and exit\n",
      "  --update YAML_STRING  Update the parameters given by a yaml string. Note\n",
      "                        this will be called beforeother flags and can be used\n",
      "                        in combination with --to_root, --to_defaults,and\n",
      "                        --register.\n",
      "  --execute PARAMS      Execute the experiment from the given params.yml file.\n",
      "                        Cannot be called with update.\n",
      "  --to_root DIR         Generate a run script and defaults.yml file for\n",
      "                        interfacing with the experiment manager. If the\n",
      "                        directory does not exist then it is first created.\n",
      "  --to_defaults DIR     Generate a defaults.yml file from the experiment\n",
      "                        defaults in the given directory\n",
      "  --register ROOT NAME  Register an experiment at root (1st positional) name\n",
      "                        (2ndpositional)\n"
     ]
    }
   ],
   "source": [
    "%%bash\n",
    "python experiment.py -h"
   ]
  },
  {
   "cell_type": "markdown",
   "metadata": {},
   "source": [
    "For example:"
   ]
  },
  {
   "cell_type": "code",
   "execution_count": 33,
   "metadata": {},
   "outputs": [
    {
     "name": "stdout",
     "output_type": "stream",
     "text": [
      "Updating parameters {'a': 'updated'}\n",
      "\n",
      "Generate a defaults.yml file first updating some parameters with a yaml string...\n",
      "/tmp/command_line/defaults.yml (a has been updated)\n",
      "----------------------------------------------------\n",
      "created: 03:42PM September 18, 2019  #  The date the last time the parameters of the model were updated.\n",
      "version: #  A dictonary containing the experiment version information. See `get_version` for more info\n",
      "  module: /Users/robweston/projects/rad2sim2rad/docs/experiment.py\n",
      "  class: AnExperiment\n",
      "  git:\n",
      "    local: /Users/robweston/projects/rad2sim2rad\n",
      "    remote: ssh://git@mrgbuild.robots.ox.ac.uk:7999/~robw/rad2sim2rad.git\n",
      "    commit: 70775458a7599e70540e7f21a408435950320fac\n",
      "    branch: master\n",
      "a: updated #  A parameter (default='h')\n",
      "b: 17 #  Another parameter (default=17)\n"
     ]
    }
   ],
   "source": [
    "%%bash\n",
    "\n",
    "# Generate a defaults.yml\n",
    "python experiment.py --update '{a: updated}' --to_defaults /tmp/command_line/updated_defaults\n",
    "\n",
    "# Visualise results\n",
    "echo \"\"\n",
    "echo \"Generate a defaults.yml file first updating some parameters with a yaml string...\"\n",
    "echo \"/tmp/command_line/defaults.yml (a has been updated)\"\n",
    "echo \"----------------------------------------------------\"\n",
    "echo \"$(cat /tmp/command_line/defaults.yml)\""
   ]
  },
  {
   "cell_type": "code",
   "execution_count": 34,
   "metadata": {},
   "outputs": [
    {
     "name": "stdout",
     "output_type": "stream",
     "text": [
      "\n",
      "/tmp/command_line/an_experiment/params.yml\n",
      "----------------------------------------------------\n",
      "_root: /tmp/command_line  #  The root directory to which the experiment belongs (should not be set)\n",
      "_name: an_experiment #  The name of the experiment (should not be set)\n",
      "_status: registered #  The status of the experiment (one of ['default' | 'created' | 'running' | 'error' | 'finished'])\n",
      "_created: 11:59AM September 20, 2019 #  The date the last time the parameters of the model were updated.\n",
      "_purpose: '' #  The purpose for the experiment (should not be set)\n",
      "_messages: {} #  A dictionary of messages which are able to vary throughout the experiment (should not be set)\n",
      "_version: #  A dictonary containing the experiment version information. See `get_version` for more info\n",
      "  module: /Users/robweston/xmen/examples/experiment.py\n",
      "  class: AnExperiment\n",
      "  git:\n",
      "    local: /Users/robweston/xmen\n",
      "    remote: https://github.com/robw4/xmen.git\n",
      "    commit: 25e54f1a04e7f0ee377715c52235f8a204734325\n",
      "    branch: with_privates\n",
      "a: h #  A parameter (default='h')\n",
      "b: 17 #  Another parameter (default=17)\n"
     ]
    }
   ],
   "source": [
    "%%bash\n",
    "# Registering an experiment\n",
    "rm -f /tmp/command_line/an_experiment/params.yml\n",
    "\n",
    "python experiment.py --register /tmp/command_line an_experiment\n",
    "echo \"\"\n",
    "echo \"/tmp/command_line/an_experiment/params.yml\"\n",
    "echo \"----------------------------------------------------\"\n",
    "echo \"$(cat /tmp/command_line/an_experiment/params.yml)\""
   ]
  },
  {
   "cell_type": "code",
   "execution_count": 35,
   "metadata": {},
   "outputs": [
    {
     "name": "stdout",
     "output_type": "stream",
     "text": [
      "The experiment state inside run is running for experiment an_experiment, a = h, b = 17\n",
      "\n",
      "After executing the experiment...\n",
      "/tmp/command_line/an_experiment/params.yml\n",
      "----------------------------------------------------\n",
      "_root: /tmp/command_line  #  The root directory to which the experiment belongs (should not be set)\n",
      "_name: an_experiment #  The name of the experiment (should not be set)\n",
      "_status: finished #  The status of the experiment (one of ['default' | 'created' | 'running' | 'error' | 'finished'])\n",
      "_created: 11:59AM September 20, 2019 #  The date the last time the parameters of the model were updated.\n",
      "_purpose: '' #  The purpose for the experiment (should not be set)\n",
      "_messages: #  A dictionary of messages which are able to vary throughout the experiment (should not be set)\n",
      "  Hi: I am running!\n",
      "_version: #  A dictonary containing the experiment version information. See `get_version` for more info\n",
      "  module: /Users/robweston/xmen/examples/experiment.py\n",
      "  class: AnExperiment\n",
      "  git:\n",
      "    local: /Users/robweston/xmen\n",
      "    remote: https://github.com/robw4/xmen.git\n",
      "    commit: 25e54f1a04e7f0ee377715c52235f8a204734325\n",
      "    branch: with_privates\n",
      "a: h #  A parameter (default='h')\n",
      "b: 17 #  Another parameter (default=17)\n"
     ]
    }
   ],
   "source": [
    "%%bash\n",
    "# Execute an experiment\n",
    "python experiment.py --execute /tmp/command_line/an_experiment/params.yml\n",
    "\n",
    "echo \"\"\n",
    "echo \"After executing the experiment...\"\n",
    "echo \"/tmp/command_line/an_experiment/params.yml\"\n",
    "echo \"----------------------------------------------------\"\n",
    "echo \"$(cat /tmp/command_line/an_experiment/params.yml)\""
   ]
  },
  {
   "cell_type": "markdown",
   "metadata": {},
   "source": [
    "## The Experiment Manager\n",
    "The experiment manager is a python command line tool for managing a set of experiments which all share execution code (a `script.sh`) which takes as input parameters (`defaults.yml`). By changing the parameters, each experiment is uniquely defined. Firstly, lets create a root experiment repository from the experiment defined earlier"
   ]
  },
  {
   "cell_type": "code",
   "execution_count": 1,
   "metadata": {},
   "outputs": [
    {
     "name": "stdout",
     "output_type": "stream",
     "text": [
      "#!/bin/bash\n",
      "# File generated on the 12:12PM September 20, 2019\n",
      "# GIT:\n",
      "# - repo /Users/robweston/xmen\n",
      "# - branch with_privates\n",
      "# - remote https://github.com/robw4/xmen.git\n",
      "# - commit 25e54f1a04e7f0ee377715c52235f8a204734325\n",
      "\n",
      "export PYTHONPATH=\"${PYTHONPATH}:/Users/robweston/xmen/examples\"\n",
      "python /Users/robweston/xmen/examples/experiment.py --execute ${1}\n"
     ]
    }
   ],
   "source": [
    "!python experiment.py --to_root /tmp/experiment_manager/root"
   ]
  },
  {
   "cell_type": "markdown",
   "metadata": {},
   "source": [
    "The above gives a bash script automatically generated in order to run an experiment saved as `script.sh` in the root experiment repository along with a `defaults.yml` file:"
   ]
  },
  {
   "cell_type": "code",
   "execution_count": 2,
   "metadata": {},
   "outputs": [
    {
     "name": "stdout",
     "output_type": "stream",
     "text": [
      "total 24\n",
      "drwxr-xr-x  2 robweston  wheel   68 20 Sep 12:08 \u001b[1m\u001b[36ma:first__b:4\u001b[m\u001b[m\n",
      "drwxr-xr-x  3 robweston  wheel  102 20 Sep 12:10 \u001b[1m\u001b[36ma:first__b:4_1\u001b[m\u001b[m\n",
      "drwxr-xr-x  3 robweston  wheel  102 20 Sep 12:10 \u001b[1m\u001b[36ma:first__b:4_2\u001b[m\u001b[m\n",
      "drwxr-xr-x  3 robweston  wheel  102 20 Sep 12:10 \u001b[1m\u001b[36ma:first__b:4_3\u001b[m\u001b[m\n",
      "drwxr-xr-x  3 robweston  wheel  102 20 Sep 12:11 \u001b[1m\u001b[36ma:first__b:4_4\u001b[m\u001b[m\n",
      "drwxr-xr-x  3 robweston  wheel  102 20 Sep 12:11 \u001b[1m\u001b[36ma:first__b:4_5\u001b[m\u001b[m\n",
      "drwxr-xr-x  3 robweston  wheel  102 20 Sep 12:10 \u001b[1m\u001b[36ma:first__b:5\u001b[m\u001b[m\n",
      "drwxr-xr-x  3 robweston  wheel  102 20 Sep 12:10 \u001b[1m\u001b[36ma:second__b:4\u001b[m\u001b[m\n",
      "drwxr-xr-x  3 robweston  wheel  102 20 Sep 12:10 \u001b[1m\u001b[36ma:second__b:5\u001b[m\u001b[m\n",
      "-rw-r--r--  1 robweston  wheel  526 20 Sep 12:12 defaults.yml\n",
      "-rw-r--r--  1 robweston  wheel  791 20 Sep 12:11 experiment.yml\n",
      "-rw-r--r--  1 robweston  wheel  355 20 Sep 12:12 script.sh\n"
     ]
    }
   ],
   "source": [
    "!ls -l /tmp/experiment_manager/root"
   ]
  },
  {
   "cell_type": "markdown",
   "metadata": {},
   "source": [
    "For ease of use we first create an alias to the experiment manager. You are encouraged to do this in your `~/.bashrc` or equivalent. Unfortunately ipython does not register previously defined aliases so we need to redefine it here. We also move to the root repository:"
   ]
  },
  {
   "cell_type": "code",
   "execution_count": 3,
   "metadata": {},
   "outputs": [],
   "source": [
    "alias xmen ~/xmen/python/xmen/experiment_manager.py"
   ]
  },
  {
   "cell_type": "markdown",
   "metadata": {},
   "source": [
    "First we navigate to the root directory:"
   ]
  },
  {
   "cell_type": "code",
   "execution_count": 4,
   "metadata": {},
   "outputs": [
    {
     "name": "stdout",
     "output_type": "stream",
     "text": [
      "/private/tmp/experiment_manager/root\n"
     ]
    }
   ],
   "source": [
    "%cd /tmp/experiment_manager/root\n",
    "!rm -f experiment.yml"
   ]
  },
  {
   "cell_type": "markdown",
   "metadata": {},
   "source": [
    "Next we initialise the experiment manager"
   ]
  },
  {
   "cell_type": "code",
   "execution_count": 5,
   "metadata": {},
   "outputs": [],
   "source": [
    "%xmen init"
   ]
  },
  {
   "cell_type": "markdown",
   "metadata": {},
   "source": [
    "Initilialising the experiment parameter in the root directory produces a `experiment.yml` file. The `exp list` command provides a helpfull output to visualise the state of the current experiements:"
   ]
  },
  {
   "cell_type": "code",
   "execution_count": 6,
   "metadata": {},
   "outputs": [
    {
     "name": "stdout",
     "output_type": "stream",
     "text": [
      "No experiments currently registered!\n",
      "\n",
      "Defaults: \n",
      "- created: 12:12PM September 20, 2019\n",
      "- module: /Users/robweston/xmen/examples/experiment.py\n",
      "- class: AnExperiment\n",
      "- git:\n",
      "   local: /Users/robweston/xmen\n",
      "   commit: 25e54f1a04e7f0ee377715c52235f8a204734325\n",
      "   remote: https://github.com/robw4/xmen.git\n"
     ]
    }
   ],
   "source": [
    "%xmen list"
   ]
  },
  {
   "cell_type": "markdown",
   "metadata": {},
   "source": [
    "Multiple experiments are registered with the experiment manager in a single call through the `register` command:"
   ]
  },
  {
   "cell_type": "code",
   "execution_count": null,
   "metadata": {},
   "outputs": [],
   "source": [
    "xmen register '{a: first | second, b: 4 | 5}' 'intial_test'"
   ]
  },
  {
   "cell_type": "markdown",
   "metadata": {},
   "source": [
    "The special charcter `|` is interpreted as an or operator. Experiments are registered for every possible combination of parameters appearing with `|`. For example in the above 4 experiments have been registered:"
   ]
  },
  {
   "cell_type": "code",
   "execution_count": 8,
   "metadata": {},
   "outputs": [
    {
     "name": "stdout",
     "output_type": "stream",
     "text": [
      "        overrides      purpose                     created      status messages                                    commit\n",
      "0  a:first__b:4_1  intial_test  12:10PM September 20, 2019  registered       {}  25e54f1a04e7f0ee377715c52235f8a204734325\n",
      "1    a:first__b:5  intial_test  12:10PM September 20, 2019  registered       {}  25e54f1a04e7f0ee377715c52235f8a204734325\n",
      "2   a:second__b:4  intial_test  12:10PM September 20, 2019  registered       {}  25e54f1a04e7f0ee377715c52235f8a204734325\n",
      "3   a:second__b:5  intial_test  12:10PM September 20, 2019  registered       {}  25e54f1a04e7f0ee377715c52235f8a204734325\n",
      "\n",
      "Defaults: \n",
      "- created: 12:10PM September 20, 2019\n",
      "- module: /Users/robweston/xmen/examples/experiment.py\n",
      "- class: AnExperiment\n",
      "- git:\n",
      "   local: /Users/robweston/xmen\n",
      "   commit: 25e54f1a04e7f0ee377715c52235f8a204734325\n",
      "   remote: https://github.com/robw4/xmen.git\n"
     ]
    }
   ],
   "source": [
    "%xmen list"
   ]
  },
  {
   "cell_type": "markdown",
   "metadata": {},
   "source": [
    "You are also allowed to register multiple experiments with the same overrides. In this case there name is appended by an index `_1` `_2` etc:"
   ]
  },
  {
   "cell_type": "code",
   "execution_count": 10,
   "metadata": {},
   "outputs": [
    {
     "name": "stdout",
     "output_type": "stream",
     "text": [
      "        overrides      purpose                     created      status messages                                    commit\n",
      "0  a:first__b:4_1  intial_test  12:10PM September 20, 2019  registered       {}  25e54f1a04e7f0ee377715c52235f8a204734325\n",
      "1    a:first__b:5  intial_test  12:10PM September 20, 2019  registered       {}  25e54f1a04e7f0ee377715c52235f8a204734325\n",
      "2   a:second__b:4  intial_test  12:10PM September 20, 2019  registered       {}  25e54f1a04e7f0ee377715c52235f8a204734325\n",
      "3   a:second__b:5  intial_test  12:10PM September 20, 2019  registered       {}  25e54f1a04e7f0ee377715c52235f8a204734325\n",
      "4  a:first__b:4_2  intial_test  12:10PM September 20, 2019  registered       {}  25e54f1a04e7f0ee377715c52235f8a204734325\n",
      "5  a:first__b:4_3  intial_test  12:10PM September 20, 2019  registered       {}  25e54f1a04e7f0ee377715c52235f8a204734325\n",
      "6  a:first__b:4_4  intial_test  12:11PM September 20, 2019  registered       {}  25e54f1a04e7f0ee377715c52235f8a204734325\n",
      "7  a:first__b:4_5  intial_test  12:11PM September 20, 2019  registered       {}  25e54f1a04e7f0ee377715c52235f8a204734325\n",
      "\n",
      "Defaults: \n",
      "- created: 12:10PM September 20, 2019\n",
      "- module: /Users/robweston/xmen/examples/experiment.py\n",
      "- class: AnExperiment\n",
      "- git:\n",
      "   local: /Users/robweston/xmen\n",
      "   commit: 25e54f1a04e7f0ee377715c52235f8a204734325\n",
      "   remote: https://github.com/robw4/xmen.git\n"
     ]
    }
   ],
   "source": [
    "%xmen register '{a: first, b: 4}' 'intial_test'\n",
    "%xmen register '{a: first, b: 4}' 'intial_test'\n",
    "%xmen list"
   ]
  },
  {
   "cell_type": "markdown",
   "metadata": {},
   "source": [
    "Experiments can be run either individually or all together:"
   ]
  },
  {
   "cell_type": "code",
   "execution_count": null,
   "metadata": {},
   "outputs": [],
   "source": [
    "%xmen run 'a:second__b:4' sh"
   ]
  },
  {
   "cell_type": "code",
   "execution_count": 32,
   "metadata": {},
   "outputs": [
    {
     "name": "stdout",
     "output_type": "stream",
     "text": [
      "        overrides      purpose                     created      status                 messages                                    commit\n",
      "0    a:first__b:4  intial_test  11:05AM September 20, 2019  registered                       {}  a692bc7ea31af51890c828ddc836456b1f7776e3\n",
      "1    a:first__b:5  intial_test  11:05AM September 20, 2019  registered                       {}  a692bc7ea31af51890c828ddc836456b1f7776e3\n",
      "2   a:second__b:4  intial_test  11:05AM September 20, 2019    finished  {'Hi': 'I am running!'}  a692bc7ea31af51890c828ddc836456b1f7776e3\n",
      "3   a:second__b:5  intial_test  11:05AM September 20, 2019  registered                       {}  a692bc7ea31af51890c828ddc836456b1f7776e3\n",
      "4  a:first__b:4_1  intial_test  11:05AM September 20, 2019  registered                       {}  a692bc7ea31af51890c828ddc836456b1f7776e3\n",
      "5  a:first__b:4_2  intial_test  11:05AM September 20, 2019  registered                       {}  a692bc7ea31af51890c828ddc836456b1f7776e3\n",
      "\n",
      "Defaults: \n",
      "- created 11:05AM September 20, 2019\n",
      "- module /Users/robweston/xmen/examples/experiment.py\n",
      "- class AnExperiment\n",
      "- git:\n",
      "   local: /Users/robweston/xmen\n",
      "   commit: a692bc7ea31af51890c828ddc836456b1f7776e3\n",
      "   remote: https://github.com/robw4/xmen.git\n"
     ]
    }
   ],
   "source": [
    "%xmen list"
   ]
  },
  {
   "cell_type": "code",
   "execution_count": 33,
   "metadata": {},
   "outputs": [
    {
     "name": "stdout",
     "output_type": "stream",
     "text": [
      "\n",
      "Running: sh /private/tmp/experiment_manager/root/script.sh /private/tmp/experiment_manager/root/a:first__b:4/params.yml\n",
      "The experiment state inside run is running for experiment a:first__b:4, a = first, b = 4\n",
      "\n",
      "Running: sh /private/tmp/experiment_manager/root/script.sh /private/tmp/experiment_manager/root/a:first__b:4_1/params.yml\n",
      "The experiment state inside run is running for experiment a:first__b:4_1, a = first, b = 4\n",
      "\n",
      "Running: sh /private/tmp/experiment_manager/root/script.sh /private/tmp/experiment_manager/root/a:first__b:4_2/params.yml\n",
      "The experiment state inside run is running for experiment a:first__b:4_2, a = first, b = 4\n",
      "\n",
      "Running: sh /private/tmp/experiment_manager/root/script.sh /private/tmp/experiment_manager/root/a:first__b:5/params.yml\n",
      "The experiment state inside run is running for experiment a:first__b:5, a = first, b = 5\n",
      "\n",
      "Running: sh /private/tmp/experiment_manager/root/script.sh /private/tmp/experiment_manager/root/a:second__b:5/params.yml\n",
      "The experiment state inside run is running for experiment a:second__b:5, a = second, b = 5\n",
      "        overrides      purpose                     created    status                 messages                                    commit\n",
      "0    a:first__b:4  intial_test  11:06AM September 20, 2019  finished  {'Hi': 'I am running!'}  a692bc7ea31af51890c828ddc836456b1f7776e3\n",
      "1    a:first__b:5  intial_test  11:06AM September 20, 2019  finished  {'Hi': 'I am running!'}  a692bc7ea31af51890c828ddc836456b1f7776e3\n",
      "2   a:second__b:4  intial_test  11:05AM September 20, 2019  finished  {'Hi': 'I am running!'}  a692bc7ea31af51890c828ddc836456b1f7776e3\n",
      "3   a:second__b:5  intial_test  11:06AM September 20, 2019  finished  {'Hi': 'I am running!'}  a692bc7ea31af51890c828ddc836456b1f7776e3\n",
      "4  a:first__b:4_1  intial_test  11:06AM September 20, 2019  finished  {'Hi': 'I am running!'}  a692bc7ea31af51890c828ddc836456b1f7776e3\n",
      "5  a:first__b:4_2  intial_test  11:06AM September 20, 2019  finished  {'Hi': 'I am running!'}  a692bc7ea31af51890c828ddc836456b1f7776e3\n",
      "\n",
      "Defaults: \n",
      "- created 11:05AM September 20, 2019\n",
      "- module /Users/robweston/xmen/examples/experiment.py\n",
      "- class AnExperiment\n",
      "- git:\n",
      "   local: /Users/robweston/xmen\n",
      "   commit: a692bc7ea31af51890c828ddc836456b1f7776e3\n",
      "   remote: https://github.com/robw4/xmen.git\n"
     ]
    }
   ],
   "source": [
    "%xmen run '*' sh\n",
    "%xmen list"
   ]
  },
  {
   "cell_type": "markdown",
   "metadata": {},
   "source": [
    "Lets now clean up the experiment repository:"
   ]
  },
  {
   "cell_type": "code",
   "execution_count": 34,
   "metadata": {},
   "outputs": [
    {
     "name": "stdout",
     "output_type": "stream",
     "text": [
      "Removing Experiments...\n",
      "/private/tmp/experiment_manager/root/a:first__b:4\n",
      "/private/tmp/experiment_manager/root/a:first__b:4_1\n",
      "/private/tmp/experiment_manager/root/a:first__b:4_2\n",
      "/private/tmp/experiment_manager/root/a:first__b:5\n",
      "/private/tmp/experiment_manager/root/a:second__b:4\n",
      "/private/tmp/experiment_manager/root/a:second__b:5\n",
      "Note models are removed from the experiment list only. To remove the model directories runexperiment rm\n"
     ]
    }
   ],
   "source": [
    "# First we unlink all the experiments\n",
    "%xmen unlink '*'"
   ]
  },
  {
   "cell_type": "code",
   "execution_count": 35,
   "metadata": {},
   "outputs": [
    {
     "name": "stdout",
     "output_type": "stream",
     "text": [
      "/private/tmp/experiment_manager/root/a:first__b:4\n",
      "/private/tmp/experiment_manager/root/a:first__b:4_1\n",
      "/private/tmp/experiment_manager/root/a:first__b:4_2\n",
      "/private/tmp/experiment_manager/root/a:first__b:5\n",
      "/private/tmp/experiment_manager/root/a:second__b:4\n",
      "/private/tmp/experiment_manager/root/a:second__b:5\n",
      "\n",
      "No experiments currently registered!\n",
      "\n",
      "Defaults: \n",
      "- created 11:05AM September 20, 2019\n",
      "- module /Users/robweston/xmen/examples/experiment.py\n",
      "- class AnExperiment\n",
      "- git:\n",
      "   local: /Users/robweston/xmen\n",
      "   commit: a692bc7ea31af51890c828ddc836456b1f7776e3\n",
      "   remote: https://github.com/robw4/xmen.git\n"
     ]
    }
   ],
   "source": [
    "#Now we remove the experiment folders \n",
    "#WARNING: THIS WILL REMOVE ALL EXPERIMENTS THAT ARE NO LONGER LINKED TO THE EXPERIMENT MANAGER\n",
    "%xmen rm '*'\n",
    "!echo \"\"\n",
    "%xmen list"
   ]
  },
  {
   "cell_type": "markdown",
   "metadata": {},
   "source": [
    "## The TypedMeta metaclass\n",
    "The `TypedMeta` meta class stremalines the definition of objects whith many attirbutes that most of the time will simply just take default values. For example consider the following class definition:"
   ]
  },
  {
   "cell_type": "code",
   "execution_count": 35,
   "metadata": {},
   "outputs": [],
   "source": [
    "class A(object):\n",
    "    def __init__(self, a=3, b=4, c=3, d=4, e=5, f=6, g=7):\n",
    "        \"\"\"An object with some attributes:\n",
    "        \n",
    "        Parameters:\n",
    "            a (int): The first attribute\n",
    "            b (int): The second attribute\n",
    "            c (int): The third attribute \n",
    "            d (int): The fourth attribute\n",
    "            e (int): The fith attribute\n",
    "            g (int): The sixth attribute\n",
    "        \"\"\"\n",
    "        self.a = a\n",
    "        self.b = b\n",
    "        self.c = c\n",
    "        self.d = d\n",
    "        self.e = e\n",
    "        self.f = f\n",
    "        self.g = g"
   ]
  },
  {
   "cell_type": "markdown",
   "metadata": {},
   "source": [
    "For a large number of parameters defining parameters in the args, docstrings and attributes quickly becomes tiresome. We could instead think about inferring attributes directly from the arguments of a function. Maybe by updating `self.__dict__` directly after using `argparse` to get the parameters from the function definition or simply only passing `**kwargs` to `__init__`. This seems quite convoluted and will break code completion for many interpreters.\n",
    "\n",
    "This is where the `TypedMeta` metaclass comes in. Instead we define objects like:"
   ]
  },
  {
   "cell_type": "code",
   "execution_count": 68,
   "metadata": {},
   "outputs": [],
   "source": [
    "from xmen.utils import TypedMeta\n",
    "class AWithMeta(object, metaclass=TypedMeta):\n",
    "    def __init__(self):\n",
    "        \"\"\"An object with some attributes\"\"\"\n",
    "        self.a: int = 1   # The first attribute\n",
    "        self.b: int = 2   # The second attribute\n",
    "        self.c: int = 3   # The third attribute \n",
    "        self.d: int = 4   # The fourth attribute\n",
    "        self.e: int = 5   # The fith attribute\n",
    "        self.f: int = 6   # The sixth attribute\n",
    "        self.g: int = 7   # The seventh attribute"
   ]
  },
  {
   "cell_type": "markdown",
   "metadata": {},
   "source": [
    "Here we have made use of typed attributes (introduced in python >= 3). In order to allow the defualt values to be overidden we could also consider passing an option keywords arg `**kwargs` and updating the attribute dictionary directly (updating only on keys correpsonding to valid attributes). The `TypedMeta` metaclass automatically adds attributes to the docstring of `AWithMeta` and `AWithMeta.__init__`:"
   ]
  },
  {
   "cell_type": "code",
   "execution_count": 69,
   "metadata": {},
   "outputs": [
    {
     "name": "stdout",
     "output_type": "stream",
     "text": [
      "An object with some attributes\n",
      "\n",
      "Parameters:\n",
      "    a (int): The first attribute (default=1)\n",
      "    b (int): The second attribute (default=2)\n",
      "    c (int): The third attribute (default=3)\n",
      "    d (int): The fourth attribute (default=4)\n",
      "    e (int): The fith attribute (default=5)\n",
      "    f (int): The sixth attribute (default=6)\n",
      "    g (int): The seventh attribute (default=7)\n"
     ]
    }
   ],
   "source": [
    "# The doc string of an experiment object is updated\n",
    "print(AWithMeta.__init__.__doc__)"
   ]
  },
  {
   "cell_type": "markdown",
   "metadata": {},
   "source": [
    "The typed Meta class works with both typed and non-typed attribute definitions with or without comments. It will do the best it can with what it has. For example:"
   ]
  },
  {
   "cell_type": "code",
   "execution_count": 70,
   "metadata": {},
   "outputs": [
    {
     "name": "stdout",
     "output_type": "stream",
     "text": [
      "\n",
      "\n",
      "Parameters:\n",
      "    a (float): The first attribute (default=1)\n",
      "    b (int): (default= 2)\n",
      "    c : The third attribute (default=3)\n",
      "    d : (default= 4)\n"
     ]
    }
   ],
   "source": [
    "class BWithMeta(object, metaclass=TypedMeta):\n",
    "    def __init__(self):\n",
    "        \"\"\"An object with some attributes\"\"\"\n",
    "        self.a: float = 1   # The first attribute\n",
    "        self.b: int = 2\n",
    "        self.c = 3   # The third attribute \n",
    "        self.d = 4\n",
    "\n",
    "print(BWithMeta.__doc__)"
   ]
  },
  {
   "cell_type": "markdown",
   "metadata": {},
   "source": [
    "> The TypedMeta class is currently only compatible with comments defined on a single line. You are recommended to specify longer comments in the doc-string directly"
   ]
  }
 ],
 "metadata": {
  "kernelspec": {
   "display_name": "Python 3",
   "language": "python",
   "name": "python3"
  },
  "language_info": {
   "codemirror_mode": {
    "name": "ipython",
    "version": 3
   },
   "file_extension": ".py",
   "mimetype": "text/x-python",
   "name": "python",
   "nbconvert_exporter": "python",
   "pygments_lexer": "ipython3",
   "version": "3.6.8"
  }
 },
 "nbformat": 4,
 "nbformat_minor": 4
}
