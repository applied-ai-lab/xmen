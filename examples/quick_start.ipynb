{
 "cells": [
  {
   "cell_type": "markdown",
   "metadata": {},
   "source": [
    "# Xmen"
   ]
  },
  {
   "cell_type": "markdown",
   "metadata": {},
   "source": [
    "## The Python API"
   ]
  },
  {
   "cell_type": "markdown",
   "metadata": {},
   "source": [
    "Experiments can be defined as python classes. Parameters are treated as special attributes and the run method defines experiment execution:\n",
    "\n",
    "```python\n",
    "from xmen.experiment import Experiment, experiment_parser\n",
    "import os\n",
    "import time\n",
    "\n",
    "\n",
    "class AnExperiment(Experiment):\n",
    "    def __init__(self):\n",
    "        \"\"\"A basic python experiment demonstrating the features of the xmen api.\"\"\"\n",
    "        super(AnExperiment, self).__init__()\n",
    "        # Lets define some parameters. This is done using the @p identifier.\n",
    "        # By using Python typing you are able to define the name, type, default\n",
    "        # And help for a parameter all in a single line. The TypedMeta metaclass\n",
    "        # automatically takes care of identifying parameters and managing\n",
    "        # doucmentation even before the class is instantiated!\n",
    "        self.a: str = 'h'  # @p A parameter\n",
    "        self.b: int = 17  # @p Another parameter\n",
    "\n",
    "        # Normal attributes are still allowed\n",
    "        self.c: int = 5  # This is not a parameter\n",
    "\n",
    "    def run(self):\n",
    "        # The execution of an experiement is created by overloading the run method.\n",
    "        print(f'a = {self.a}, b = {self.b}')\n",
    "\n",
    "        # In order to be executed an experiment must be linked with a directory\n",
    "        # in which a params.yml file is created recording designed to allow the\n",
    "        # execution environement to be reproduced. The experiments status is updated\n",
    "        # to running within the experiment.\n",
    "        print(f'The experiment state inside run is {self.status}')\n",
    "\n",
    "        # The experiment class ``message`` facilitates experiment communication.\n",
    "        # The time is now added to the _messages dictionary in params.yml.\n",
    "        self.message({'time': time.time()})\n",
    "\n",
    "        # Each experiment has its own unique directory. You are encourage to\n",
    "        # write out data acumulated through the execution (snapshots, logs etc.)\n",
    "        # to this directory.\n",
    "        with open(os.path.join(self.directory, 'logs.txt'), 'w') as f:\n",
    "            f.write('This was written from a running experiment')\n",
    "\n",
    "\n",
    "if __name__ == '__main__':\n",
    "    # Now we expose the command line interface\n",
    "    exp = AnExperiment()\n",
    "    args = exp.parse_args()\n",
    "    exp.main(args)\n",
    "```\n",
    "\n",
    "The above is a copy of `experiment.py` module defined in this repo. The `TypedMeta` meta class is responsible for identifying parameters and managing documentation. The file `experiment.py` contains a copy of the above as a module. We are then able to call:"
   ]
  },
  {
   "cell_type": "code",
   "execution_count": 1,
   "metadata": {},
   "outputs": [
    {
     "name": "stdout",
     "output_type": "stream",
     "text": [
      "usage: experiment.py [-h] [--update YAML_STRING] [--execute PARAMS]\n",
      "                     [--to_root DIR] [--to_defaults DIR]\n",
      "                     [--register ROOT NAME] [--debug DEBUG] [--name]\n",
      "\n",
      "A basic python experiment demonstrating the features of the xmen api.\n",
      "\n",
      "optional arguments:\n",
      "  -h, --help            show this help message and exit\n",
      "  --update YAML_STRING  Update the parameters given by a yaml string. Note this will be called beforeother flags and can be used in combination with --to_root, --to_defaults,and --register.\n",
      "  --execute PARAMS      Execute the experiment from the given params.yml file. Cannot be called with update.\n",
      "  --to_root DIR         Generate a run script and defaults.yml file for interfacing with the experiment manager. If the directory does not exist then it is first created.\n",
      "  --to_defaults DIR     Generate a defaults.yml file from the experiment defaults in the given directory\n",
      "  --register ROOT NAME  Register an experiment at root (1st positional) name (2ndpositional)\n",
      "  --debug DEBUG         Run experiment in debug mode. Experiment is registered to a folder in /tmp\n",
      "  --name                Return the name of the experiment class\n",
      "\n",
      "Parameters:\n",
      "    a (str): A parameter (default='h')\n",
      "    b (int): Another parameter (default=17)\n"
     ]
    }
   ],
   "source": [
    "!python3 experiment.py --help"
   ]
  },
  {
   "cell_type": "markdown",
   "metadata": {},
   "source": [
    "The help information is also available using `help`"
   ]
  },
  {
   "cell_type": "code",
   "execution_count": 2,
   "metadata": {},
   "outputs": [
    {
     "name": "stdout",
     "output_type": "stream",
     "text": [
      "Help on class AnExperiment in module experiment:\n",
      "\n",
      "class AnExperiment(xmen.experiment.Experiment)\n",
      " |  Parameters:\n",
      " |      a (str): A parameter (default='h')\n",
      " |      b (int): Another parameter (default=17)\n",
      " |  \n",
      " |  Method resolution order:\n",
      " |      AnExperiment\n",
      " |      xmen.experiment.Experiment\n",
      " |      builtins.object\n",
      " |  \n",
      " |  Methods defined here:\n",
      " |  \n",
      " |  __init__(self)\n",
      " |      A basic python experiment demonstrating the features of the xmen api.\n",
      " |      \n",
      " |      Parameters:\n",
      " |          a (str): A parameter (default='h')\n",
      " |          b (int): Another parameter (default=17)\n",
      " |  \n",
      " |  run(self)\n",
      " |  \n",
      " |  ----------------------------------------------------------------------\n",
      " |  Methods inherited from xmen.experiment.Experiment:\n",
      " |  \n",
      " |  __call__(self, *args, **kwargs)\n",
      " |      Used to run experiment. Upon entering the experiment status is updated to ``'running`` before ``args`` and\n",
      " |      ``kwargs`` are passed to ``run()``. If ``run()`` is successful the experiment ``status`` is updated to\n",
      " |      ``'finished'`` else it will be given ``status='error'``.\n",
      " |      \n",
      " |      Both *args and **kwargs are passed to self.run.\n",
      " |  \n",
      " |  __enter__(self)\n",
      " |  \n",
      " |  __exit__(self, exc_type, exc_val, exc_tb)\n",
      " |  \n",
      " |  __repr__(self)\n",
      " |      Provides a useful help message for the experiment\n",
      " |  \n",
      " |  __setattr__(self, key, value)\n",
      " |      Attributes can only be changed when the status of the experiment is default\n",
      " |  \n",
      " |  detach(self)\n",
      " |  \n",
      " |  from_yml(self, path)\n",
      " |      Load state from either a ``params.yml`` or ``defaults.yml`` file (inferred from the filename).\n",
      " |      The status of the experiment will be equal to ``'default'`` if ``'defaults.yml'``\n",
      " |      file else ``'registered'`` if ``params.yml`` file.\n",
      " |  \n",
      " |  get_attributes_help(self)\n",
      " |      Get help for all attributes in class (including inherited and private).\n",
      " |  \n",
      " |  main(self, args)\n",
      " |      A main loop used to expose the command line interface. In order to expose the command line\n",
      " |      interface within a module definition the lines::\n",
      " |      \n",
      " |          import experiment_parser as exp_parser\n",
      " |      \n",
      " |          ...\n",
      " |      \n",
      " |          if __name__ == '__main__':\n",
      " |              args = exp_parser.parser()\n",
      " |              exp = AnExperiment()   # Initialise\n",
      " |              exp.main(args)\n",
      " |      \n",
      " |      should be added to the module script (where ``AnExperiment`` inherits from ``Experiment``).\n",
      " |  \n",
      " |  message(self, message_dict)\n",
      " |      Add a message to the params.yml file.\n",
      " |      \n",
      " |      Args:\n",
      " |          message_dict (dict): A dictionary of messages. Keys are interpreted as subjects and values interpreted as\n",
      " |              messages. If the ``defaults.yml`` already contains subject then the message for subject will be\n",
      " |              updated.\n",
      " |  \n",
      " |  param_keys(self)\n",
      " |  \n",
      " |  parse_args(self)\n",
      " |  \n",
      " |  register(self, root, name, purpose='', force=True, same_names=100)\n",
      " |      Register an experiment to an experiment directory. Its status will be updated to ``registered``. If an\n",
      " |      experiment called ``name`` exists in ``root`` and ``force==True`` then name will be appended with an int\n",
      " |      (eg. ``{name}_0``) until a unique name is found in ``root``. If ``force==False`` a ``ValueError`` will be raised.\n",
      " |      \n",
      " |      Raises:\n",
      " |          ValueError: if ``{root}/{name}`` already contains a ``params.yml`` file\n",
      " |  \n",
      " |  register_param(self, k, default, type=None, help=None)\n",
      " |  \n",
      " |  to_defaults(self, defaults_dir)\n",
      " |      Create a ``defaults.yml`` file from experiment object.\n",
      " |      Any base class inheriting from Experiment can create a default file as::\n",
      " |      \n",
      " |         MyExperiment().to_yaml('/dir/to/defaults/root')\n",
      " |  \n",
      " |  to_root(self, root_dir)\n",
      " |      Generate a ``defaults.yml`` file and ``script.sh`` file in ``root_dir``.\n",
      " |      \n",
      " |      Args:\n",
      " |          root_dir (str): A path to the root directory in which to generate a script.sh and defaults.yml to\n",
      " |              run the experiment.\n",
      " |  \n",
      " |  update(self, kwargs)\n",
      " |      Update the parameters with a given dictionary\n",
      " |  \n",
      " |  update_meta(self)\n",
      " |  \n",
      " |  update_version(self)\n",
      " |  \n",
      " |  ----------------------------------------------------------------------\n",
      " |  Data descriptors inherited from xmen.experiment.Experiment:\n",
      " |  \n",
      " |  __dict__\n",
      " |      dictionary for instance variables (if defined)\n",
      " |  \n",
      " |  __weakref__\n",
      " |      list of weak references to the object (if defined)\n",
      " |  \n",
      " |  created\n",
      " |      The date the experiment parameters were last updated.\n",
      " |  \n",
      " |  directory\n",
      " |      The directory assigned to the experiment\n",
      " |  \n",
      " |  messages\n",
      " |      A dictionary of messages logged by the experimet.\n",
      " |  \n",
      " |  name\n",
      " |      The name of the current experiment\n",
      " |  \n",
      " |  purpose\n",
      " |      A string giving a purpose message for the experiment\n",
      " |  \n",
      " |  root\n",
      " |      The root directory to which the experiment belongs\n",
      " |  \n",
      " |  status\n",
      " |      The status of the experiment. One of ``'default'``, ``'registered'``, ``'running'``, ``'finished'`` or\n",
      " |      ``'error'``.\n",
      " |  \n",
      " |  version\n",
      " |      A dictionary giving the version information for the experiment\n",
      "\n"
     ]
    }
   ],
   "source": [
    "# Documentation is automatically added to the doc string of the class\n",
    "from experiment import AnExperiment\n",
    "help(AnExperiment)"
   ]
  },
  {
   "cell_type": "markdown",
   "metadata": {},
   "source": [
    "## The Command Line Interface"
   ]
  },
  {
   "cell_type": "markdown",
   "metadata": {},
   "source": [
    "The `xmen` command line tool is used to quickly setup and manage experiments. First some set up:"
   ]
  },
  {
   "cell_type": "code",
   "execution_count": 3,
   "metadata": {},
   "outputs": [
    {
     "name": "stdout",
     "output_type": "stream",
     "text": [
      "/Users/robweston\n"
     ]
    }
   ],
   "source": [
    "# Clear previous examples\n",
    "%cd ~\n",
    "%rm -rf /private/tmp/experiments/set_a \n",
    "# These need to be set in order to work with a jupyter notebook\n",
    "%alias xmen ~/xmen/python/xmen/main.py\n",
    "%xmen config --disable_prompt"
   ]
  },
  {
   "cell_type": "markdown",
   "metadata": {},
   "source": [
    "The tool is accessed through the `xmen` command:"
   ]
  },
  {
   "cell_type": "code",
   "execution_count": 4,
   "metadata": {},
   "outputs": [
    {
     "name": "stdout",
     "output_type": "stream",
     "text": [
      "usage: xmen [-h]\n",
      "            {config,note,init,register,list,run,reset,clean,rm,unlink,relink}\n",
      "            ...\n",
      "\n",
      "A helper module for the quick setup and management of experiments\n",
      "\n",
      "positional arguments:\n",
      "  {config,note,init,register,list,run,reset,clean,rm,unlink,relink}\n",
      "    init                Initialise an experiment set.\n",
      "    register            Register a set of experiments.\n",
      "    list                List (all) experiments to screen\n",
      "    run                 Run experiments matching glob in experiment set that\n",
      "                        have not yetbeen run.\n",
      "    reset               Reset an experiment to registered status\n",
      "    clean               (DESTRUCTIVE) Remove unlinked experiments\n",
      "    rm                  (DESTRUCTIVE) Remove an experiment set.\n",
      "    unlink              Unlink experiments from experiment set\n",
      "    relink              Relink experiments to global configuration or to a set\n",
      "                        root\n",
      "\n",
      "optional arguments:\n",
      "  -h, --help            show this help message and exit\n"
     ]
    }
   ],
   "source": [
    "%xmen --help"
   ]
  },
  {
   "cell_type": "markdown",
   "metadata": {},
   "source": [
    "### Initialising an experiment set\n",
    "Lets create a new set of experiments. First we add the experiment we defined earlier to the global configuration:"
   ]
  },
  {
   "cell_type": "code",
   "execution_count": 5,
   "metadata": {},
   "outputs": [],
   "source": [
    "# Lets add the experiment we just defined to the local manager\n",
    "%xmen config --add_path ~/xmen/python\n",
    "%xmen config --add ~/xmen/examples/experiment.py\n",
    "%xmen config -H ''"
   ]
  },
  {
   "cell_type": "markdown",
   "metadata": {},
   "source": [
    "Lets create a new folder a set of experiments"
   ]
  },
  {
   "cell_type": "code",
   "execution_count": 6,
   "metadata": {},
   "outputs": [
    {
     "name": "stdout",
     "output_type": "stream",
     "text": [
      "/private/tmp/experiments/set_a\n"
     ]
    }
   ],
   "source": [
    "%mkdir -p /tmp/experiments/set_a\n",
    "%cd /tmp/experiments/set_a"
   ]
  },
  {
   "cell_type": "markdown",
   "metadata": {},
   "source": [
    "Now lets initialise an experiment set from our class definition earlier"
   ]
  },
  {
   "cell_type": "code",
   "execution_count": 7,
   "metadata": {},
   "outputs": [
    {
     "name": "stdout",
     "output_type": "stream",
     "text": [
      "AnExperiment\n",
      "#!/bin/bash\n",
      "# File generated on the 04:42PM March 09, 2020\n",
      "# GIT:\n",
      "# - repo /Users/robweston/xmen\n",
      "# - branch master\n",
      "# - remote ssh://git@mrgbuild.robots.ox.ac.uk:7999/~robw/xmen.git\n",
      "# - commit bbe75180debc80b03c520c5574f4d7e88d262909\n",
      "\n",
      "export PYTHONPATH=\"${PYTHONPATH}:/Users/robweston/xmen/examples\"\n",
      "python3 /Users/robweston/xmen/examples/experiment.py --execute ${1}\n",
      "AnExperiment\n",
      "Experiment root created at /private/tmp/experiments/set_a\n"
     ]
    }
   ],
   "source": [
    "%xmen init -n AnExperiment"
   ]
  },
  {
   "cell_type": "markdown",
   "metadata": {},
   "source": [
    "An experiment set share default parameters and a run script.sh"
   ]
  },
  {
   "cell_type": "code",
   "execution_count": 8,
   "metadata": {},
   "outputs": [
    {
     "name": "stdout",
     "output_type": "stream",
     "text": [
      "defaults.yml   experiment.yml script.sh\n"
     ]
    }
   ],
   "source": [
    "!ls /private/tmp/experiments/set_a"
   ]
  },
  {
   "cell_type": "markdown",
   "metadata": {},
   "source": [
    "The defaults.yml file is generated automatically from ``AnExperiment``. Parameters, their defaults and helps are all recorded. So to are the version and system information."
   ]
  },
  {
   "cell_type": "code",
   "execution_count": 9,
   "metadata": {},
   "outputs": [
    {
     "name": "stdout",
     "output_type": "stream",
     "text": [
      "defaults.yml\n",
      "------------\n",
      "_created: 2020-03-09-16-42-13  #  The date the experiment was created (default=now_time)\n",
      "_version: #  Experiment version information. See `get_version` (default=None)\n",
      "  module: /Users/robweston/xmen/examples/experiment.py\n",
      "  class: AnExperiment\n",
      "  git:\n",
      "    local: /Users/robweston/xmen\n",
      "    remote: ssh://git@mrgbuild.robots.ox.ac.uk:7999/~robw/xmen.git\n",
      "    commit: bbe75180debc80b03c520c5574f4d7e88d262909\n",
      "    branch: master\n",
      "_meta: #  The global configuration for the experiment manager (default=None)\n",
      "  mac: '0x6c96cfdb71b9'\n",
      "  host: dhcp45.robots.ox.ac.uk\n",
      "  user: robweston\n",
      "  home: /Users/robweston\n",
      "a: h #  A parameter (default='h')\n",
      "b: 17 #  Another parameter (default=17)\n",
      "\n",
      "script.sh\n",
      "---------\n",
      "#!/bin/bash\n",
      "# File generated on the 04:42PM March 09, 2020\n",
      "# GIT:\n",
      "# - repo /Users/robweston/xmen\n",
      "# - branch master\n",
      "# - remote ssh://git@mrgbuild.robots.ox.ac.uk:7999/~robw/xmen.git\n",
      "# - commit bbe75180debc80b03c520c5574f4d7e88d262909\n",
      "\n",
      "export PYTHONPATH=\"${PYTHONPATH}:/Users/robweston/xmen/examples\"\n",
      "python3 /Users/robweston/xmen/examples/experiment.py --execute ${1}"
     ]
    }
   ],
   "source": [
    "!echo \"defaults.yml\"\n",
    "!echo \"------------\"\n",
    "%cat defaults.yml\n",
    "!echo \"\"\n",
    "!echo \"script.sh\"\n",
    "!echo \"---------\"\n",
    "%cat script.sh"
   ]
  },
  {
   "cell_type": "markdown",
   "metadata": {},
   "source": [
    "### Registering Experiments"
   ]
  },
  {
   "cell_type": "markdown",
   "metadata": {},
   "source": [
    "There are currently no experiments registered within the set:"
   ]
  },
  {
   "cell_type": "code",
   "execution_count": 10,
   "metadata": {},
   "outputs": [
    {
     "name": "stdout",
     "output_type": "stream",
     "text": [
      "No experiments found which match glob pattern /private/tmp/experiments/set_a. With parameter filter = None and type filter = None.\n"
     ]
    }
   ],
   "source": [
    "%xmen list"
   ]
  },
  {
   "cell_type": "markdown",
   "metadata": {},
   "source": [
    "Lets register some..."
   ]
  },
  {
   "cell_type": "code",
   "execution_count": 11,
   "metadata": {},
   "outputs": [],
   "source": [
    "# Lets register some experiments. The '|' operator acts like an or\n",
    "%xmen register \"{a: 1.0 | 2.0, b: None | cat}\""
   ]
  },
  {
   "cell_type": "markdown",
   "metadata": {},
   "source": [
    "The parameters passed as a yaml dictionary will be overloaded for each experiment. The `|` acts as an or operator. Experiments for all possible combinations of parameters will be generated:"
   ]
  },
  {
   "cell_type": "code",
   "execution_count": 12,
   "metadata": {},
   "outputs": [
    {
     "name": "stdout",
     "output_type": "stream",
     "text": [
      "    root           name              created          type purpose             mac                    host       user              home      status                                    commit    a     b\n",
      "0  set_a  a=1.0__b=None  2020-03-09-16-42-25  AnExperiment          0x6c96cfdb71b9  dhcp45.robots.ox.ac.uk  robweston  /Users/robweston  registered  bbe75180debc80b03c520c5574f4d7e88d262909  1.0  None\n",
      "1  set_a   a=1.0__b=cat  2020-03-09-16-42-25  AnExperiment          0x6c96cfdb71b9  dhcp45.robots.ox.ac.uk  robweston  /Users/robweston  registered  bbe75180debc80b03c520c5574f4d7e88d262909  1.0   cat\n",
      "2  set_a  a=2.0__b=None  2020-03-09-16-42-25  AnExperiment          0x6c96cfdb71b9  dhcp45.robots.ox.ac.uk  robweston  /Users/robweston  registered  bbe75180debc80b03c520c5574f4d7e88d262909  2.0  None\n",
      "3  set_a   a=2.0__b=cat  2020-03-09-16-42-25  AnExperiment          0x6c96cfdb71b9  dhcp45.robots.ox.ac.uk  robweston  /Users/robweston  registered  bbe75180debc80b03c520c5574f4d7e88d262909  2.0   cat\n",
      "\n",
      "Roots relative to: /private/tmp/experiments\n"
     ]
    }
   ],
   "source": [
    "%xmen list -v -p \".*\""
   ]
  },
  {
   "cell_type": "markdown",
   "metadata": {},
   "source": [
    "### Note Taking"
   ]
  },
  {
   "cell_type": "markdown",
   "metadata": {},
   "source": [
    "Notes can be added to the experiment for consultation at a later date:"
   ]
  },
  {
   "cell_type": "code",
   "execution_count": 13,
   "metadata": {},
   "outputs": [
    {
     "name": "stdout",
     "output_type": "stream",
     "text": [
      " 0 /private/tmp/experiments/set_a\n",
      "     |- a=1.0__b=None\n",
      "     |- a=1.0__b=cat\n",
      "     |- a=2.0__b=None\n",
      "     |- a=2.0__b=cat\n",
      "     Purpose: \n",
      "     Created: 2020-03-09-16-42-13\n",
      "     Type: AnExperiment\n",
      "     Notes: \n",
      "       A test of the xmen experiment suite\n",
      "       Another random thought worth mentioning\n"
     ]
    }
   ],
   "source": [
    "%xmen note \"A test of the xmen experiment suite\"\n",
    "%xmen note \"Another random thought worth mentioning\"\n",
    "%xmen list -l"
   ]
  },
  {
   "cell_type": "markdown",
   "metadata": {},
   "source": [
    "### Running experiments"
   ]
  },
  {
   "cell_type": "markdown",
   "metadata": {},
   "source": [
    "Now lets run the experiments:"
   ]
  },
  {
   "cell_type": "code",
   "execution_count": 14,
   "metadata": {},
   "outputs": [
    {
     "name": "stdout",
     "output_type": "stream",
     "text": [
      "    root           name      status\n",
      "0  set_a  a=1.0__b=None  registered\n",
      "1  set_a   a=1.0__b=cat  registered\n",
      "2  set_a  a=2.0__b=None  registered\n",
      "3  set_a   a=2.0__b=cat  registered\n",
      "\n",
      "Roots relative to: /private/tmp/experiments\n"
     ]
    }
   ],
   "source": [
    "%xmen list -sm"
   ]
  },
  {
   "cell_type": "code",
   "execution_count": 15,
   "metadata": {},
   "outputs": [
    {
     "name": "stdout",
     "output_type": "stream",
     "text": [
      "\n",
      "Running: sh /private/tmp/experiments/set_a/a=1.0__b=cat/run.sh\n",
      "a = 1.0, b = cat\n",
      "The experiment state inside run is running\n",
      "AnExperiment\n",
      "\n",
      "Running: sh /private/tmp/experiments/set_a/a=1.0__b=None/run.sh\n",
      "a = 1.0, b = None\n",
      "The experiment state inside run is running\n",
      "AnExperiment\n",
      "\n",
      "Running: sh /private/tmp/experiments/set_a/a=2.0__b=cat/run.sh\n",
      "a = 2.0, b = cat\n",
      "The experiment state inside run is running\n",
      "AnExperiment\n",
      "\n",
      "Running: sh /private/tmp/experiments/set_a/a=2.0__b=None/run.sh\n",
      "a = 2.0, b = None\n",
      "The experiment state inside run is running\n",
      "AnExperiment\n"
     ]
    }
   ],
   "source": [
    "xmen run \"*\" sh"
   ]
  },
  {
   "cell_type": "markdown",
   "metadata": {},
   "source": [
    "The experiments have now finished. Any messages sent during execution are recorded:"
   ]
  },
  {
   "cell_type": "code",
   "execution_count": 16,
   "metadata": {},
   "outputs": [
    {
     "name": "stdout",
     "output_type": "stream",
     "text": [
      "    root           name          time\n",
      "0  set_a  a=1.0__b=None  1.583772e+09\n",
      "1  set_a   a=1.0__b=cat  1.583772e+09\n",
      "2  set_a  a=2.0__b=None  1.583772e+09\n",
      "3  set_a   a=2.0__b=cat  1.583772e+09\n",
      "\n",
      "Roots relative to: /private/tmp/experiments\n"
     ]
    }
   ],
   "source": [
    "%xmen list -m"
   ]
  },
  {
   "cell_type": "markdown",
   "metadata": {},
   "source": [
    "Xmen allows the user to define how experiments should be run. In this case we used `sh` but `docker`, `sbatch` and `screen` are all equally valid for example. In order to control experiments requiring configuration a header can be added to the global config which is then prepended to each `script.sh` generated by the experiment manager. For example an sbatch header might look something like:"
   ]
  },
  {
   "cell_type": "code",
   "execution_count": 17,
   "metadata": {},
   "outputs": [
    {
     "name": "stdout",
     "output_type": "stream",
     "text": [
      "#SBATCH --nodes=1\n",
      "#SBATCH --job-name=single_job\n",
      "#SBATCH --time=1-00:00:00\n",
      "#SBATCH --gres=gpu:rtx:1\n",
      "#SBATCH --partition=htc-nova\n",
      "#SBATCH --cpus-per-task=2\n",
      "#SBATCH --mail-user=robw@robots.ox.ac.uk\n",
      "#SBATCH --mail-type=ALL\n",
      "#SBATCH --account=engs-a2i\n",
      "# Author: Rob Weston\n",
      "# Email: robw@robots.ox.ac.uk\n",
      "\n",
      "# Lets activate an environment\n",
      "conda active xmen\n",
      "\n",
      "\n",
      "# Maybe we want to set some environement variables\n",
      "PATH1=\"...\"\n",
      "PATH2=\"...\"\n"
     ]
    }
   ],
   "source": [
    "!cat ~/xmen/examples/header.txt"
   ]
  },
  {
   "cell_type": "markdown",
   "metadata": {},
   "source": [
    "### Scaling Up\n",
    "Xmen allows experiements to be run remotely and linked locally. For example locally the command:\n",
    "\n",
    "```bash\n",
    "xmen list --csv -v \"*\"\n",
    "```\n",
    "\n",
    "Gives me the following:"
   ]
  },
  {
   "cell_type": "code",
   "execution_count": 18,
   "metadata": {},
   "outputs": [
    {
     "data": {
      "text/html": [
       "<div>\n",
       "<style scoped>\n",
       "    .dataframe tbody tr th:only-of-type {\n",
       "        vertical-align: middle;\n",
       "    }\n",
       "\n",
       "    .dataframe tbody tr th {\n",
       "        vertical-align: top;\n",
       "    }\n",
       "\n",
       "    .dataframe thead th {\n",
       "        text-align: right;\n",
       "    }\n",
       "</style>\n",
       "<table border=\"1\" class=\"dataframe\">\n",
       "  <thead>\n",
       "    <tr style=\"text-align: right;\">\n",
       "      <th></th>\n",
       "      <th>root</th>\n",
       "      <th>name</th>\n",
       "      <th>created</th>\n",
       "      <th>type</th>\n",
       "      <th>purpose</th>\n",
       "      <th>origin</th>\n",
       "      <th>mac</th>\n",
       "      <th>host</th>\n",
       "      <th>user</th>\n",
       "      <th>home</th>\n",
       "      <th>status</th>\n",
       "      <th>commit</th>\n",
       "      <th>Unnamed: 13</th>\n",
       "      <th>last_checkpoint</th>\n",
       "      <th>step</th>\n",
       "    </tr>\n",
       "  </thead>\n",
       "  <tbody>\n",
       "    <tr>\n",
       "      <th>0</th>\n",
       "      <td>arc/there_and_back_2/7-02-2019/test_2</td>\n",
       "      <td>w_cycle_a=2.0__w_cycle_b=2.0</td>\n",
       "      <td>05:21PM February 12, 2020</td>\n",
       "      <td>ThereAndBack</td>\n",
       "      <td>Another experimemt</td>\n",
       "      <td>/data/engs-a2i/kebl4674/experiments/there_and_...</td>\n",
       "      <td>0x848f69fd4f1c</td>\n",
       "      <td>arcus-htc-login02.arcus-htc.arc.local</td>\n",
       "      <td>kebl4674</td>\n",
       "      <td>/home/kebl4674</td>\n",
       "      <td>registered</td>\n",
       "      <td>b2abee15800a6afd7de17bb8cac380c3a8b06765</td>\n",
       "      <td>NaN</td>\n",
       "      <td>NaN</td>\n",
       "      <td>NaN</td>\n",
       "    </tr>\n",
       "    <tr>\n",
       "      <th>1</th>\n",
       "      <td>arc/there_and_back_2/7-02-2019/test_2</td>\n",
       "      <td>w_cycle_a=2.0__w_cycle_b=3.0</td>\n",
       "      <td>05:21PM February 12, 2020</td>\n",
       "      <td>ThereAndBack</td>\n",
       "      <td>Another experimemt</td>\n",
       "      <td>/data/engs-a2i/kebl4674/experiments/there_and_...</td>\n",
       "      <td>0x848f69fd4f1c</td>\n",
       "      <td>arcus-htc-login02.arcus-htc.arc.local</td>\n",
       "      <td>kebl4674</td>\n",
       "      <td>/home/kebl4674</td>\n",
       "      <td>registered</td>\n",
       "      <td>b2abee15800a6afd7de17bb8cac380c3a8b06765</td>\n",
       "      <td>NaN</td>\n",
       "      <td>NaN</td>\n",
       "      <td>NaN</td>\n",
       "    </tr>\n",
       "    <tr>\n",
       "      <th>2</th>\n",
       "      <td>arc/there_and_back_2/7-02-2019/test_2</td>\n",
       "      <td>w_cycle_a=2.0__w_cycle_b=4.0</td>\n",
       "      <td>05:21PM February 12, 2020</td>\n",
       "      <td>ThereAndBack</td>\n",
       "      <td>Another experimemt</td>\n",
       "      <td>/data/engs-a2i/kebl4674/experiments/there_and_...</td>\n",
       "      <td>0x848f69fd4f1c</td>\n",
       "      <td>arcus-htc-login02.arcus-htc.arc.local</td>\n",
       "      <td>kebl4674</td>\n",
       "      <td>/home/kebl4674</td>\n",
       "      <td>registered</td>\n",
       "      <td>b2abee15800a6afd7de17bb8cac380c3a8b06765</td>\n",
       "      <td>NaN</td>\n",
       "      <td>NaN</td>\n",
       "      <td>NaN</td>\n",
       "    </tr>\n",
       "    <tr>\n",
       "      <th>3</th>\n",
       "      <td>arc/there_and_back_2/7-02-2019/test_2</td>\n",
       "      <td>w_cycle_a=3.0__w_cycle_b=2.0</td>\n",
       "      <td>05:21PM February 12, 2020</td>\n",
       "      <td>ThereAndBack</td>\n",
       "      <td>Another experimemt</td>\n",
       "      <td>/data/engs-a2i/kebl4674/experiments/there_and_...</td>\n",
       "      <td>0x848f69fd4f1c</td>\n",
       "      <td>arcus-htc-login02.arcus-htc.arc.local</td>\n",
       "      <td>kebl4674</td>\n",
       "      <td>/home/kebl4674</td>\n",
       "      <td>registered</td>\n",
       "      <td>b2abee15800a6afd7de17bb8cac380c3a8b06765</td>\n",
       "      <td>NaN</td>\n",
       "      <td>NaN</td>\n",
       "      <td>NaN</td>\n",
       "    </tr>\n",
       "    <tr>\n",
       "      <th>4</th>\n",
       "      <td>arc/there_and_back_2/7-02-2019/test_2</td>\n",
       "      <td>w_cycle_a=3.0__w_cycle_b=3.0</td>\n",
       "      <td>05:21PM February 12, 2020</td>\n",
       "      <td>ThereAndBack</td>\n",
       "      <td>Another experimemt</td>\n",
       "      <td>/data/engs-a2i/kebl4674/experiments/there_and_...</td>\n",
       "      <td>0x848f69fd4f1c</td>\n",
       "      <td>arcus-htc-login02.arcus-htc.arc.local</td>\n",
       "      <td>kebl4674</td>\n",
       "      <td>/home/kebl4674</td>\n",
       "      <td>registered</td>\n",
       "      <td>b2abee15800a6afd7de17bb8cac380c3a8b06765</td>\n",
       "      <td>NaN</td>\n",
       "      <td>NaN</td>\n",
       "      <td>NaN</td>\n",
       "    </tr>\n",
       "    <tr>\n",
       "      <th>...</th>\n",
       "      <td>...</td>\n",
       "      <td>...</td>\n",
       "      <td>...</td>\n",
       "      <td>...</td>\n",
       "      <td>...</td>\n",
       "      <td>...</td>\n",
       "      <td>...</td>\n",
       "      <td>...</td>\n",
       "      <td>...</td>\n",
       "      <td>...</td>\n",
       "      <td>...</td>\n",
       "      <td>...</td>\n",
       "      <td>...</td>\n",
       "      <td>...</td>\n",
       "      <td>...</td>\n",
       "    </tr>\n",
       "    <tr>\n",
       "      <th>184</th>\n",
       "      <td>touchstone/there_and_back/initial_test_3</td>\n",
       "      <td>impl=cycle_gan</td>\n",
       "      <td>03:01PM November 12, 2019</td>\n",
       "      <td>ThereAndBackCycleGan</td>\n",
       "      <td>After discriminator bug fix was found</td>\n",
       "      <td>/home/robw/data/experiments/there_and_back/ini...</td>\n",
       "      <td>0xac220bb0d28f</td>\n",
       "      <td>touchstone</td>\n",
       "      <td>robw</td>\n",
       "      <td>/home/robw</td>\n",
       "      <td>error</td>\n",
       "      <td>3f09ce7ed8ff8411be8096a38f98e6c547f1e084</td>\n",
       "      <td>NaN</td>\n",
       "      <td>step 126000, epoch 2</td>\n",
       "      <td>NaN</td>\n",
       "    </tr>\n",
       "    <tr>\n",
       "      <th>185</th>\n",
       "      <td>touchstone/there_and_back/initial_test_4</td>\n",
       "      <td>impl=there_and_back</td>\n",
       "      <td>12:49PM November 13, 2019</td>\n",
       "      <td>ThereAndBackCycleGan</td>\n",
       "      <td>To test new debugs</td>\n",
       "      <td>/home/robw/data/experiments/there_and_back/ini...</td>\n",
       "      <td>0xac220bb0d28f</td>\n",
       "      <td>touchstone</td>\n",
       "      <td>robw</td>\n",
       "      <td>/home/robw</td>\n",
       "      <td>error</td>\n",
       "      <td>ada2a4e6deb7d5804f8acd42cb59790162ab9ccd</td>\n",
       "      <td>NaN</td>\n",
       "      <td>step 275000, epoch 5</td>\n",
       "      <td>NaN</td>\n",
       "    </tr>\n",
       "    <tr>\n",
       "      <th>186</th>\n",
       "      <td>touchstone/there_and_back/initial_test_4</td>\n",
       "      <td>impl=cycle_gan</td>\n",
       "      <td>12:49PM November 13, 2019</td>\n",
       "      <td>ThereAndBackCycleGan</td>\n",
       "      <td>To test new debugs</td>\n",
       "      <td>/home/robw/data/experiments/there_and_back/ini...</td>\n",
       "      <td>0xac220bb0d28f</td>\n",
       "      <td>touchstone</td>\n",
       "      <td>robw</td>\n",
       "      <td>/home/robw</td>\n",
       "      <td>error</td>\n",
       "      <td>ada2a4e6deb7d5804f8acd42cb59790162ab9ccd</td>\n",
       "      <td>NaN</td>\n",
       "      <td>step 275000, epoch 5</td>\n",
       "      <td>NaN</td>\n",
       "    </tr>\n",
       "    <tr>\n",
       "      <th>187</th>\n",
       "      <td>touchstone/there_and_back/original_working</td>\n",
       "      <td>impl=cycle_gan</td>\n",
       "      <td>07:29PM November 11, 2019</td>\n",
       "      <td>ThereAndBackCycleGan</td>\n",
       "      <td>To test that original models still work</td>\n",
       "      <td>/home/robw/data/experiments/there_and_back/ori...</td>\n",
       "      <td>0xac220bb0d28f</td>\n",
       "      <td>touchstone</td>\n",
       "      <td>robw</td>\n",
       "      <td>/home/robw</td>\n",
       "      <td>error</td>\n",
       "      <td>1768ec2065f5450d0cb640ecddfe7ef63d2f8dd3</td>\n",
       "      <td>NaN</td>\n",
       "      <td>step 93000, epoch 1</td>\n",
       "      <td>NaN</td>\n",
       "    </tr>\n",
       "    <tr>\n",
       "      <th>188</th>\n",
       "      <td>touchstone/there_and_back/original_working</td>\n",
       "      <td>impl=there_and_back</td>\n",
       "      <td>07:30PM November 11, 2019</td>\n",
       "      <td>ThereAndBackCycleGan</td>\n",
       "      <td>To test that original models still work</td>\n",
       "      <td>/home/robw/data/experiments/there_and_back/ori...</td>\n",
       "      <td>0xac220bb0d28f</td>\n",
       "      <td>touchstone</td>\n",
       "      <td>robw</td>\n",
       "      <td>/home/robw</td>\n",
       "      <td>error</td>\n",
       "      <td>1768ec2065f5450d0cb640ecddfe7ef63d2f8dd3</td>\n",
       "      <td>NaN</td>\n",
       "      <td>step 106000, epoch 2</td>\n",
       "      <td>NaN</td>\n",
       "    </tr>\n",
       "  </tbody>\n",
       "</table>\n",
       "<p>189 rows × 15 columns</p>\n",
       "</div>"
      ],
      "text/plain": [
       "                                           root                          name                    created                  type                                  purpose                                             origin             mac                                   host      user            home      status                                    commit Unnamed: 13       last_checkpoint step\n",
       "0         arc/there_and_back_2/7-02-2019/test_2  w_cycle_a=2.0__w_cycle_b=2.0  05:21PM February 12, 2020          ThereAndBack                       Another experimemt  /data/engs-a2i/kebl4674/experiments/there_and_...  0x848f69fd4f1c  arcus-htc-login02.arcus-htc.arc.local  kebl4674  /home/kebl4674  registered  b2abee15800a6afd7de17bb8cac380c3a8b06765         NaN                   NaN  NaN\n",
       "1         arc/there_and_back_2/7-02-2019/test_2  w_cycle_a=2.0__w_cycle_b=3.0  05:21PM February 12, 2020          ThereAndBack                       Another experimemt  /data/engs-a2i/kebl4674/experiments/there_and_...  0x848f69fd4f1c  arcus-htc-login02.arcus-htc.arc.local  kebl4674  /home/kebl4674  registered  b2abee15800a6afd7de17bb8cac380c3a8b06765         NaN                   NaN  NaN\n",
       "2         arc/there_and_back_2/7-02-2019/test_2  w_cycle_a=2.0__w_cycle_b=4.0  05:21PM February 12, 2020          ThereAndBack                       Another experimemt  /data/engs-a2i/kebl4674/experiments/there_and_...  0x848f69fd4f1c  arcus-htc-login02.arcus-htc.arc.local  kebl4674  /home/kebl4674  registered  b2abee15800a6afd7de17bb8cac380c3a8b06765         NaN                   NaN  NaN\n",
       "3         arc/there_and_back_2/7-02-2019/test_2  w_cycle_a=3.0__w_cycle_b=2.0  05:21PM February 12, 2020          ThereAndBack                       Another experimemt  /data/engs-a2i/kebl4674/experiments/there_and_...  0x848f69fd4f1c  arcus-htc-login02.arcus-htc.arc.local  kebl4674  /home/kebl4674  registered  b2abee15800a6afd7de17bb8cac380c3a8b06765         NaN                   NaN  NaN\n",
       "4         arc/there_and_back_2/7-02-2019/test_2  w_cycle_a=3.0__w_cycle_b=3.0  05:21PM February 12, 2020          ThereAndBack                       Another experimemt  /data/engs-a2i/kebl4674/experiments/there_and_...  0x848f69fd4f1c  arcus-htc-login02.arcus-htc.arc.local  kebl4674  /home/kebl4674  registered  b2abee15800a6afd7de17bb8cac380c3a8b06765         NaN                   NaN  NaN\n",
       "..                                          ...                           ...                        ...                   ...                                      ...                                                ...             ...                                    ...       ...             ...         ...                                       ...         ...                   ...  ...\n",
       "184    touchstone/there_and_back/initial_test_3                impl=cycle_gan  03:01PM November 12, 2019  ThereAndBackCycleGan    After discriminator bug fix was found  /home/robw/data/experiments/there_and_back/ini...  0xac220bb0d28f                             touchstone      robw      /home/robw       error  3f09ce7ed8ff8411be8096a38f98e6c547f1e084         NaN  step 126000, epoch 2  NaN\n",
       "185    touchstone/there_and_back/initial_test_4           impl=there_and_back  12:49PM November 13, 2019  ThereAndBackCycleGan                       To test new debugs  /home/robw/data/experiments/there_and_back/ini...  0xac220bb0d28f                             touchstone      robw      /home/robw       error  ada2a4e6deb7d5804f8acd42cb59790162ab9ccd         NaN  step 275000, epoch 5  NaN\n",
       "186    touchstone/there_and_back/initial_test_4                impl=cycle_gan  12:49PM November 13, 2019  ThereAndBackCycleGan                       To test new debugs  /home/robw/data/experiments/there_and_back/ini...  0xac220bb0d28f                             touchstone      robw      /home/robw       error  ada2a4e6deb7d5804f8acd42cb59790162ab9ccd         NaN  step 275000, epoch 5  NaN\n",
       "187  touchstone/there_and_back/original_working                impl=cycle_gan  07:29PM November 11, 2019  ThereAndBackCycleGan  To test that original models still work  /home/robw/data/experiments/there_and_back/ori...  0xac220bb0d28f                             touchstone      robw      /home/robw       error  1768ec2065f5450d0cb640ecddfe7ef63d2f8dd3         NaN   step 93000, epoch 1  NaN\n",
       "188  touchstone/there_and_back/original_working           impl=there_and_back  07:30PM November 11, 2019  ThereAndBackCycleGan  To test that original models still work  /home/robw/data/experiments/there_and_back/ori...  0xac220bb0d28f                             touchstone      robw      /home/robw       error  1768ec2065f5450d0cb640ecddfe7ef63d2f8dd3         NaN  step 106000, epoch 2  NaN\n",
       "\n",
       "[189 rows x 15 columns]"
      ]
     },
     "execution_count": 18,
     "metadata": {},
     "output_type": "execute_result"
    }
   ],
   "source": [
    "import pandas as pd\n",
    "pd.set_option('max_columns', 1000)\n",
    "pd.set_option('max_rows', 30)\n",
    "pd.read_csv('~/xmen/examples/all.csv', skipfooter=1, index_col=0, engine='python')"
   ]
  },
  {
   "cell_type": "markdown",
   "metadata": {},
   "source": [
    "It is also possible to search for experiments by name and parameters for example:\n",
    "\n",
    "```bash\n",
    "xmen list --csv \"*\" -p \"w_.*\" -n \"ThereAndBack\"\n",
    "```\n",
    "\n",
    "produces..."
   ]
  },
  {
   "cell_type": "code",
   "execution_count": 19,
   "metadata": {},
   "outputs": [
    {
     "data": {
      "text/html": [
       "<div>\n",
       "<style scoped>\n",
       "    .dataframe tbody tr th:only-of-type {\n",
       "        vertical-align: middle;\n",
       "    }\n",
       "\n",
       "    .dataframe tbody tr th {\n",
       "        vertical-align: top;\n",
       "    }\n",
       "\n",
       "    .dataframe thead th {\n",
       "        text-align: right;\n",
       "    }\n",
       "</style>\n",
       "<table border=\"1\" class=\"dataframe\">\n",
       "  <thead>\n",
       "    <tr style=\"text-align: right;\">\n",
       "      <th></th>\n",
       "      <th>root</th>\n",
       "      <th>name</th>\n",
       "      <th>w_id</th>\n",
       "      <th>w_cycle_a</th>\n",
       "      <th>w_cycle_b</th>\n",
       "      <th>w_align_a</th>\n",
       "      <th>w_align_b</th>\n",
       "    </tr>\n",
       "  </thead>\n",
       "  <tbody>\n",
       "    <tr>\n",
       "      <th>0</th>\n",
       "      <td>arc/there_and_back_2/7-02-2019/test_2</td>\n",
       "      <td>w_cycle_a=2.0__w_cycle_b=2.0</td>\n",
       "      <td>NaN</td>\n",
       "      <td>2.0</td>\n",
       "      <td>2.0</td>\n",
       "      <td>NaN</td>\n",
       "      <td>NaN</td>\n",
       "    </tr>\n",
       "    <tr>\n",
       "      <th>1</th>\n",
       "      <td>arc/there_and_back_2/7-02-2019/test_2</td>\n",
       "      <td>w_cycle_a=2.0__w_cycle_b=3.0</td>\n",
       "      <td>NaN</td>\n",
       "      <td>2.0</td>\n",
       "      <td>3.0</td>\n",
       "      <td>NaN</td>\n",
       "      <td>NaN</td>\n",
       "    </tr>\n",
       "    <tr>\n",
       "      <th>2</th>\n",
       "      <td>arc/there_and_back_2/7-02-2019/test_2</td>\n",
       "      <td>w_cycle_a=2.0__w_cycle_b=4.0</td>\n",
       "      <td>NaN</td>\n",
       "      <td>2.0</td>\n",
       "      <td>4.0</td>\n",
       "      <td>NaN</td>\n",
       "      <td>NaN</td>\n",
       "    </tr>\n",
       "    <tr>\n",
       "      <th>3</th>\n",
       "      <td>arc/there_and_back_2/7-02-2019/test_2</td>\n",
       "      <td>w_cycle_a=3.0__w_cycle_b=2.0</td>\n",
       "      <td>NaN</td>\n",
       "      <td>3.0</td>\n",
       "      <td>2.0</td>\n",
       "      <td>NaN</td>\n",
       "      <td>NaN</td>\n",
       "    </tr>\n",
       "    <tr>\n",
       "      <th>4</th>\n",
       "      <td>arc/there_and_back_2/7-02-2019/test_2</td>\n",
       "      <td>w_cycle_a=3.0__w_cycle_b=3.0</td>\n",
       "      <td>NaN</td>\n",
       "      <td>3.0</td>\n",
       "      <td>3.0</td>\n",
       "      <td>NaN</td>\n",
       "      <td>NaN</td>\n",
       "    </tr>\n",
       "    <tr>\n",
       "      <th>5</th>\n",
       "      <td>arc/there_and_back_2/7-02-2019/test_2</td>\n",
       "      <td>w_cycle_a=3.0__w_cycle_b=4.0</td>\n",
       "      <td>NaN</td>\n",
       "      <td>3.0</td>\n",
       "      <td>4.0</td>\n",
       "      <td>NaN</td>\n",
       "      <td>NaN</td>\n",
       "    </tr>\n",
       "    <tr>\n",
       "      <th>6</th>\n",
       "      <td>arc/there_and_back_2/7-02-2019/test_2</td>\n",
       "      <td>w_cycle_a=4.0__w_cycle_b=2.0</td>\n",
       "      <td>NaN</td>\n",
       "      <td>4.0</td>\n",
       "      <td>2.0</td>\n",
       "      <td>NaN</td>\n",
       "      <td>NaN</td>\n",
       "    </tr>\n",
       "    <tr>\n",
       "      <th>7</th>\n",
       "      <td>arc/there_and_back_2/7-02-2019/test_2</td>\n",
       "      <td>w_cycle_a=4.0__w_cycle_b=3.0</td>\n",
       "      <td>NaN</td>\n",
       "      <td>4.0</td>\n",
       "      <td>3.0</td>\n",
       "      <td>NaN</td>\n",
       "      <td>NaN</td>\n",
       "    </tr>\n",
       "    <tr>\n",
       "      <th>8</th>\n",
       "      <td>arc/there_and_back_2/7-02-2019/test_2</td>\n",
       "      <td>w_cycle_a=4.0__w_cycle_b=4.0</td>\n",
       "      <td>NaN</td>\n",
       "      <td>4.0</td>\n",
       "      <td>4.0</td>\n",
       "      <td>NaN</td>\n",
       "      <td>NaN</td>\n",
       "    </tr>\n",
       "    <tr>\n",
       "      <th>9</th>\n",
       "      <td>arc/there_and_back_2/7-02-2019/rad2real</td>\n",
       "      <td>use_gan=True__w_align_a=1.0__w_align_b=1.0</td>\n",
       "      <td>NaN</td>\n",
       "      <td>NaN</td>\n",
       "      <td>NaN</td>\n",
       "      <td>1.0</td>\n",
       "      <td>1.0</td>\n",
       "    </tr>\n",
       "    <tr>\n",
       "      <th>10</th>\n",
       "      <td>arc/there_and_back_2/7-02-2019/rad2real</td>\n",
       "      <td>use_gan=True__w_align_a=10.0__w_align_b=10.0</td>\n",
       "      <td>NaN</td>\n",
       "      <td>NaN</td>\n",
       "      <td>NaN</td>\n",
       "      <td>10.0</td>\n",
       "      <td>10.0</td>\n",
       "    </tr>\n",
       "    <tr>\n",
       "      <th>11</th>\n",
       "      <td>arc/there_and_back_2/7-02-2019/rad2real</td>\n",
       "      <td>use_gan=True__w_align_a=100.0__w_align_b=100.0</td>\n",
       "      <td>NaN</td>\n",
       "      <td>NaN</td>\n",
       "      <td>NaN</td>\n",
       "      <td>100.0</td>\n",
       "      <td>100.0</td>\n",
       "    </tr>\n",
       "    <tr>\n",
       "      <th>12</th>\n",
       "      <td>arc/there_and_back_2/7-02-2019/rad2real</td>\n",
       "      <td>use_gan=False</td>\n",
       "      <td>NaN</td>\n",
       "      <td>NaN</td>\n",
       "      <td>NaN</td>\n",
       "      <td>10.0</td>\n",
       "      <td>10.0</td>\n",
       "    </tr>\n",
       "    <tr>\n",
       "      <th>13</th>\n",
       "      <td>arc/there_and_back_2/7-02-2019/rad2sim</td>\n",
       "      <td>w_align_a=None__w_align_b=None</td>\n",
       "      <td>NaN</td>\n",
       "      <td>NaN</td>\n",
       "      <td>NaN</td>\n",
       "      <td>NaN</td>\n",
       "      <td>NaN</td>\n",
       "    </tr>\n",
       "    <tr>\n",
       "      <th>14</th>\n",
       "      <td>arc/there_and_back_2/7-02-2019/rad2sim</td>\n",
       "      <td>w_cycle_a=10.0__w_cycle_b=10.0</td>\n",
       "      <td>NaN</td>\n",
       "      <td>10.0</td>\n",
       "      <td>10.0</td>\n",
       "      <td>NaN</td>\n",
       "      <td>NaN</td>\n",
       "    </tr>\n",
       "    <tr>\n",
       "      <th>15</th>\n",
       "      <td>arc/there_and_back_2/7-02-2019/rad2sim</td>\n",
       "      <td>w_align_b=10.0</td>\n",
       "      <td>NaN</td>\n",
       "      <td>NaN</td>\n",
       "      <td>NaN</td>\n",
       "      <td>NaN</td>\n",
       "      <td>10.0</td>\n",
       "    </tr>\n",
       "    <tr>\n",
       "      <th>16</th>\n",
       "      <td>arc/there_and_back_2/7-02-2019/rad2sim</td>\n",
       "      <td>w_align_b=10.0__w_cycle_a=10.0__w_cycle_b=10.0</td>\n",
       "      <td>NaN</td>\n",
       "      <td>10.0</td>\n",
       "      <td>10.0</td>\n",
       "      <td>NaN</td>\n",
       "      <td>10.0</td>\n",
       "    </tr>\n",
       "    <tr>\n",
       "      <th>17</th>\n",
       "      <td>jade/there_and_back/10-02-2019/rad2sim2rad/rad...</td>\n",
       "      <td>use_gan=False__w_cycle_a=None__w_cycle_b=None</td>\n",
       "      <td>NaN</td>\n",
       "      <td>NaN</td>\n",
       "      <td>NaN</td>\n",
       "      <td>1.0</td>\n",
       "      <td>1.0</td>\n",
       "    </tr>\n",
       "    <tr>\n",
       "      <th>18</th>\n",
       "      <td>jade/there_and_back/10-02-2019/rad2sim2rad/rad...</td>\n",
       "      <td>use_gan=True__w_cycle_a=None__w_cycle_b=None</td>\n",
       "      <td>NaN</td>\n",
       "      <td>NaN</td>\n",
       "      <td>NaN</td>\n",
       "      <td>1.0</td>\n",
       "      <td>1.0</td>\n",
       "    </tr>\n",
       "    <tr>\n",
       "      <th>19</th>\n",
       "      <td>jade/there_and_back/10-02-2019/rad2sim2rad/rad...</td>\n",
       "      <td>use_gan=True__w_cycle_a=1.0__w_cycle_b=1.0</td>\n",
       "      <td>NaN</td>\n",
       "      <td>1.0</td>\n",
       "      <td>1.0</td>\n",
       "      <td>1.0</td>\n",
       "      <td>1.0</td>\n",
       "    </tr>\n",
       "    <tr>\n",
       "      <th>20</th>\n",
       "      <td>jade/there_and_back/10-02-2019/rad2sim2rad/rad...</td>\n",
       "      <td>use_gan=True__w_cycle_a=1.0__w_cycle_b=1.0_1</td>\n",
       "      <td>NaN</td>\n",
       "      <td>1.0</td>\n",
       "      <td>1.0</td>\n",
       "      <td>1.0</td>\n",
       "      <td>1.0</td>\n",
       "    </tr>\n",
       "    <tr>\n",
       "      <th>21</th>\n",
       "      <td>jade/there_and_back/10-02-2019/rad2sim2rad/rad...</td>\n",
       "      <td>use_gan=True__w_cycle_a=1.0__w_cycle_b=1.0_2</td>\n",
       "      <td>NaN</td>\n",
       "      <td>1.0</td>\n",
       "      <td>1.0</td>\n",
       "      <td>1.0</td>\n",
       "      <td>1.0</td>\n",
       "    </tr>\n",
       "    <tr>\n",
       "      <th>22</th>\n",
       "      <td>jade/there_and_back/10-02-2019/rad2sim2rad/rad...</td>\n",
       "      <td>use_gan=True__w_cycle_a=1.0__w_cycle_b=1.0_3</td>\n",
       "      <td>NaN</td>\n",
       "      <td>1.0</td>\n",
       "      <td>1.0</td>\n",
       "      <td>1.0</td>\n",
       "      <td>1.0</td>\n",
       "    </tr>\n",
       "    <tr>\n",
       "      <th>23</th>\n",
       "      <td>jade/there_and_back/10-02-2019/rad2sim2rad/rad...</td>\n",
       "      <td>use_gan=True__w_cycle_a=None__w_cycle_b=None_1</td>\n",
       "      <td>NaN</td>\n",
       "      <td>NaN</td>\n",
       "      <td>NaN</td>\n",
       "      <td>1.0</td>\n",
       "      <td>1.0</td>\n",
       "    </tr>\n",
       "    <tr>\n",
       "      <th>24</th>\n",
       "      <td>jade/there_and_back/10-02-2019/rad2sim2rad/rad...</td>\n",
       "      <td>use_gan=True__w_cycle_a=None__w_cycle_b=None_2</td>\n",
       "      <td>NaN</td>\n",
       "      <td>NaN</td>\n",
       "      <td>NaN</td>\n",
       "      <td>1.0</td>\n",
       "      <td>1.0</td>\n",
       "    </tr>\n",
       "    <tr>\n",
       "      <th>25</th>\n",
       "      <td>jade/there_and_back/10-02-2019/rad2sim2rad/rad...</td>\n",
       "      <td>use_gan=True__w_cycle_a=None__w_cycle_b=None_3</td>\n",
       "      <td>NaN</td>\n",
       "      <td>NaN</td>\n",
       "      <td>NaN</td>\n",
       "      <td>1.0</td>\n",
       "      <td>1.0</td>\n",
       "    </tr>\n",
       "  </tbody>\n",
       "</table>\n",
       "</div>"
      ],
      "text/plain": [
       "                                                 root                                            name  w_id  w_cycle_a  w_cycle_b  w_align_a  w_align_b\n",
       "0               arc/there_and_back_2/7-02-2019/test_2                    w_cycle_a=2.0__w_cycle_b=2.0   NaN        2.0        2.0        NaN        NaN\n",
       "1               arc/there_and_back_2/7-02-2019/test_2                    w_cycle_a=2.0__w_cycle_b=3.0   NaN        2.0        3.0        NaN        NaN\n",
       "2               arc/there_and_back_2/7-02-2019/test_2                    w_cycle_a=2.0__w_cycle_b=4.0   NaN        2.0        4.0        NaN        NaN\n",
       "3               arc/there_and_back_2/7-02-2019/test_2                    w_cycle_a=3.0__w_cycle_b=2.0   NaN        3.0        2.0        NaN        NaN\n",
       "4               arc/there_and_back_2/7-02-2019/test_2                    w_cycle_a=3.0__w_cycle_b=3.0   NaN        3.0        3.0        NaN        NaN\n",
       "5               arc/there_and_back_2/7-02-2019/test_2                    w_cycle_a=3.0__w_cycle_b=4.0   NaN        3.0        4.0        NaN        NaN\n",
       "6               arc/there_and_back_2/7-02-2019/test_2                    w_cycle_a=4.0__w_cycle_b=2.0   NaN        4.0        2.0        NaN        NaN\n",
       "7               arc/there_and_back_2/7-02-2019/test_2                    w_cycle_a=4.0__w_cycle_b=3.0   NaN        4.0        3.0        NaN        NaN\n",
       "8               arc/there_and_back_2/7-02-2019/test_2                    w_cycle_a=4.0__w_cycle_b=4.0   NaN        4.0        4.0        NaN        NaN\n",
       "9             arc/there_and_back_2/7-02-2019/rad2real      use_gan=True__w_align_a=1.0__w_align_b=1.0   NaN        NaN        NaN        1.0        1.0\n",
       "10            arc/there_and_back_2/7-02-2019/rad2real    use_gan=True__w_align_a=10.0__w_align_b=10.0   NaN        NaN        NaN       10.0       10.0\n",
       "11            arc/there_and_back_2/7-02-2019/rad2real  use_gan=True__w_align_a=100.0__w_align_b=100.0   NaN        NaN        NaN      100.0      100.0\n",
       "12            arc/there_and_back_2/7-02-2019/rad2real                                   use_gan=False   NaN        NaN        NaN       10.0       10.0\n",
       "13             arc/there_and_back_2/7-02-2019/rad2sim                  w_align_a=None__w_align_b=None   NaN        NaN        NaN        NaN        NaN\n",
       "14             arc/there_and_back_2/7-02-2019/rad2sim                  w_cycle_a=10.0__w_cycle_b=10.0   NaN       10.0       10.0        NaN        NaN\n",
       "15             arc/there_and_back_2/7-02-2019/rad2sim                                  w_align_b=10.0   NaN        NaN        NaN        NaN       10.0\n",
       "16             arc/there_and_back_2/7-02-2019/rad2sim  w_align_b=10.0__w_cycle_a=10.0__w_cycle_b=10.0   NaN       10.0       10.0        NaN       10.0\n",
       "17  jade/there_and_back/10-02-2019/rad2sim2rad/rad...   use_gan=False__w_cycle_a=None__w_cycle_b=None   NaN        NaN        NaN        1.0        1.0\n",
       "18  jade/there_and_back/10-02-2019/rad2sim2rad/rad...    use_gan=True__w_cycle_a=None__w_cycle_b=None   NaN        NaN        NaN        1.0        1.0\n",
       "19  jade/there_and_back/10-02-2019/rad2sim2rad/rad...      use_gan=True__w_cycle_a=1.0__w_cycle_b=1.0   NaN        1.0        1.0        1.0        1.0\n",
       "20  jade/there_and_back/10-02-2019/rad2sim2rad/rad...    use_gan=True__w_cycle_a=1.0__w_cycle_b=1.0_1   NaN        1.0        1.0        1.0        1.0\n",
       "21  jade/there_and_back/10-02-2019/rad2sim2rad/rad...    use_gan=True__w_cycle_a=1.0__w_cycle_b=1.0_2   NaN        1.0        1.0        1.0        1.0\n",
       "22  jade/there_and_back/10-02-2019/rad2sim2rad/rad...    use_gan=True__w_cycle_a=1.0__w_cycle_b=1.0_3   NaN        1.0        1.0        1.0        1.0\n",
       "23  jade/there_and_back/10-02-2019/rad2sim2rad/rad...  use_gan=True__w_cycle_a=None__w_cycle_b=None_1   NaN        NaN        NaN        1.0        1.0\n",
       "24  jade/there_and_back/10-02-2019/rad2sim2rad/rad...  use_gan=True__w_cycle_a=None__w_cycle_b=None_2   NaN        NaN        NaN        1.0        1.0\n",
       "25  jade/there_and_back/10-02-2019/rad2sim2rad/rad...  use_gan=True__w_cycle_a=None__w_cycle_b=None_3   NaN        NaN        NaN        1.0        1.0"
      ]
     },
     "execution_count": 19,
     "metadata": {},
     "output_type": "execute_result"
    }
   ],
   "source": [
    "import pandas as pd\n",
    "pd.read_csv('~/xmen/examples/param_match.csv', skipfooter=1, index_col=0, engine='python')"
   ]
  }
 ],
 "metadata": {
  "kernelspec": {
   "display_name": "Python 3",
   "language": "python",
   "name": "python3"
  },
  "language_info": {
   "codemirror_mode": {
    "name": "ipython",
    "version": 3
   },
   "file_extension": ".py",
   "mimetype": "text/x-python",
   "name": "python",
   "nbconvert_exporter": "python",
   "pygments_lexer": "ipython3",
   "version": "3.6.10"
  }
 },
 "nbformat": 4,
 "nbformat_minor": 4
}
