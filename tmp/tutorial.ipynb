{
 "cells": [
  {
   "cell_type": "markdown",
   "metadata": {},
   "source": [
    "# Tutorial\n",
    "Note, this tutorial corresponds to the jupyter notebook found at `xmen/examples/tutorial.ipynb`. After installing xmen you should be able to run this notebook on your local machine.\n",
    "\n",
    "## Defining Experiments\n",
    "Experiments can be defined in one of two ways:\n",
    "1. As python functions\n",
    "2. As python classes"
   ]
  },
  {
   "cell_type": "markdown",
   "metadata": {},
   "source": [
    "### Functional Experiments\n",
    "In the functional API experiments are defined as functions:\n",
    "```python\n",
    "from xmen import Root\n",
    "\n",
    "def hello_world(\n",
    "    root: Root,   # experiments are assigned a root before being executed\n",
    "    a: str = 'Hello',  # the first\n",
    "    # argument comment spans multiple lines\n",
    "    b: str = 'World'   # the second argument\n",
    "):\n",
    "    \"\"\"A hello world experiment designed to demonstrate\n",
    "    defining experiments through the functional experiment api\"\"\"\n",
    "    print(f'{a}  {b}')\n",
    "\n",
    "    ...  #  Whatever other experiment code you want\n",
    "\n",
    "    with open(root.directory + '/out.txt', 'w') as f:\n",
    "        f.write(f'{a} {b}')\n",
    "    root.message({'a': a, 'b': b})\n",
    "```\n",
    "Arguments to the function are treated as parameters, with comments next to each parameter treated as documentation. You are also encouraged to specify parameters with their type and a default value, alongside specifying the doc string of the experiment.\n",
    "\n",
    "Before being run each experiment is first linked to a driectory. This is supplied to the experiment as the first argument - defined as `root` in the example above. Principally, two methods are exposed to the experiment through root:\n",
    "1. `root.directory` gives the directory the experiment is linked to\n",
    "2. `root.message()` allows the experiment to leave simple messages (either floats, ints or strings) with the experiment root\n",
    "\n",
    "\n",
    "### Class Experiments\n",
    "Alternatively experiments can be specified as python classes:\n",
    "\n",
    "```python\n",
    "from xmen import Experiment\n",
    "\n",
    "class HelloWorld(Experiment):\n",
    "    \"\"\"A hello world experiment designed to demonstrate\n",
    "    defining experiments through the class experiment api\"\"\"\n",
    "    # Parameters\n",
    "    a: str = 'Hello'  # @p The first argument\n",
    "    b: str = 'World'  # @p The second argument\n",
    "\n",
    "    def run(self):\n",
    "        print(f'{self.a} {self.b}!')\n",
    "        \n",
    "        with open(self.directory + '/out.txt', 'w') as f:\n",
    "            f.write(f'{a} {b}')\n",
    "        self.message({'a': self.a, 'b': self.b})\n",
    "```\n",
    "In this case, all experiments must inherit from ``Experiment``. Parameters are defined as class attributes marked with a `# @p` comment - any method not marked with ``# @p`` will not be regarded as a parameter. The directory and messaging method are directly available to the experiment as class attributes.\n",
    "\n",
    "Defining experiment as python classes allows experiments to benefit from all the features of an object orientated programming approach including encapsulation and inheritance. Further examples showing the benefits of defining experiments as classes can be found in:\n",
    "- ``/xmen/examples/inheritance.py``\n",
    "- ``/xmen/examples/torch/inheritance.py``\n",
    "\n",
    "and is documented further in the ``class-api.ipynb``. "
   ]
  },
  {
   "cell_type": "markdown",
   "metadata": {},
   "source": [
    "## Xmen command line interface\n",
    "Any experiment that conforms to the xmen api can automatically be run in the commandline. This is facilitated by the `xmen` command line tool:"
   ]
  },
  {
   "cell_type": "code",
   "execution_count": 1,
   "metadata": {},
   "outputs": [
    {
     "name": "stdout",
     "output_type": "stream",
     "text": [
      "usage: xmen [-h] [--list] [--add MODULE NAME MODULE NAME] [--remove REMOVE]\n",
      "            [name [name ...]] ...\n",
      "\n",
      "||||||||||||||||||||||||| WELCOME TO ||||||||||||||||||||||||||\n",
      "||                                                           ||\n",
      "||    \\\\\\  ///  |||\\\\        //|||  |||||||||  |||\\\\   |||   ||\n",
      "||     \\\\\\///   |||\\\\\\      ///|||  |||        |||\\\\\\  |||   ||\n",
      "||      ||||    ||| \\\\\\    /// |||  ||||||     ||| \\\\\\ |||   ||\n",
      "||     ///\\\\\\   |||  \\\\\\  ///  |||  |||        |||  \\\\\\|||   ||\n",
      "||    ///  \\\\\\  |||   \\\\\\///   |||  |||||||||  |||   \\\\|||   ||\n",
      "||                                                           ||\n",
      "|||||||||||| FAST - REPRODUCIBLE - EXPERIMENTATION ||||||||||||\n",
      "\n",
      "positional arguments:\n",
      "  name                  The name of the experiment to run\n",
      "  flags                 Python flags (pass --help for more info)\n",
      "\n",
      "optional arguments:\n",
      "  -h, --help            show this help message and exit\n",
      "  --list, -l            List available python experiments\n",
      "  --add MODULE NAME MODULE NAME\n",
      "                        Add a python Experiment class or run script (it must already be on PYTHONPATH)\n",
      "  --remove REMOVE, -r REMOVE\n",
      "                        Remove a python experiment (passed by Name)\n"
     ]
    }
   ],
   "source": [
    "%%bash\n",
    "xmen"
   ]
  },
  {
   "cell_type": "markdown",
   "metadata": {},
   "source": [
    "### Adding an Experiment to Xmen"
   ]
  },
  {
   "cell_type": "markdown",
   "metadata": {},
   "source": [
    "Before being run an experiment must first be registered with ``xmen``. This is achieved by passing the module and the name of each experiment. For example the experiments defined above which are copies of ``hello_world`` and ``HelloWorld`` in `xmen.examples.hello_world` can be added as:"
   ]
  },
  {
   "cell_type": "code",
   "execution_count": 2,
   "metadata": {},
   "outputs": [],
   "source": [
    "%%bash\n",
    "xmen --add xmen.examples.hello_world hello_world\n",
    "xmen --add xmen.examples.hello_world HelloWorld"
   ]
  },
  {
   "cell_type": "markdown",
   "metadata": {},
   "source": [
    "They can now be accessed in ``xmen``:"
   ]
  },
  {
   "cell_type": "code",
   "execution_count": 3,
   "metadata": {},
   "outputs": [
    {
     "name": "stdout",
     "output_type": "stream",
     "text": [
      "A hello world experiment designed to demonstrate\n",
      "    defining experiments through the functional experiment api\n",
      "\n",
      "Parameters:\n",
      "    a: str=Hello ~ the first argument\n",
      "    b: str=World ~ the second argument\n",
      "\n",
      "For more help use --help.\n"
     ]
    }
   ],
   "source": [
    "%%bash \n",
    "xmen hello_world"
   ]
  },
  {
   "cell_type": "markdown",
   "metadata": {},
   "source": [
    "Xmen automatically takes care of the command line interface including automatically reading comments next to parameters and adding them to the experiments help, alonsidge the experiments `__doc__` string.\n",
    "\n",
    "### Executing Experiments\n",
    "Experiments are executed by passing the `-x` command line argument alongside a path to the experiments repository:"
   ]
  },
  {
   "cell_type": "code",
   "execution_count": 4,
   "metadata": {},
   "outputs": [
    {
     "name": "stdout",
     "output_type": "stream",
     "text": [
      "Hello  World\n"
     ]
    }
   ],
   "source": [
    "%%bash\n",
    "xmen hello_world -x ~/tmp/hello_world"
   ]
  },
  {
   "cell_type": "markdown",
   "metadata": {},
   "source": [
    "The parameters of the experiment can be updated by using the `-u` command line flag, specifying the parameters to update as a yaml dictionary. For example:"
   ]
  },
  {
   "cell_type": "code",
   "execution_count": 5,
   "metadata": {},
   "outputs": [
    {
     "name": "stdout",
     "output_type": "stream",
     "text": [
      "Updating parameters {'a': 'Bye Bye', 'b': 'planet'}\n",
      "Bye Bye  planet\n"
     ]
    }
   ],
   "source": [
    "%%bash\n",
    "xmen hello_world -u \"{a: Bye Bye, b: planet}\" -x ~/tmp/bye_bye"
   ]
  },
  {
   "cell_type": "markdown",
   "metadata": {},
   "source": [
    "### Automatic Record Keeping\n",
    "Alongside running the experiment `xmen` also logs all the important information to reproduce the experiment at a later date. This is logged in a ``params.yml`` in the experiment repository. For example:"
   ]
  },
  {
   "cell_type": "code",
   "execution_count": 6,
   "metadata": {},
   "outputs": [
    {
     "name": "stdout",
     "output_type": "stream",
     "text": [
      "_created: 11-16-20-21:31:30  # _created: str=now_time ~ The date the experiment was created\n",
      "_messages: # _messages: Dict[Any, Any]={} ~ Messages left by the experiment\n",
      "  a: Bye Bye\n",
      "  b: planet\n",
      "_meta: # _meta: Optional[Dict]=None ~ The global configuration for the experiment manager\n",
      "  mac: '0x6c96cfdb71b9'\n",
      "  host: robw-macbook-2.local\n",
      "  user: robweston\n",
      "  home: /Users/robweston\n",
      "_name: bye_bye # _name: Optional[str]=None ~ The name of the experiment (under root)\n",
      "_purpose: '' # _purpose: Optional[str]=None ~ A description of the experiment purpose\n",
      "_root: /Users/robweston/tmp # _root: Optional[str]=None ~ The root directory of the experiment\n",
      "_status: finished # _status: str='default' ~ One of ['default' | 'created' | 'running' | 'error' | 'finished']\n",
      "_version: # _version: Optional[Dict[Any, Any]]=None ~ Experiment version information. See `get_version`\n",
      "  module: xmen.examples.hello_world\n",
      "  function: hello_world\n",
      "  path: /Users/robweston/xmen/xmen/examples/hello_world.py\n",
      "  git:\n",
      "    local: /Users/robweston/xmen\n",
      "    remote: https://github.com/robw4/xmen.git\n",
      "    commit: c434b15c09937e5dbd4b0e3391943c272df884da\n",
      "    branch: master\n",
      "a: Bye Bye # a: str=Hello ~ the first argument\n",
      "b: planet # b: str=World ~ the second argument\n"
     ]
    }
   ],
   "source": [
    "%%bash\n",
    "cat ~/tmp/bye_bye/params.yml"
   ]
  },
  {
   "cell_type": "markdown",
   "metadata": {},
   "source": [
    "Here we can find:\n",
    "- `_created` date and time the experiment was run\n",
    "- `_messages` any messages logged with the experiment during execution\n",
    "- `_meta` information about the system the experiment was run on\n",
    "- `_status` the state of the experiment. If an error occurs during excution then the experiment state will be updated to `'errror'`.\n",
    "- `_version` the information needed to re-run the experiment. If the file lives in a git repo then the git commit, path to the repositoy and remote repository are also loggeed automatically.\n"
   ]
  },
  {
   "cell_type": "markdown",
   "metadata": {},
   "source": [
    "## Xgent command line interface"
   ]
  },
  {
   "cell_type": "markdown",
   "metadata": {},
   "source": [
    "The e`x`periment mana`g`em`ent` tool `xgent` allows multiple experiments to be quickly configured and run from the command line and is designed to easily interface with the slurm job scheduler."
   ]
  },
  {
   "cell_type": "code",
   "execution_count": 7,
   "metadata": {},
   "outputs": [
    {
     "name": "stdout",
     "output_type": "stream",
     "text": [
      "usage: xgent [-h]\n",
      "             {config,init,register,run,note,reset,unlink,clean,rm,relink,list}\n",
      "             ...\n",
      "\n",
      "||||||||||||||||||||||||||| WELCOME TO ||||||||||||||||||||||||||||\n",
      "||                                                              ||\n",
      "||          &@&@@@@@@@@@@@@@@@@@@@@@@@@@@@@@@@@@@@&@&%          ||    \n",
      "||         *@&@@@@@@@@@@@@@@@@@@@@@@@@@@@@@@@@@@@@@@@@&         ||    \n",
      "||          &@@@@@@@@@@@@@@@@@@@@@@@@@@@@@@@@@@@@@@@@&          ||    \n",
      "||           &@@@@@@@@@@@@@@@@@@@@@@@@@@@@@@@@@@@@@@@&          ||    \n",
      "||           &@@@@@@@@@@@@@@@@@@@@@@@@@@@@@@@@@@@@@@@#          ||    \n",
      "||           &@@@@@@@@@@@@@@@@@@@@@@@@@@@@@@@@@@@@@@&.          ||    \n",
      "||           &@@@@@@@@@@@@@@@@@@@@@@@@@@@@@@@@@@@@@@@.          ||    \n",
      "||           &@@@@@@@@@@@@@@@@@@@@@@@@@@@@@@@@@@@@@@@*          ||    \n",
      "||           @@@@@@@@@@@@@@@@@@@@@@@@@@@@@@@@@@@@@@@@@          ||    \n",
      "||   #&@@@@@&%&&&&&&&@@@@@@@@@@@@@@@@@@@@@@@@@&&&&&&&&@@@@@@&#  ||    \n",
      "||  /#%%%%%%%%%&&@@@@@@@@@@@@@@@@@@@@@@@@@@@@@@@@@&&%%&%%%%%%#  ||    \n",
      "||   &%&&&&&&&&&&&@@@@@@@@@@@@@@@@@@@@@@@@@@@&&@&&&&&&&&&&&&&   ||    \n",
      "||     (@@@@@@@@@@@@@@@@@@@@@@@@@@@@@@@@@@@@@@@@@@@@@@@@@@&.    ||    \n",
      "||      ...,*/#%@@@@@@@@@@@@@@@@@@@@@@@@@@@@@@@@@&##(*,...      ||    \n",
      "||                                                              ||\n",
      "||  \\\\\\  ///  |||||||||||  |||||||||  |||\\\\   |||  ||||||||||   ||\n",
      "||   \\\\\\///   |||          |||        |||\\\\\\  |||      |||      ||\n",
      "||    ||||    |||   |||||  ||||||     ||| \\\\\\ |||      |||      ||\n",
      "||   ///\\\\\\   |||     |||  |||        |||  \\\\\\|||      |||      ||\n",
      "||  ///  \\\\\\  |||||||||||  |||||||||  |||   \\\\|||      |||      ||\n",
      "||                                                              ||\n",
      "||                      %@@,     (@@/                           ||\n",
      "||                     @@@@@@@@@@@@@@@@@@@@@                    ||\n",
      "||        @@        @@@@@@@@@@@@@@@@@@@@@@@@@@/        @#       ||\n",
      "||       @@#     @@@@@@@@@@@@@@@@@@@@@@@@@@@@@@@@#     @@       ||\n",
      "||        @@@@@@@@@@@@@@@@@@@@@@@.@@@@@@@@@@@@@@@@@@@@@@.       ||\n",
      "||           ,@@@@@@@@@@@@@@@%       @@@@@@@@@@@@@@@@           ||\n",
      "||                                                              ||\n",
      "|||||||||||||| FAST - REPRODUCIBLE - EXPERIMENTATION |||||||||||||\n",
      "\n",
      "positional arguments:\n",
      "  {config,init,register,run,note,reset,unlink,clean,rm,relink,list}\n",
      "    config              View / edit the global configuration\n",
      "    init                Initialise an experiment set\n",
      "    register            Register a set of experiments\n",
      "    run                 Run experiments matching glob in experiment set that have not yetbeen run.\n",
      "    note                add notes to an experiment\n",
      "    reset               Reset an experiment to registered status\n",
      "    unlink              Unlink experiments from experiment set\n",
      "    clean               Remove unlinked experiments (DESTRUCTIVE)\n",
      "    rm                  Remove an experiment set (DESTRUCTIVE)\n",
      "    relink              Relink experiments to global configuration or to a set root\n",
      "    list                list experiments to screen\n",
      "\n",
      "optional arguments:\n",
      "  -h, --help            show this help message and exit\n"
     ]
    }
   ],
   "source": [
    "%%bash\n",
    "xgent"
   ]
  },
  {
   "cell_type": "markdown",
   "metadata": {},
   "source": [
    "### Initialising a set of experiments\n",
    "A set of experiments is initialised from a python experiment definition using the `xgent init` command. For example,"
   ]
  },
  {
   "cell_type": "code",
   "execution_count": 8,
   "metadata": {},
   "outputs": [
    {
     "name": "stdout",
     "output_type": "stream",
     "text": [
      "Generating experiment root at /Users/robweston/tmp/xgent/hello_world\n",
      "hello_world\n",
      "Experiment root created at /Users/robweston/tmp/xgent/hello_world\n"
     ]
    }
   ],
   "source": [
    "%%bash\n",
    "xgent init -n hello_world -r ~/tmp/xgent/hello_world"
   ]
  },
  {
   "cell_type": "markdown",
   "metadata": {},
   "source": [
    "### Update Defaults"
   ]
  },
  {
   "cell_type": "markdown",
   "metadata": {},
   "source": [
    "After a set of experiments has been initialised, the default parameters of the experiment can be changed by changing the `defaults.yml` generated by xgent suring the `xgent init` call:"
   ]
  },
  {
   "cell_type": "code",
   "execution_count": 9,
   "metadata": {},
   "outputs": [
    {
     "name": "stdout",
     "output_type": "stream",
     "text": [
      "/Users/robweston/tmp/xgent/hello_world\n"
     ]
    }
   ],
   "source": [
    "cd ~/tmp/xgent/hello_world"
   ]
  },
  {
   "cell_type": "code",
   "execution_count": 10,
   "metadata": {},
   "outputs": [
    {
     "name": "stdout",
     "output_type": "stream",
     "text": [
      "_created: 11-16-20-23:19:21  # _created: str=now_time ~ The date the experiment was created\n",
      "_meta: # _meta: Optional[Dict]=None ~ The global configuration for the experiment manager\n",
      "  mac: '0x6c96cfdb71b9'\n",
      "  host: robw-macbook-2.local\n",
      "  user: robweston\n",
      "  home: /Users/robweston\n",
      "_version: # _version: Optional[Dict[Any, Any]]=None ~ Experiment version information. See `get_version`\n",
      "  module: xmen.examples.hello_world\n",
      "  function: hello_world\n",
      "  path: /Users/robweston/xmen/xmen/examples/hello_world.py\n",
      "  git:\n",
      "    local: /Users/robweston/xmen\n",
      "    remote: https://github.com/robw4/xmen.git\n",
      "    commit: c434b15c09937e5dbd4b0e3391943c272df884da\n",
      "    branch: master\n",
      "a: Hello # a: str=Hello ~ the first argument\n",
      "b: World # b: str=World ~ the second argument\n"
     ]
    }
   ],
   "source": [
    "%%bash\n",
    "cat defaults.yml"
   ]
  },
  {
   "cell_type": "markdown",
   "metadata": {},
   "source": [
    "### Register an experiment"
   ]
  },
  {
   "cell_type": "markdown",
   "metadata": {},
   "source": [
    "After this experiments are registered to the experiment set using the ``xgent register`` command:"
   ]
  },
  {
   "cell_type": "code",
   "execution_count": 11,
   "metadata": {},
   "outputs": [],
   "source": [
    "%%bash\n",
    "xgent register -u \"{a: Hello | Bye, b: World | Planet}\""
   ]
  },
  {
   "cell_type": "markdown",
   "metadata": {},
   "source": [
    "The `-u` flag is used to specify the parameters that should be updated for each parameter instance. It is passed as a yaml dictionary with the `|` character used as an or operator. For example, in this case four experiments are registered corresponding to:\n",
    "\n",
    "| a       | b      |\n",
    "|---------|--------|\n",
    "| Hello   | World  |\n",
    "| Hello   | Planet |\n",
    "| Bye     | World  |\n",
    "| Bye     | Planet |\n"
   ]
  },
  {
   "cell_type": "markdown",
   "metadata": {},
   "source": [
    "The experiments registered in the experiment set are summarised using the `xgent list` command:"
   ]
  },
  {
   "cell_type": "code",
   "execution_count": 12,
   "metadata": {},
   "outputs": [
    {
     "name": "stdout",
     "output_type": "stream",
     "text": [
      "/Users/robweston/tmp/xgent/hello_world*\n",
      "          root               name      status              created\n",
      "0  hello_world   a=Hello__b=World  registered  2020-11-16-23-19-26\n",
      "1  hello_world  a=Hello__b=Planet  registered  2020-11-16-23-19-26\n",
      "2  hello_world     a=Bye__b=World  registered  2020-11-16-23-19-26\n",
      "3  hello_world    a=Bye__b=Planet  registered  2020-11-16-23-19-26\n",
      "\n",
      "Roots relative to: /Users/robweston/tmp/xgent\n"
     ]
    }
   ],
   "source": [
    "%%bash\n",
    "xgent list -sd"
   ]
  },
  {
   "cell_type": "markdown",
   "metadata": {},
   "source": [
    "### Run batches of experiments"
   ]
  },
  {
   "cell_type": "markdown",
   "metadata": {},
   "source": [
    "After registering experiments are run using the `xgent run` command:"
   ]
  },
  {
   "cell_type": "code",
   "execution_count": 13,
   "metadata": {},
   "outputs": [
    {
     "name": "stdout",
     "output_type": "stream",
     "text": [
      "Bye  Planet\n",
      "Bye  World\n",
      "Hello  Planet\n",
      "Hello  World\n",
      "\n",
      "Running: bash /Users/robweston/tmp/xgent/hello_world/a=Bye__b=Planet/run.sh\n",
      "\n",
      "Running: bash /Users/robweston/tmp/xgent/hello_world/a=Bye__b=World/run.sh\n",
      "\n",
      "Running: bash /Users/robweston/tmp/xgent/hello_world/a=Hello__b=Planet/run.sh\n",
      "\n",
      "Running: bash /Users/robweston/tmp/xgent/hello_world/a=Hello__b=World/run.sh\n"
     ]
    }
   ],
   "source": [
    "%%bash\n",
    "xgent run \"*\" bash"
   ]
  },
  {
   "cell_type": "markdown",
   "metadata": {},
   "source": [
    "If we now run"
   ]
  },
  {
   "cell_type": "code",
   "execution_count": 14,
   "metadata": {},
   "outputs": [
    {
     "name": "stdout",
     "output_type": "stream",
     "text": [
      "/Users/robweston/tmp/xgent/hello_world*\n",
      "          root               name    status              created      a       b\n",
      "0  hello_world   a=Hello__b=World  finished  2020-11-16-23-19-32  Hello   World\n",
      "1  hello_world  a=Hello__b=Planet  finished  2020-11-16-23-19-32  Hello  Planet\n",
      "2  hello_world     a=Bye__b=World  finished  2020-11-16-23-19-31    Bye   World\n",
      "3  hello_world    a=Bye__b=Planet  finished  2020-11-16-23-19-31    Bye  Planet\n",
      "\n",
      "Roots relative to: /Users/robweston/tmp/xgent\n"
     ]
    }
   ],
   "source": [
    "%%bash\n",
    "xgent list -sd -m \"a|b\""
   ]
  },
  {
   "cell_type": "markdown",
   "metadata": {},
   "source": [
    "the experiment status has been changed from registered to finished and each message has been logged. Once finished experiments cannot be re-run unless they are first re-registered. This is achieved using the `xgent reset` command:"
   ]
  },
  {
   "cell_type": "code",
   "execution_count": 15,
   "metadata": {},
   "outputs": [
    {
     "name": "stdout",
     "output_type": "stream",
     "text": [
      "Bye  Planet\n",
      "Bye  World\n",
      "Hello  Planet\n",
      "Hello  World\n",
      "\n",
      "Running: bash /Users/robweston/tmp/xgent/hello_world/a=Bye__b=Planet/run.sh\n",
      "\n",
      "Running: bash /Users/robweston/tmp/xgent/hello_world/a=Bye__b=World/run.sh\n",
      "\n",
      "Running: bash /Users/robweston/tmp/xgent/hello_world/a=Hello__b=Planet/run.sh\n",
      "\n",
      "Running: bash /Users/robweston/tmp/xgent/hello_world/a=Hello__b=World/run.sh\n",
      "/Users/robweston/tmp/xgent/hello_world*\n",
      "          root               name    status              created      a       b\n",
      "0  hello_world   a=Hello__b=World  finished  2020-11-16-23-19-39  Hello   World\n",
      "1  hello_world  a=Hello__b=Planet  finished  2020-11-16-23-19-38  Hello  Planet\n",
      "2  hello_world     a=Bye__b=World  finished  2020-11-16-23-19-38    Bye   World\n",
      "3  hello_world    a=Bye__b=Planet  finished  2020-11-16-23-19-37    Bye  Planet\n",
      "\n",
      "Roots relative to: /Users/robweston/tmp/xgent\n"
     ]
    }
   ],
   "source": [
    "%%bash\n",
    "xgent reset \"*\"\n",
    "xgent run \"*\" bash\n",
    "xgent list -sd -m \"a|b\""
   ]
  },
  {
   "cell_type": "markdown",
   "metadata": {},
   "source": [
    "In this case notice how the created time has been updated. This correpsonds to the time the experiment was last run. Various options exist for running experiments using the `xgent run` command. For example we could run each experiment in a screen command as:"
   ]
  },
  {
   "cell_type": "code",
   "execution_count": 16,
   "metadata": {},
   "outputs": [
    {
     "name": "stdout",
     "output_type": "stream",
     "text": [
      "\n",
      "Running: screen -dm bash /Users/robweston/tmp/xgent/hello_world/a=Bye__b=Planet/run.sh\n",
      "\n",
      "Running: screen -dm bash /Users/robweston/tmp/xgent/hello_world/a=Bye__b=World/run.sh\n",
      "\n",
      "Running: screen -dm bash /Users/robweston/tmp/xgent/hello_world/a=Hello__b=Planet/run.sh\n",
      "\n",
      "Running: screen -dm bash /Users/robweston/tmp/xgent/hello_world/a=Hello__b=World/run.sh\n",
      "/Users/robweston/tmp/xgent/hello_world*\n",
      "          root               name    status              created      a       b\n",
      "0  hello_world   a=Hello__b=World  finished  2020-11-16-23-19-45  Hello   World\n",
      "1  hello_world  a=Hello__b=Planet  finished  2020-11-16-23-19-45  Hello  Planet\n",
      "2  hello_world     a=Bye__b=World  finished  2020-11-16-23-19-44    Bye   World\n",
      "3  hello_world    a=Bye__b=Planet  finished  2020-11-16-23-19-44    Bye  Planet\n",
      "\n",
      "Roots relative to: /Users/robweston/tmp/xgent\n"
     ]
    }
   ],
   "source": [
    "%%bash\n",
    "xgent reset \"*\"\n",
    "xgent run \"*\" screen -dm bash\n",
    "xgent list -sd -m \"a|b\""
   ]
  },
  {
   "cell_type": "markdown",
   "metadata": {},
   "source": [
    "### Interfacing with the slurm job scheduler"
   ]
  },
  {
   "cell_type": "markdown",
   "metadata": {},
   "source": [
    "Another powerful option for running experiments on high performance computing clusters is the slurm job scheduler. To run experiments using the slurm job scheduler first add a header,"
   ]
  },
  {
   "cell_type": "code",
   "execution_count": 17,
   "metadata": {},
   "outputs": [
    {
     "name": "stdout",
     "output_type": "stream",
     "text": [
      "#SBATCH --nodes=1\n",
      "#SBATCH --job-name=single_job\n",
      "#SBATCH --time=1-00:00:00\n",
      "#SBATCH --gres=gpu:1\n",
      "#SBATCH --constraint='gpu_sku:RTX|gpu_sku:V100-LS|gpu_sku:V100|gpu_sku:P100'\n",
      "#SBATCH --partition=htc-nova,htc\n",
      "#SBATCH --cpus-per-task=2\n",
      "#SBATCH --mail-user=robw@robots.ox.ac.uk\n",
      "#SBATCH --mail-type=ALL\n",
      "#SBATCH --account=engs-a2i\n",
      "#SBATCH --signal=SIGUSR1@90\n",
      "# Author: Rob Weston\n",
      "# Email: robw@robots.ox.ac.uk\n"
     ]
    }
   ],
   "source": [
    "%%bash\n",
    "cat ~/xmen/examples/header.txt"
   ]
  },
  {
   "cell_type": "markdown",
   "metadata": {},
   "source": [
    "to the global configuration:"
   ]
  },
  {
   "cell_type": "code",
   "execution_count": 18,
   "metadata": {},
   "outputs": [],
   "source": [
    "%%bash\n",
    "xgent config -H ~/xmen/examples/header.txt"
   ]
  },
  {
   "cell_type": "markdown",
   "metadata": {},
   "source": [
    "This will be appended to each run script generated by xgent. Experiments can then be submitted using the steps described before, but this time running each job with the sbatch command:\n",
    "\n",
    "```python\n",
    "xgent run \"*\" sbatch\n",
    "```"
   ]
  },
  {
   "cell_type": "markdown",
   "metadata": {},
   "source": [
    "## Next Steps\n",
    "- For further help running any of the command line tools try `xmen --help`, `xmen hello_world --help`, `xgent --help` and `xgent ... --help`\n",
    "- More exampels of the experiments can be found in `xmen.examples`\n",
    "- Check out the API docs and the cheat sheet"
   ]
  }
 ],
 "metadata": {
  "kernelspec": {
   "display_name": "Python 3",
   "language": "python",
   "name": "python3"
  },
  "language_info": {
   "codemirror_mode": {
    "name": "ipython",
    "version": 3
   },
   "file_extension": ".py",
   "mimetype": "text/x-python",
   "name": "python",
   "nbconvert_exporter": "python",
   "pygments_lexer": "ipython3",
   "version": "3.6.8"
  }
 },
 "nbformat": 4,
 "nbformat_minor": 2
}
